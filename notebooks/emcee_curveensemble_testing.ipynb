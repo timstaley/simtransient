{
 "cells": [
  {
   "cell_type": "code",
   "execution_count": null,
   "metadata": {
    "collapsed": false
   },
   "outputs": [],
   "source": [
    "%matplotlib inline\n",
    "from datetime import date, datetime, timedelta, time\n",
    "import pandas as pd\n",
    "import seaborn\n",
    "import matplotlib.pyplot as plt\n",
    "import matplotlib as mpl\n",
    "import numpy as np"
   ]
  },
  {
   "cell_type": "code",
   "execution_count": null,
   "metadata": {
    "collapsed": false
   },
   "outputs": [],
   "source": [
    "from simlightcurve.curves import GaussExp as Gred\n",
    "from simlightcurve.solvers import find_rise_t, find_peak\n",
    "import scipy.optimize as op\n",
    "import emcee\n",
    "from simtransient.models.supernova import Sn1aOpticalEnsemble\n",
    "from scipy.stats import multivariate_normal, norm"
   ]
  },
  {
   "cell_type": "code",
   "execution_count": null,
   "metadata": {
    "collapsed": false
   },
   "outputs": [],
   "source": [
    "seaborn.set_context('poster')\n",
    "current_palette = seaborn.color_palette()"
   ]
  },
  {
   "cell_type": "code",
   "execution_count": null,
   "metadata": {
    "collapsed": false
   },
   "outputs": [],
   "source": [
    "obs_sigma=0.05\n",
    "detection_thresh = 5.\n",
    "analysis_thresh = 3."
   ]
  },
  {
   "cell_type": "markdown",
   "metadata": {},
   "source": [
    "$\\qquad =  - 0.5 \\sum_{i=1}^N \\left[ ln[2\\pi\\sigma^2] + [x_i - \\alpha]^2 / \\sigma^2  \\right]$"
   ]
  },
  {
   "cell_type": "code",
   "execution_count": null,
   "metadata": {
    "collapsed": false
   },
   "outputs": [],
   "source": [
    "def gaussian_logpdf(x, mean, sigma):\n",
    "    return -0.5*(np.log(2 * np.pi * sigma ** 2) + ((x - mean)/sigma) ** 2 )\n",
    "\n",
    "# amplitude_tail_cut = 1e-5\n",
    "# amp_minmax = (amplitude.ppf(amplitude_tail_cut), amplitude.ppf(1-amplitude_tail_cut))\n",
    "\n",
    "# def amp_prior(x):    \n",
    "#     if amp_minmax[0]<=x<=amp_minmax[1]:\n",
    "#         return gaussian_logpdf(x, amp_mean, amp_sigma)\n",
    "#     else:\n",
    "#         return -np.inf\n",
    "\n",
    "# np_rvs = norm(loc=amp_mean, scale=amp_sigma)\n",
    "# print gaussian_logpdf(0.6, amp_mean,amp_sigma)\n",
    "# print np_rvs.logpdf(0.6)\n"
   ]
  },
  {
   "cell_type": "code",
   "execution_count": null,
   "metadata": {
    "collapsed": false
   },
   "outputs": [],
   "source": [
    "ensemble = Sn1aOpticalEnsemble()\n",
    "gpar_hypers_rv = multivariate_normal(mean=ensemble.gpars.loc['mu'], \n",
    "                                     cov=ensemble.gpar_cov)"
   ]
  },
  {
   "cell_type": "code",
   "execution_count": null,
   "metadata": {
    "collapsed": false
   },
   "outputs": [],
   "source": [
    "true_gpars = pd.Series(ensemble.gpars.loc['mu'])\n",
    "true_gpars[:]= gpar_hypers_rv.rvs()\n",
    "true_gpars\n",
    "true_pars = true_gpars.copy()\n",
    "true_pars"
   ]
  },
  {
   "cell_type": "code",
   "execution_count": null,
   "metadata": {
    "collapsed": false
   },
   "outputs": [],
   "source": [
    "true_t0 = 5 #+np.random.random()*5\n",
    "true_pars['t0']=true_t0\n",
    "true_pars"
   ]
  },
  {
   "cell_type": "code",
   "execution_count": null,
   "metadata": {
    "collapsed": false
   },
   "outputs": [],
   "source": [
    "true_curve = ensemble.get_curve(*true_gpars, t0=true_t0)\n",
    "\n",
    "maxprior_curve = ensemble.get_curve(*ensemble.gpars.T.mu, t0=true_t0)"
   ]
  },
  {
   "cell_type": "code",
   "execution_count": null,
   "metadata": {
    "collapsed": false
   },
   "outputs": [],
   "source": [
    "true_curve"
   ]
  },
  {
   "cell_type": "code",
   "execution_count": null,
   "metadata": {
    "collapsed": false
   },
   "outputs": [],
   "source": [
    "maxprior_curve"
   ]
  },
  {
   "cell_type": "code",
   "execution_count": null,
   "metadata": {
    "collapsed": false
   },
   "outputs": [],
   "source": [
    "tstep = 1.5\n",
    "sim_epochs = np.arange(start = -30., stop=50, step=tstep)\n",
    "sim_data = true_curve(sim_epochs)+norm(loc=0, scale=obs_sigma).rvs(size=len(sim_epochs))\n",
    "\n",
    "sim_data = pd.Series(data=sim_data, index=sim_epochs)\n",
    "# sim_data"
   ]
  },
  {
   "cell_type": "code",
   "execution_count": null,
   "metadata": {
    "collapsed": false
   },
   "outputs": [],
   "source": [
    "threshold = obs_sigma*detection_thresh\n",
    "\n",
    "# detection_time = find_rise_t(true_curve, threshold=threshold, \n",
    "#                             t_min=true_curve.t0-2*true_curve.rise_tau, t_max=find_peak(true_curve,true_curve.t0)[0]) \n",
    "print \"Thresh:\", threshold\n",
    "detectable = sim_data[sim_data>obs_sigma*detection_thresh]\n",
    "monitorable = sim_data[sim_data>obs_sigma*analysis_thresh]\n",
    "first_detection_epoch = detectable.index[0]\n",
    "usable_data = monitorable[first_detection_epoch:]\n",
    "# usable_data"
   ]
  },
  {
   "cell_type": "code",
   "execution_count": null,
   "metadata": {
    "collapsed": false
   },
   "outputs": [],
   "source": [
    "detectable.index[0]"
   ]
  },
  {
   "cell_type": "code",
   "execution_count": null,
   "metadata": {
    "collapsed": false
   },
   "outputs": [],
   "source": [
    "seaborn.palplot(current_palette)"
   ]
  },
  {
   "cell_type": "code",
   "execution_count": null,
   "metadata": {
    "collapsed": false
   },
   "outputs": [],
   "source": [
    "tsteps= np.linspace(-30,50, 1000)\n",
    "plt.plot(tsteps, true_curve(tsteps),c='g', ls='--',label='True')\n",
    "# plt.plot(tsteps, maxprior_curve(tsteps),c='b', ls=':', label='Priori')\n",
    "# plt.plot(tsteps, true_curve(tsteps)+sigma, ls=':',c='g')\n",
    "# plt.plot(tsteps, true_curve(tsteps)-sigma, ls=':',c='g')\n",
    "\n",
    "plt.scatter(sim_data.index, sim_data,c=current_palette[2])\n",
    "\n",
    "plt.axhline(obs_sigma*detection_thresh, ls='--', label='Detection')\n",
    "plt.axhline(obs_sigma*analysis_thresh, ls='-.', label='Analysis')\n",
    "\n",
    "plt.scatter(usable_data.index, usable_data,c=current_palette[1],s=55)\n",
    "\n",
    "# plt.yscale('log')\n",
    "# plt.axhline(true_amp, ls=':')\n",
    "\n",
    "# plt.axvline(true_t0, ls='--')\n",
    "plt.ylim(-0.2,.8)\n",
    "plt.legend()\n"
   ]
  },
  {
   "cell_type": "code",
   "execution_count": null,
   "metadata": {
    "collapsed": false
   },
   "outputs": [],
   "source": [
    "# support = np.linspace(amplitude.ppf(0.01), amplitude.ppf(.99), 100)\n",
    "# plt.plot(support, amplitude.pdf(support))\n",
    "# # plt.plot(support, np.log(amplitude.pdf(support)))\n",
    "# plt.plot(support, amp_prior(support))"
   ]
  },
  {
   "cell_type": "code",
   "execution_count": null,
   "metadata": {
    "collapsed": false
   },
   "outputs": [],
   "source": [
    "#Detect:\n",
    "n_data_epochs = 3\n",
    "obs_data = usable_data.iloc[:n_data_epochs]\n",
    "obs_data"
   ]
  },
  {
   "cell_type": "code",
   "execution_count": null,
   "metadata": {
    "collapsed": false
   },
   "outputs": [],
   "source": [
    "# comparison = pd.DataFrame(index=usable_data.index, data={'noisy':usable_data, 'true':true_curve(usable_data.index)})\n",
    "# comparison['err'] = comparison.true - comparison.noisy\n",
    "# comparison.plot()"
   ]
  },
  {
   "cell_type": "code",
   "execution_count": null,
   "metadata": {
    "collapsed": false
   },
   "outputs": [],
   "source": [
    "zero_t0_curve = ensemble.get_curve(*ensemble.gpars.T.mu, t0=0)"
   ]
  },
  {
   "cell_type": "code",
   "execution_count": null,
   "metadata": {
    "collapsed": false
   },
   "outputs": [],
   "source": [
    "detection_t0_offset = find_rise_t(zero_t0_curve, threshold=obs_data.iloc[0], \n",
    "                                     t_min=-2*zero_t0_curve.rise_tau, t_max=0)\n",
    "t0_guess = obs_data.index[0]-detection_t0_offset\n",
    "print t0_guess, true_t0"
   ]
  },
  {
   "cell_type": "code",
   "execution_count": null,
   "metadata": {
    "collapsed": true
   },
   "outputs": [],
   "source": [
    "maxprior_curve = ensemble.get_curve(*ensemble.gpars.T.mu,t0=t0_guess)"
   ]
  },
  {
   "cell_type": "markdown",
   "metadata": {},
   "source": [
    "$$\n",
    " \\textrm{gauss_lnlikelihood} =  - 0.5 \\sum_{i=1}^N \\left[ ln[2\\pi\\sigma^2] + [x_i - \\alpha]^2 / \\sigma^2  \\right]\n",
    "$$"
   ]
  },
  {
   "cell_type": "code",
   "execution_count": null,
   "metadata": {
    "collapsed": false
   },
   "outputs": [],
   "source": [
    "def gauss_lnlikelihood(model_pars, model_ensemble, obs_data, obs_sigma):\n",
    "    \"\"\"\n",
    "    Basic observation likelihood assuming unbiased Gaussian noise of width ``obs_sigma``.\n",
    "    \"\"\"\n",
    "    intrinsic_fluxes = model_ensemble.evaluate(obs_data.index, *model_pars)\n",
    "    return -0.5 * np.sum(np.log(2 * np.pi * obs_sigma ** 2) + ((obs_data-intrinsic_fluxes) /obs_sigma) ** 2)\n",
    "#     return -0.5 * np.sum( ((obs_data.values-intrinsic_fluxes) /obs_sigma) ** 2)"
   ]
  },
  {
   "cell_type": "code",
   "execution_count": null,
   "metadata": {
    "collapsed": false
   },
   "outputs": [],
   "source": [
    "init_model_pars = pd.Series(ensemble.gpars.T.mu)\n",
    "init_model_pars.name=\"SN1a Params\"\n",
    "init_model_pars['t0']=t0_guess\n",
    "init_model_pars"
   ]
  },
  {
   "cell_type": "code",
   "execution_count": null,
   "metadata": {
    "collapsed": false
   },
   "outputs": [],
   "source": [
    "gauss_lnlikelihood(init_model_pars, ensemble,obs_data,obs_sigma)"
   ]
  },
  {
   "cell_type": "code",
   "execution_count": null,
   "metadata": {
    "collapsed": false
   },
   "outputs": [],
   "source": [
    "neg_likelihood = lambda *args: -gauss_lnlikelihood(*args)\n",
    "results = op.minimize(neg_likelihood, init_model_pars, args=(ensemble,obs_data, obs_sigma))\n",
    "results.x\n",
    "# print t0_guess, results.x, t0_guess - results.x"
   ]
  },
  {
   "cell_type": "code",
   "execution_count": null,
   "metadata": {
    "collapsed": false
   },
   "outputs": [],
   "source": [
    "max_likelihood_pars = init_model_pars.copy()\n",
    "max_likelihood_pars[:]=results.x\n",
    "max_likelihood_pars"
   ]
  },
  {
   "cell_type": "code",
   "execution_count": null,
   "metadata": {
    "collapsed": true
   },
   "outputs": [],
   "source": [
    "ml_curve=ensemble.get_curve(**max_likelihood_pars)"
   ]
  },
  {
   "cell_type": "code",
   "execution_count": null,
   "metadata": {
    "collapsed": true
   },
   "outputs": [],
   "source": [
    "def t0_prior(t0):\n",
    "#     return 0.0\n",
    "    tmin,tmax = -60.,40\n",
    "    if tmin<= t0 < tmax:\n",
    "        return np.log(1/(tmax-tmin))\n",
    "    return -np.inf\n",
    "\n",
    "def sn1a_lnprior(model_pars):\n",
    "    return ensemble.gpar_lnprior(model_pars[:-1]) + t0_prior(model_pars[-1])\n",
    "\n",
    "def sn1a_lnprob(model_pars, model_ensemble, obs_data, obs_sigma):\n",
    "    lp = sn1a_lnprior(model_pars)\n",
    "    if not np.isfinite(lp):\n",
    "        prob = -np.inf\n",
    "    else:\n",
    "        prob = lp + gauss_lnlikelihood(model_pars, model_ensemble,obs_data,obs_sigma)\n",
    "    return prob"
   ]
  },
  {
   "cell_type": "code",
   "execution_count": null,
   "metadata": {
    "collapsed": false
   },
   "outputs": [],
   "source": [
    "sn1a_lnprior(max_likelihood_pars), sn1a_lnprior(init_model_pars), sn1a_lnprior(true_pars)"
   ]
  },
  {
   "cell_type": "code",
   "execution_count": null,
   "metadata": {
    "collapsed": false
   },
   "outputs": [],
   "source": [
    "sn1a_lnprob(true_pars, ensemble, obs_data, obs_sigma)"
   ]
  },
  {
   "cell_type": "code",
   "execution_count": null,
   "metadata": {
    "collapsed": false
   },
   "outputs": [],
   "source": [
    "neg_lnprob = lambda *args: -sn1a_lnprob(*args)\n",
    "results = op.minimize(neg_lnprob, init_model_pars, args=(ensemble,obs_data, obs_sigma))\n",
    "# results.x\n",
    "map_pars = init_model_pars.copy()\n",
    "map_pars[:]=results.x\n",
    "map_pars\n"
   ]
  },
  {
   "cell_type": "code",
   "execution_count": null,
   "metadata": {
    "collapsed": false
   },
   "outputs": [],
   "source": [
    "map_curve = ensemble.get_curve(**map_pars)"
   ]
  },
  {
   "cell_type": "code",
   "execution_count": null,
   "metadata": {
    "collapsed": false
   },
   "outputs": [],
   "source": [
    "plt.plot(tsteps,true_curve(tsteps), ls='--', label='true')\n",
    "\n",
    "plt.plot(tsteps,maxprior_curve(tsteps), ls='--', label='Prior + rise fit')\n",
    "\n",
    "# plt.plot(tsteps,ml_curve(tsteps), ls='--', label='ML')\n",
    "plt.plot(tsteps,map_curve(tsteps), ls='--', label='MAP')\n",
    "plt.scatter(obs_data.index, obs_data, s=50)\n",
    "plt.errorbar(obs_data.index, obs_data, yerr=1*obs_sigma, c=current_palette[2], linewidth=0,elinewidth=3, ms=16, marker='.')\n",
    "plt.errorbar(obs_data.index, obs_data, yerr=2*obs_sigma, c=current_palette[2], linewidth=0,elinewidth=1.5)\n",
    "plt.ylim(0,1.6)\n",
    "plt.legend()"
   ]
  },
  {
   "cell_type": "code",
   "execution_count": null,
   "metadata": {
    "collapsed": false
   },
   "outputs": [],
   "source": [
    "ndim = len(map_pars)  # number of parameters in the model\n",
    "nwalkers = 50  # number of MCMC walkers\n",
    "nsteps = 500  # number of MCMC steps to take\n",
    "# nsteps = 2  # number of MCMC steps to take\n",
    "# nburn=1\n",
    "nthreads=4\n",
    "#for PT\n",
    "ntemps=20\n",
    "\n",
    "\n",
    "theta_init = map_pars.values\n",
    "\n",
    "# pos = [starting_point+ 1e-4*np.random.randn(ndim) for i in range(nwalkers)]\n",
    "# pos = [starting_point+ 1e-4*np.random.randn(ndim) for i in range(nwalkers)]\n",
    "\n",
    "prop_scale=4\n",
    "\n",
    "nwalkers= nwalkers*5\n",
    "en_sampler = emcee.EnsembleSampler(nwalkers, ndim, sn1a_lnprob, \n",
    "                                a=prop_scale, \n",
    "                                args=(ensemble,obs_data, obs_sigma),\n",
    "                                threads=nthreads)\n",
    "\n",
    "\n",
    "en_theta_init_ball = theta_init+ 1e-4*np.random.randn(nwalkers*ndim).reshape(nwalkers,ndim)\n",
    "\n",
    "#PT needs extra Ntemps dimension:\n",
    "\n",
    "# pt_theta_init_ball = np.random.uniform(low=-1.0, high=1.0, size=(ntemps, nwalkers, ndim))\n",
    "pt_t0_init = theta_init+ 1e-4*np.random.randn(ndim*nwalkers*ntemps).reshape(ntemps,nwalkers,ndim)\n",
    "pt_sampler = emcee.PTSampler(ntemps,\n",
    "                          nwalkers, ndim, \n",
    "                          logl=gauss_lnlikelihood,\n",
    "                          logp=sn1a_lnprior, \n",
    "                          a=prop_scale, \n",
    "                          loglargs=(ensemble,obs_data, obs_sigma),\n",
    "                          logpargs=(),\n",
    "                          threads=nthreads\n",
    "                          )\n",
    "sampler=en_sampler\n",
    "theta_init_ball = en_theta_init_ball\n",
    "\n",
    "# sampler=pt_sampler\n",
    "# theta_init_ball = pt_theta_init_ball"
   ]
  },
  {
   "cell_type": "code",
   "execution_count": null,
   "metadata": {
    "collapsed": false
   },
   "outputs": [],
   "source": [
    "# theta_init_ball"
   ]
  },
  {
   "cell_type": "code",
   "execution_count": null,
   "metadata": {
    "collapsed": false
   },
   "outputs": [],
   "source": [
    "sampler.reset()\n",
    "_=sampler.run_mcmc(theta_init_ball, nsteps)\n",
    "print \"Done\""
   ]
  },
  {
   "cell_type": "code",
   "execution_count": null,
   "metadata": {
    "collapsed": false
   },
   "outputs": [],
   "source": [
    "\n",
    "acorr = np.ceil(np.max(sampler.get_autocorr_time()))\n",
    "print \"Acorr array:\",sampler.acor\n",
    "print \"Acorr:\", acorr\n",
    "nburn=np.ceil(acorr*2.5)\n",
    "print \"nburn:\", nburn\n",
    "#Ensemble\n",
    "samples=sampler.chain[:,nburn::acorr,:]\n",
    "samples.reshape(-1,ndim)\n",
    "plotchain=sampler.chain\n",
    "acceptance = np.median(sampler.acceptance_fraction)\n",
    "\n",
    "#PT\n",
    "# plotchain=sampler.chain[0]\n",
    "# samples=sampler.chain[0][:,nburn::acorr,:].ravel()\n",
    "# acceptance = np.median(sampler.acceptance_fraction[0])\n",
    "\n",
    "print \"Acceptance:\", acceptance\n"
   ]
  },
  {
   "cell_type": "code",
   "execution_count": null,
   "metadata": {
    "collapsed": false
   },
   "outputs": [],
   "source": [
    "map_pars"
   ]
  },
  {
   "cell_type": "code",
   "execution_count": null,
   "metadata": {
    "collapsed": false
   },
   "outputs": [],
   "source": [
    "varindex = 3\n",
    "plt.subplot(2,1,1)\n",
    "for walker in plotchain[:,:,varindex]:\n",
    "    plt.plot(walker)\n",
    "plt.axvline(nburn, ls=':', color='k')\n",
    "print \"Acorr\",sampler.get_autocorr_time()\n",
    "print \"Acceptance\",acceptance\n",
    "plt.subplot(2,1,2)\n",
    "for walker in plotchain[:,::acorr,varindex]:\n",
    "    plt.plot(walker)"
   ]
  },
  {
   "cell_type": "code",
   "execution_count": null,
   "metadata": {
    "collapsed": false
   },
   "outputs": [],
   "source": []
  },
  {
   "cell_type": "code",
   "execution_count": null,
   "metadata": {
    "collapsed": false
   },
   "outputs": [],
   "source": [
    "varindex=3\n",
    "plt.hist(plotchain[:,nburn::1,varindex].ravel(),normed=True,alpha=0.8)\n",
    "plt.hist(plotchain[:,nburn::acorr,varindex].ravel(),normed=True,alpha=0.5)"
   ]
  },
  {
   "cell_type": "code",
   "execution_count": null,
   "metadata": {
    "collapsed": false
   },
   "outputs": [],
   "source": [
    "samples = samples.ravel().reshape(-1,ndim)\n",
    "samples.shape"
   ]
  },
  {
   "cell_type": "code",
   "execution_count": null,
   "metadata": {
    "collapsed": false
   },
   "outputs": [],
   "source": [
    "plt.hexbin(samples[:,0], samples[:,1])"
   ]
  },
  {
   "cell_type": "code",
   "execution_count": null,
   "metadata": {
    "collapsed": false
   },
   "outputs": [],
   "source": [
    "import triangle"
   ]
  },
  {
   "cell_type": "code",
   "execution_count": null,
   "metadata": {
    "collapsed": false
   },
   "outputs": [],
   "source": [
    "figure = triangle.corner(samples, truths=true_pars.values, labels=true_pars.keys())"
   ]
  },
  {
   "cell_type": "code",
   "execution_count": null,
   "metadata": {
    "collapsed": false
   },
   "outputs": [],
   "source": [
    "print len(samples)\n",
    "subsamples = samples[np.random.randint(len(samples),size=100)]\n",
    "\n",
    "    \n",
    "forecasts = []\n",
    "\n",
    "for theta in subsamples:\n",
    "    forecast_curve=ensemble.get_curve(*theta)\n",
    "    values = forecast_curve(tsteps)\n",
    "    forecasts.append(values)\n",
    "\n",
    "forecasts = np.asarray(forecasts)\n",
    "forecasts.shape"
   ]
  },
  {
   "cell_type": "code",
   "execution_count": null,
   "metadata": {
    "collapsed": false
   },
   "outputs": [],
   "source": [
    "# np.max(subsamples_t0[:,1])\n",
    "# subsamples"
   ]
  },
  {
   "cell_type": "code",
   "execution_count": null,
   "metadata": {
    "collapsed": false
   },
   "outputs": [],
   "source": [
    "#Forecast:\n",
    "# t_forecast= 15\n",
    "# forecast_data=[zero_t0_class2(t_forecast - t0) for t0 in samples]"
   ]
  },
  {
   "cell_type": "code",
   "execution_count": null,
   "metadata": {
    "collapsed": false
   },
   "outputs": [],
   "source": [
    "from matplotlib import gridspec\n",
    "\n",
    "fig = plt.figure() \n",
    "# fig, axes = plt.subplots(nrows=1, ncols=2,\n",
    "# #                          sharey=True, \n",
    "# #                          figsize=(18,6)\n",
    "#                          )\n",
    "\n",
    "seaborn.set_context('poster')\n",
    "gs = gridspec.GridSpec(1,2, width_ratios=[3,1])\n",
    "\n",
    "ts_axes = plt.subplot(gs[0])\n",
    "\n",
    "seaborn.tsplot( forecasts,  tsteps, err_style=\"unit_traces\", ax=ts_axes, \n",
    "#                ls=''\n",
    "              )\n",
    "# seaborn.tsplot(curves,  tsteps, \n",
    "#                err_style=\"ci_band\",\n",
    "#                color='k', ax=ts_axes)\n",
    "ts_axes.plot(tsteps,true_curve(tsteps), ls='--', c='y',label='true', lw='5')\n",
    "\n",
    "ts_axes.scatter(obs_data.index,obs_data, c='r', s=200,zorder=10)\n",
    "# ts_axes.errorbar(t_data,noisy_flux, c='y',yerr=sigma,zorder=10)\n",
    "# ts_axes.axvline(t_forecast, ls=':')\n",
    "# ts_axes.axhline(np.mean(forecast_data), ls=':')\n",
    "\n",
    "# hist_axes = plt.subplot(gs[1])\n",
    "# hist_axes.hist(forecast_data, orientation='horizontal')\n",
    "# _=hist_axes.set_ylim(ts_axes.get_ylim())\n",
    "plt.legend()\n",
    "# plt.savefig('test.png')"
   ]
  },
  {
   "cell_type": "code",
   "execution_count": null,
   "metadata": {
    "collapsed": false
   },
   "outputs": [],
   "source": []
  }
 ],
 "metadata": {
  "kernelspec": {
   "display_name": "Python 2",
   "language": "python",
   "name": "python2"
  },
  "language_info": {
   "codemirror_mode": {
    "name": "ipython",
    "version": 2
   },
   "file_extension": ".py",
   "mimetype": "text/x-python",
   "name": "python",
   "nbconvert_exporter": "python",
   "pygments_lexer": "ipython2",
   "version": "2.7.6"
  }
 },
 "nbformat": 4,
 "nbformat_minor": 0
}
