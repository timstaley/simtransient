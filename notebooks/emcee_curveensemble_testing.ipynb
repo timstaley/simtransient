{
 "cells": [
  {
   "cell_type": "code",
   "execution_count": null,
   "metadata": {
    "collapsed": false
   },
   "outputs": [],
   "source": [
    "%matplotlib inline\n",
    "%load_ext autoreload\n",
    "%autoreload 2\n",
    "from datetime import date, datetime, timedelta, time\n",
    "import pandas as pd\n",
    "import seaborn\n",
    "import matplotlib.pyplot as plt\n",
    "import matplotlib as mpl\n",
    "import numpy as np\n",
    "import emcee\n",
    "import triangle\n",
    "from scipy.stats import multivariate_normal, norm\n",
    "import pathos.multiprocessing as pathos_mp"
   ]
  },
  {
   "cell_type": "code",
   "execution_count": null,
   "metadata": {
    "collapsed": false
   },
   "outputs": [],
   "source": [
    "from simlightcurve.solvers import find_rise_t, find_peak\n",
    "import scipy.optimize as op\n",
    "from simtransient.models.supernova import Sn1aOpticalEnsemble\n",
    "from simtransient.modelrun import ModelRun\n",
    "import simtransient.utils as stutils\n",
    "from simtransient import measures, hammer\n",
    "import simtransient.plot as stplot\n"
   ]
  },
  {
   "cell_type": "code",
   "execution_count": null,
   "metadata": {
    "collapsed": false
   },
   "outputs": [],
   "source": [
    "# seaborn.set_context('talk')\n",
    "seaborn.set_context('poster')\n",
    "current_palette = seaborn.color_palette()\n",
    "#Poster\n",
    "# bigfontsize=40\n",
    "# labelfontsize=35\n",
    "# tickfontsize=25\n",
    "#Paper\n",
    "bigfontsize=20\n",
    "labelfontsize=18\n",
    "tickfontsize=18\n",
    "plt.rcParams.update({'font.size': bigfontsize,\n",
    "                     'axes.labelsize':labelfontsize,\n",
    "                     'xtick.labelsize':tickfontsize,\n",
    "                     'ytick.labelsize':tickfontsize,\n",
    "                     'legend.fontsize':tickfontsize,\n",
    "                     })"
   ]
  },
  {
   "cell_type": "code",
   "execution_count": null,
   "metadata": {
    "collapsed": false
   },
   "outputs": [],
   "source": [
    "obs_sigma=1\n",
    "detection_thresh = 5.\n",
    "analysis_thresh = 3."
   ]
  },
  {
   "cell_type": "code",
   "execution_count": null,
   "metadata": {
    "collapsed": false
   },
   "outputs": [],
   "source": [
    "true_ensemble = Sn1aOpticalEnsemble()\n",
    "gpar_hypers_rv = multivariate_normal(mean=true_ensemble.gauss_pars.loc['mu'], \n",
    "                                     cov=true_ensemble.gauss_cov)"
   ]
  },
  {
   "cell_type": "code",
   "execution_count": null,
   "metadata": {
    "collapsed": false
   },
   "outputs": [],
   "source": [
    "true_ensemble.gauss_pars"
   ]
  },
  {
   "cell_type": "code",
   "execution_count": null,
   "metadata": {
    "collapsed": false
   },
   "outputs": [],
   "source": [
    "true_gpars = pd.Series(true_ensemble.gauss_pars.T.mu)\n",
    "true_gpars[:]= gpar_hypers_rv.rvs()"
   ]
  },
  {
   "cell_type": "code",
   "execution_count": null,
   "metadata": {
    "collapsed": false
   },
   "outputs": [],
   "source": [
    "true_t0 = 5 #+np.random.random()*5\n",
    "true_pars = true_gpars.copy()\n",
    "true_pars['t0']=true_t0\n",
    "# true_pars.a=\n",
    "true_pars"
   ]
  },
  {
   "cell_type": "code",
   "execution_count": null,
   "metadata": {
    "collapsed": false
   },
   "outputs": [],
   "source": [
    "true_curve = true_ensemble.get_curve(**true_pars)"
   ]
  },
  {
   "cell_type": "code",
   "execution_count": null,
   "metadata": {
    "collapsed": false
   },
   "outputs": [],
   "source": [
    "tstep = 3.5\n",
    "sim_epochs = np.arange(start = -30., stop=50, step=tstep)\n",
    "sim_data = true_curve(sim_epochs)+norm(scale=obs_sigma).rvs(size=len(sim_epochs))\n",
    "\n",
    "sim_data = pd.Series(data=sim_data, index=sim_epochs)\n",
    "# sim_data"
   ]
  },
  {
   "cell_type": "code",
   "execution_count": null,
   "metadata": {
    "collapsed": false
   },
   "outputs": [],
   "source": [
    "threshold = obs_sigma*detection_thresh\n",
    "\n",
    "print \"Thresh:\", threshold\n",
    "detectable = sim_data[sim_data>obs_sigma*detection_thresh]\n",
    "monitorable = sim_data[sim_data>obs_sigma*analysis_thresh]\n",
    "first_detection_epoch = detectable.index[0]\n",
    "usable_data = monitorable[first_detection_epoch:]\n",
    "# usable_data"
   ]
  },
  {
   "cell_type": "code",
   "execution_count": null,
   "metadata": {
    "collapsed": false
   },
   "outputs": [],
   "source": [
    "#Detect:\n",
    "n_data_epochs = 3\n",
    "obs_data = usable_data.iloc[:n_data_epochs]\n",
    "# obs_data = usable_data.iloc[::2].iloc[:3]\n",
    "obs_data"
   ]
  },
  {
   "cell_type": "code",
   "execution_count": null,
   "metadata": {
    "collapsed": false
   },
   "outputs": [],
   "source": [
    "seaborn.set_style('darkgrid')\n",
    "seaborn.palplot(current_palette)"
   ]
  },
  {
   "cell_type": "code",
   "execution_count": null,
   "metadata": {
    "collapsed": false
   },
   "outputs": [],
   "source": [
    "tsteps= np.linspace(-30,50, 1000)\n",
    "plt.plot(tsteps, true_curve(tsteps),c='y', ls='--',label='True')\n",
    "\n",
    "plt.scatter(sim_data.index, sim_data,c=current_palette[2])\n",
    "\n",
    "plt.axhline(obs_sigma*detection_thresh, ls='--', label='Detection')\n",
    "plt.axhline(obs_sigma*analysis_thresh, ls='-.', label='Analysis')\n",
    "\n",
    "# plt.scatter(usable_data.index, usable_data,color=current_palette[1],s=55)\n",
    "stplot.curve.graded_errorbar(usable_data,obs_sigma,alpha=0.5)\n",
    "\n",
    "#Data we'll be using for fitting:\n",
    "plt.scatter(obs_data.index,obs_data,\n",
    "            color=current_palette[-1],s=160, lw=3, marker='x',\n",
    "           label='Fitted data')\n",
    "\n",
    "# plt.yscale('log')\n",
    "# plt.axhline(true_amp, ls=':')\n",
    "\n",
    "# plt.axvline(true_t0, ls='--')\n",
    "plt.ylim(-1.05*np.abs(np.min(usable_data)),1.1*np.max(usable_data+2*obs_sigma))\n",
    "plt.legend(loc='best')\n",
    "plt.gcf().suptitle('Model, observables, detections')\n"
   ]
  },
  {
   "cell_type": "code",
   "execution_count": null,
   "metadata": {
    "collapsed": false
   },
   "outputs": [],
   "source": [
    "# detection_t0_offset = find_rise_t(zero_t0_curve, threshold=obs_data.iloc[0], \n",
    "#                                      t_min=-3*zero_t0_curve.rise_tau, t_max=1)\n",
    "# t0_guess = obs_data.index[0]-detection_t0_offset\n",
    "# print t0_guess, true_t0"
   ]
  },
  {
   "cell_type": "code",
   "execution_count": null,
   "metadata": {
    "collapsed": true
   },
   "outputs": [],
   "source": [
    "model1=Sn1aOpticalEnsemble()"
   ]
  },
  {
   "cell_type": "code",
   "execution_count": null,
   "metadata": {
    "collapsed": false
   },
   "outputs": [],
   "source": [
    "# pool = pathos_mp.Pool(4)\n",
    "mr1= ModelRun(ensemble=model1, \n",
    "              obs_data=obs_data, obs_sigma=obs_sigma,\n",
    "              use_pt=False,\n",
    "             emcee_kwargs=dict(\n",
    "#                               pool=pool,\n",
    "                              threads=1\n",
    "                              ),\n",
    "             )\n",
    "mr1.fit_data()\n"
   ]
  },
  {
   "cell_type": "code",
   "execution_count": null,
   "metadata": {
    "collapsed": false
   },
   "outputs": [],
   "source": [
    "seaborn.set_style('dark')\n",
    "\n",
    "data_color = current_palette[1]\n",
    "stplot.curve.graded_errorbar(obs_data, obs_sigma, color=data_color, alpha=0.8, label='Data')\n",
    "plt.plot(tsteps,mr1.ml_curve(tsteps), ls='-.',lw=5, label='ML',c=current_palette[0])\n",
    "plt.plot(tsteps,mr1.map_curve(tsteps), ls='-', label='MAP', c=current_palette[0], zorder=1)\n",
    "plt.plot(tsteps,true_curve(tsteps), ls='--', lw=5,label='True', c=current_palette[-2])\n",
    "\n",
    "# plt.errorbar(obs_data.index, obs_data, color=data_color)\n",
    "plt.ylim(0,max(obs_data)+3*obs_sigma)\n",
    "plt.legend()"
   ]
  },
  {
   "cell_type": "code",
   "execution_count": null,
   "metadata": {
    "collapsed": false
   },
   "outputs": [],
   "source": [
    "_ = mr1.run(100)"
   ]
  },
  {
   "cell_type": "code",
   "execution_count": null,
   "metadata": {
    "collapsed": false
   },
   "outputs": [],
   "source": [
    "mr1.chainstats"
   ]
  },
  {
   "cell_type": "code",
   "execution_count": null,
   "metadata": {
    "collapsed": false
   },
   "outputs": [],
   "source": [
    "mr1.plot_walkers()"
   ]
  },
  {
   "cell_type": "code",
   "execution_count": null,
   "metadata": {
    "collapsed": false
   },
   "outputs": [],
   "source": [
    "mr1.plot_hists()"
   ]
  },
  {
   "cell_type": "code",
   "execution_count": null,
   "metadata": {
    "collapsed": false
   },
   "outputs": [],
   "source": [
    "mr1.plot_triangle()"
   ]
  },
  {
   "cell_type": "code",
   "execution_count": null,
   "metadata": {
    "collapsed": false
   },
   "outputs": [],
   "source": [
    "mr1.trimmed.shape"
   ]
  },
  {
   "cell_type": "code",
   "execution_count": null,
   "metadata": {
    "collapsed": false
   },
   "outputs": [],
   "source": [
    "mr1.plot_forecast(tsteps,\n",
    "                  true_curve=true_curve,\n",
    "                 subsample_size = 150,\n",
    "                 )\n",
    "\n",
    "# plt.plot(tsteps,mr1.ensemble.get_curve(**mr1.init_pars)(tsteps),c='r',lw=5)\n",
    "# plt.plot(tsteps,mr1.map_curve(tsteps),c='y',lw=5)"
   ]
  },
  {
   "cell_type": "code",
   "execution_count": null,
   "metadata": {
    "collapsed": true
   },
   "outputs": [],
   "source": []
  }
 ],
 "metadata": {
  "kernelspec": {
   "display_name": "Python 2",
   "language": "python",
   "name": "python2"
  },
  "language_info": {
   "codemirror_mode": {
    "name": "ipython",
    "version": 2
   },
   "file_extension": ".py",
   "mimetype": "text/x-python",
   "name": "python",
   "nbconvert_exporter": "python",
   "pygments_lexer": "ipython2",
   "version": "2.7.6"
  }
 },
 "nbformat": 4,
 "nbformat_minor": 0
}
