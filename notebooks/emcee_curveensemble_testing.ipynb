{
 "cells": [
  {
   "cell_type": "code",
   "execution_count": null,
   "metadata": {
    "collapsed": false
   },
   "outputs": [],
   "source": [
    "%matplotlib inline\n",
    "%load_ext autoreload\n",
    "%autoreload 2\n",
    "import numpy as np\n",
    "import matplotlib.pyplot as plt\n",
    "import pandas as pd\n",
    "import seaborn\n",
    "from scipy.stats import multivariate_normal, norm\n",
    "from statsmodels.nonparametric.kde import KDEUnivariate"
   ]
  },
  {
   "cell_type": "code",
   "execution_count": null,
   "metadata": {
    "collapsed": false
   },
   "outputs": [],
   "source": [
    "from simtransient.models.supernova import Sn1aOpticalEnsemble, Sn2OpticalEnsemble\n",
    "from simtransient.modelrun import ModelRun\n",
    "import simtransient.utils as stutils\n",
    "from simtransient import measures, hammer\n",
    "import simtransient.plot as stplot\n"
   ]
  },
  {
   "cell_type": "code",
   "execution_count": null,
   "metadata": {
    "collapsed": false
   },
   "outputs": [],
   "source": [
    "# seaborn.set_context('talk')\n",
    "seaborn.set_context('poster')\n",
    "current_palette = seaborn.color_palette()\n",
    "#Poster\n",
    "# bigfontsize=40\n",
    "# labelfontsize=35\n",
    "# tickfontsize=25\n",
    "#Paper\n",
    "bigfontsize=20\n",
    "labelfontsize=18\n",
    "tickfontsize=18\n",
    "plt.rcParams.update({'font.size': bigfontsize,\n",
    "                     'axes.labelsize':labelfontsize,\n",
    "                     'xtick.labelsize':tickfontsize,\n",
    "                     'ytick.labelsize':tickfontsize,\n",
    "                     'legend.fontsize':tickfontsize,\n",
    "                     })"
   ]
  },
  {
   "cell_type": "code",
   "execution_count": null,
   "metadata": {
    "collapsed": false
   },
   "outputs": [],
   "source": [
    "obs_sigma=1\n",
    "detection_thresh = 4.\n",
    "analysis_thresh = 2.5"
   ]
  },
  {
   "cell_type": "code",
   "execution_count": null,
   "metadata": {
    "collapsed": false
   },
   "outputs": [],
   "source": [
    "true_ensemble = Sn1aOpticalEnsemble()\n",
    "gpar_hypers_rv = multivariate_normal(mean=true_ensemble.gauss_pars.loc['mu'], \n",
    "                                     cov=true_ensemble.gauss_cov)"
   ]
  },
  {
   "cell_type": "code",
   "execution_count": null,
   "metadata": {
    "collapsed": false
   },
   "outputs": [],
   "source": [
    "true_ensemble.gauss_pars"
   ]
  },
  {
   "cell_type": "code",
   "execution_count": null,
   "metadata": {
    "collapsed": false
   },
   "outputs": [],
   "source": [
    "true_gpars = pd.Series(true_ensemble.gauss_pars.T.mu)\n",
    "true_gpars[:]= gpar_hypers_rv.rvs()\n",
    "true_t0 = 5 #+np.random.random()*5\n",
    "true_pars = true_gpars.copy()\n",
    "true_pars['t0']=true_t0\n",
    "\n",
    "true_pars.a=15.053480\n",
    "true_pars.rise_tau  =   2.803343\n",
    "true_pars.decay_tau =    12.711032\n",
    "true_pars"
   ]
  },
  {
   "cell_type": "code",
   "execution_count": null,
   "metadata": {
    "collapsed": false
   },
   "outputs": [],
   "source": [
    "true_curve = true_ensemble.get_curve(**true_pars)"
   ]
  },
  {
   "cell_type": "code",
   "execution_count": null,
   "metadata": {
    "collapsed": true
   },
   "outputs": [],
   "source": [
    "tstep = 3.5\n",
    "sim_epochs = np.arange(start = -30., stop=50, step=tstep)"
   ]
  },
  {
   "cell_type": "code",
   "execution_count": null,
   "metadata": {
    "collapsed": false
   },
   "outputs": [],
   "source": [
    "rstate = np.random.RandomState(1)\n",
    "noise_offsets = rstate.normal(scale=obs_sigma,size=len(sim_epochs))\n",
    "# plt.plot(noise_offsets)"
   ]
  },
  {
   "cell_type": "code",
   "execution_count": null,
   "metadata": {
    "collapsed": false
   },
   "outputs": [],
   "source": [
    "sim_data = true_curve(sim_epochs)+noise_offsets\n",
    "\n",
    "sim_data = pd.Series(data=sim_data, index=sim_epochs)\n",
    "# sim_data"
   ]
  },
  {
   "cell_type": "code",
   "execution_count": null,
   "metadata": {
    "collapsed": false
   },
   "outputs": [],
   "source": [
    "threshold = obs_sigma*detection_thresh\n",
    "\n",
    "print \"Thresh:\", threshold\n",
    "detectable = sim_data[sim_data>obs_sigma*detection_thresh]\n",
    "monitorable = sim_data[sim_data>obs_sigma*analysis_thresh]\n",
    "first_detection_epoch = detectable.index[0]\n",
    "usable_data = monitorable[first_detection_epoch:]\n",
    "# usable_data"
   ]
  },
  {
   "cell_type": "code",
   "execution_count": null,
   "metadata": {
    "collapsed": false
   },
   "outputs": [],
   "source": [
    "#Detect:\n",
    "n_data_epochs = 1\n",
    "obs_data = usable_data.iloc[:n_data_epochs]\n",
    "# obs_data = usable_data.iloc[::2].iloc[:3]\n",
    "obs_data"
   ]
  },
  {
   "cell_type": "code",
   "execution_count": null,
   "metadata": {
    "collapsed": false
   },
   "outputs": [],
   "source": [
    "seaborn.set_style('darkgrid')\n",
    "\n",
    "current_palette = seaborn.color_palette('dark')\n",
    "seaborn.palplot(current_palette)\n"
   ]
  },
  {
   "cell_type": "code",
   "execution_count": null,
   "metadata": {
    "collapsed": false
   },
   "outputs": [],
   "source": [
    "tsteps= np.linspace(-30,50, 1000)\n",
    "plt.plot(tsteps, true_curve(tsteps),c='y', ls='--',label='True')\n",
    "\n",
    "plt.scatter(sim_data.index, sim_data,c=current_palette[2])\n",
    "\n",
    "plt.axhline(obs_sigma*detection_thresh, ls='--', label='Detection')\n",
    "plt.axhline(obs_sigma*analysis_thresh, ls='-.', label='Analysis')\n",
    "\n",
    "# plt.scatter(usable_data.index, usable_data,color=current_palette[1],s=55)\n",
    "stplot.curve.graded_errorbar(usable_data,obs_sigma,alpha=0.5)\n",
    "\n",
    "#Data we'll be using for fitting:\n",
    "plt.scatter(obs_data.index,obs_data,\n",
    "            color=current_palette[-1],s=160, lw=3, marker='x',\n",
    "           label='Fitted data')\n",
    "\n",
    "# plt.yscale('log')\n",
    "# plt.axhline(true_amp, ls=':')\n",
    "\n",
    "# plt.axvline(true_t0, ls='--')\n",
    "plt.ylim(-1.05*np.abs(np.min(usable_data)),1.1*np.max(usable_data+2*obs_sigma))\n",
    "plt.legend(loc='best')\n",
    "plt.gcf().suptitle('Model, observables, detections')\n",
    "#plt.savefig('data.png')"
   ]
  },
  {
   "cell_type": "code",
   "execution_count": null,
   "metadata": {
    "collapsed": true
   },
   "outputs": [],
   "source": [
    "model1=Sn1aOpticalEnsemble()\n",
    "model1=Sn2OpticalEnsemble()"
   ]
  },
  {
   "cell_type": "code",
   "execution_count": null,
   "metadata": {
    "collapsed": false
   },
   "outputs": [],
   "source": [
    "model_set = {'type1':Sn1aOpticalEnsemble, 'type2':Sn2OpticalEnsemble}\n",
    "model_runs={'type1':[], 'type2':[]}\n",
    "\n",
    "for n_data_epochs in range(0,len(usable_data)):\n",
    "# for n_data_epochs in range(0,3):\n",
    "    print \"Running MCMC for\", n_data_epochs, \"datapoints\"\n",
    "    if n_data_epochs==0:\n",
    "        obs_data=None\n",
    "    else:\n",
    "        obs_data = usable_data.iloc[:n_data_epochs]\n",
    "        \n",
    "    for model_name, model_ensemble in model_set.items():\n",
    "        mr= ModelRun(ensemble=model_ensemble(), \n",
    "              obs_data=obs_data, \n",
    "              obs_sigma=obs_sigma,\n",
    "              use_pt=False,\n",
    "             )\n",
    "        if obs_data is not None:\n",
    "            mr.fit_data()\n",
    "        sampler = mr.get_sampler(threads=4)\n",
    "        mr.run(sampler,500)\n",
    "        model_runs[model_name].append(mr)\n",
    "        "
   ]
  },
  {
   "cell_type": "code",
   "execution_count": null,
   "metadata": {
    "collapsed": false
   },
   "outputs": [],
   "source": [
    "ndata=2\n",
    "mr1 = model_runs['type1'][ndata]\n",
    "mr2 = model_runs['type2'][ndata]"
   ]
  },
  {
   "cell_type": "code",
   "execution_count": null,
   "metadata": {
    "collapsed": false
   },
   "outputs": [],
   "source": [
    "usable_data"
   ]
  },
  {
   "cell_type": "code",
   "execution_count": null,
   "metadata": {
    "collapsed": false
   },
   "outputs": [],
   "source": [
    "usable_data.iloc[:ndata]"
   ]
  },
  {
   "cell_type": "code",
   "execution_count": null,
   "metadata": {
    "collapsed": false
   },
   "outputs": [],
   "source": [
    "seaborn.set_style('darkgrid')\n",
    "obs_data = usable_data.iloc[:ndata]\n",
    "\n",
    "\n",
    "data_color = current_palette[1]\n",
    "stplot.curve.graded_errorbar(obs_data, obs_sigma, color=data_color, alpha=0.8, label='Data')\n",
    "if ndata:\n",
    "    plt.plot(tsteps,mr1.ml_curve(tsteps), ls='-.',lw=5, label='ML fit',c=current_palette[0])\n",
    "    pass\n",
    "    plt.plot(tsteps,mr1.map_curve(tsteps), ls='-', label='MAP fit', c=current_palette[0], zorder=1)\n",
    "    plt.plot(tsteps,true_curve(tsteps), ls='--', lw=5,label='True', c=current_palette[-2])\n",
    "\n",
    "\n",
    "# plt.errorbar(obs_data.index, obs_data, color=data_color)\n",
    "plt.xlim(-10,30)\n",
    "plt.ylim(0,max(obs_data)+3*obs_sigma)\n",
    "plt.axhline(obs_sigma*detection_thresh, ls='--', label='Detection threshold', c=current_palette[-1])\n",
    "plt.legend()\n",
    "# plt.gcf().suptitle('Best fits, 2 datapoints',size=25)\n",
    "\n",
    "plt.xlabel('Time')\n",
    "plt.ylabel('Flux')\n",
    "plt.savefig('2datapts_plot3.pdf')"
   ]
  },
  {
   "cell_type": "code",
   "execution_count": null,
   "metadata": {
    "collapsed": false
   },
   "outputs": [],
   "source": [
    "mr1.chainstats"
   ]
  },
  {
   "cell_type": "code",
   "execution_count": null,
   "metadata": {
    "collapsed": false
   },
   "outputs": [],
   "source": [
    "mr2.chainstats"
   ]
  },
  {
   "cell_type": "code",
   "execution_count": null,
   "metadata": {
    "collapsed": false
   },
   "outputs": [],
   "source": [
    "mr1.plot_walkers()"
   ]
  },
  {
   "cell_type": "code",
   "execution_count": null,
   "metadata": {
    "collapsed": false
   },
   "outputs": [],
   "source": [
    "mr1.plot_hists()"
   ]
  },
  {
   "cell_type": "code",
   "execution_count": null,
   "metadata": {
    "collapsed": false
   },
   "outputs": [],
   "source": [
    "seaborn.set_style('white')\n",
    "mr1.plot_triangle(plot_contours=True)\n",
    "plt.savefig('2datapts_constrained_sample.pdf')"
   ]
  },
  {
   "cell_type": "code",
   "execution_count": null,
   "metadata": {
    "collapsed": false
   },
   "outputs": [],
   "source": [
    "mr2.plot_triangle()"
   ]
  },
  {
   "cell_type": "code",
   "execution_count": null,
   "metadata": {
    "collapsed": false
   },
   "outputs": [],
   "source": [
    "seaborn.palplot(seaborn.color_palette(\"Paired\",8))"
   ]
  },
  {
   "cell_type": "code",
   "execution_count": null,
   "metadata": {
    "collapsed": true
   },
   "outputs": [],
   "source": [
    "import itertools\n",
    "# chls=seaborn.color_palette(\"husl\", 6)\n",
    "palette=seaborn.color_palette(\"Paired\",8)\n",
    "pal_cycle = itertools.cycle(palette)\n",
    "pal1 = dict(trace=pal_cycle.next(), forecast=pal_cycle.next(), data=pal_cycle.next())\n",
    "pal1['data']=pal_cycle.next()\n",
    "pal2 = dict(trace=pal_cycle.next(), forecast=pal_cycle.next())\n",
    "pal1['true']=palette[-1]\n",
    "# , data=pal_cycle.next())"
   ]
  },
  {
   "cell_type": "code",
   "execution_count": null,
   "metadata": {
    "collapsed": true
   },
   "outputs": [],
   "source": [
    "t_forecast=40\n",
    "n_subsamples = 150"
   ]
  },
  {
   "cell_type": "code",
   "execution_count": null,
   "metadata": {
    "collapsed": true
   },
   "outputs": [],
   "source": [
    "seaborn.set_style('dark')"
   ]
  },
  {
   "cell_type": "code",
   "execution_count": null,
   "metadata": {
    "collapsed": false
   },
   "outputs": [],
   "source": [
    "def overplot_ensemble_forecasts(ndata,t_forecast,n_subsamples):\n",
    "    mr1 = model_runs['type1'][ndata]\n",
    "    mr2 = model_runs['type2'][ndata]\n",
    "    axes=None\n",
    "    plot_data = not mr1.obs_data is None\n",
    "    \n",
    "    axes=mr2.plot_forecast(tsteps, \n",
    "                  t_forecast=t_forecast,\n",
    "                  kde_noise_sigma=obs_sigma,\n",
    "                  axes=axes,\n",
    "                  palette=pal2,\n",
    "                  plot_data=False,\n",
    "                  subsample_size=n_subsamples\n",
    "                 )\n",
    "    axes=mr1.plot_forecast(tsteps,\n",
    "                       t_forecast=t_forecast, \n",
    "                       kde_noise_sigma=obs_sigma,\n",
    "                       axes=axes,\n",
    "                       plot_data=plot_data,\n",
    "                       palette=pal1,\n",
    "                       subsample_size=n_subsamples,\n",
    "                    true_curve=true_curve\n",
    "                     \n",
    "                 )\n",
    "    plt.gcf().suptitle('Comparison, {} datapoints'.format(ndata), size=25)\n",
    "#     plt.savefig('single_model_{}_dpts.pdf'.format(ndata))\n",
    "#     plt.savefig('two_models_{}_dpts.pdf'.format(ndata))"
   ]
  },
  {
   "cell_type": "code",
   "execution_count": null,
   "metadata": {
    "collapsed": true
   },
   "outputs": [],
   "source": [
    "mr1_prior = model_runs['type1'][0]\n",
    "mr2_prior = model_runs['type2'][0]"
   ]
  },
  {
   "cell_type": "code",
   "execution_count": null,
   "metadata": {
    "collapsed": false
   },
   "outputs": [],
   "source": [
    "mr1_prior.plot_forecast(tsteps,\n",
    "                   palette=pal1,\n",
    "                   subsample_size=n_subsamples,\n",
    "                 )\n",
    "plt.gcf().suptitle('Prior ensemble, Type 1', size=25)"
   ]
  },
  {
   "cell_type": "code",
   "execution_count": null,
   "metadata": {
    "collapsed": false
   },
   "outputs": [],
   "source": [
    "mr2_prior.plot_forecast(tsteps,\n",
    "                   palette=pal2,\n",
    "                   subsample_size=n_subsamples,\n",
    "                 )\n",
    "plt.gcf().suptitle('Prior ensemble, Type 2', size=25)"
   ]
  },
  {
   "cell_type": "code",
   "execution_count": null,
   "metadata": {
    "collapsed": false
   },
   "outputs": [],
   "source": [
    "overplot_ensemble_forecasts(0,\n",
    "#                             t_forecast,\n",
    "                            None,\n",
    "                            n_subsamples)"
   ]
  },
  {
   "cell_type": "code",
   "execution_count": null,
   "metadata": {
    "collapsed": false
   },
   "outputs": [],
   "source": [
    "seaborn.set_style('darkgrid')\n",
    "overplot_ensemble_forecasts(1,t_forecast,n_subsamples)"
   ]
  },
  {
   "cell_type": "code",
   "execution_count": null,
   "metadata": {
    "collapsed": false
   },
   "outputs": [],
   "source": [
    "overplot_ensemble_forecasts(2,t_forecast,n_subsamples)"
   ]
  },
  {
   "cell_type": "code",
   "execution_count": null,
   "metadata": {
    "collapsed": false
   },
   "outputs": [],
   "source": [
    "overplot_ensemble_forecasts(3,t_forecast,n_subsamples)"
   ]
  },
  {
   "cell_type": "code",
   "execution_count": null,
   "metadata": {
    "collapsed": false
   },
   "outputs": [],
   "source": [
    "overplot_ensemble_forecasts(4,t_forecast,n_subsamples)"
   ]
  },
  {
   "cell_type": "code",
   "execution_count": null,
   "metadata": {
    "collapsed": false
   },
   "outputs": [],
   "source": [
    "overplot_ensemble_forecasts(6,t_forecast,n_subsamples)"
   ]
  },
  {
   "cell_type": "code",
   "execution_count": null,
   "metadata": {
    "collapsed": false
   },
   "outputs": [],
   "source": [
    "# overplot_ensemble_forecasts(8,t_forecast,n_subsamples)"
   ]
  },
  {
   "cell_type": "code",
   "execution_count": null,
   "metadata": {
    "collapsed": true
   },
   "outputs": [],
   "source": []
  }
 ],
 "metadata": {
  "kernelspec": {
   "display_name": "Python 2",
   "language": "python",
   "name": "python2"
  },
  "language_info": {
   "codemirror_mode": {
    "name": "ipython",
    "version": 2
   },
   "file_extension": ".py",
   "mimetype": "text/x-python",
   "name": "python",
   "nbconvert_exporter": "python",
   "pygments_lexer": "ipython2",
   "version": "2.7.6"
  }
 },
 "nbformat": 4,
 "nbformat_minor": 0
}
