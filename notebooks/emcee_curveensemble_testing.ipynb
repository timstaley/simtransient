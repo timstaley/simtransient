{
 "cells": [
  {
   "cell_type": "code",
   "execution_count": null,
   "metadata": {
    "collapsed": false
   },
   "outputs": [],
   "source": [
    "%matplotlib inline\n",
    "%load_ext autoreload\n",
    "%autoreload 2\n",
    "from datetime import date, datetime, timedelta, time\n",
    "import pandas as pd\n",
    "import seaborn\n",
    "import matplotlib.pyplot as plt\n",
    "import matplotlib as mpl\n",
    "import numpy as np\n",
    "import emcee\n",
    "import triangle\n",
    "from scipy.stats import multivariate_normal, norm\n",
    "import pathos.multiprocessing as pathos_mp"
   ]
  },
  {
   "cell_type": "code",
   "execution_count": null,
   "metadata": {
    "collapsed": false
   },
   "outputs": [],
   "source": [
    "from simlightcurve.solvers import find_rise_t, find_peak\n",
    "import scipy.optimize as op\n",
    "from simtransient.models.supernova import Sn1aOpticalEnsemble\n",
    "import simtransient.utils as stutils\n",
    "from simtransient import measures, hammer\n",
    "import simtransient.plot as stplot\n"
   ]
  },
  {
   "cell_type": "code",
   "execution_count": null,
   "metadata": {
    "collapsed": false
   },
   "outputs": [],
   "source": [
    "# seaborn.set_context('talk')\n",
    "seaborn.set_context('poster')\n",
    "current_palette = seaborn.color_palette()\n",
    "#Poster\n",
    "# bigfontsize=40\n",
    "# labelfontsize=35\n",
    "# tickfontsize=25\n",
    "#Paper\n",
    "bigfontsize=20\n",
    "labelfontsize=18\n",
    "tickfontsize=18\n",
    "plt.rcParams.update({'font.size': bigfontsize,\n",
    "                     'axes.labelsize':labelfontsize,\n",
    "                     'xtick.labelsize':tickfontsize,\n",
    "                     'ytick.labelsize':tickfontsize,\n",
    "                     'legend.fontsize':tickfontsize,\n",
    "                     })"
   ]
  },
  {
   "cell_type": "code",
   "execution_count": null,
   "metadata": {
    "collapsed": false
   },
   "outputs": [],
   "source": [
    "obs_sigma=0.1\n",
    "detection_thresh = 4.\n",
    "analysis_thresh = 3."
   ]
  },
  {
   "cell_type": "code",
   "execution_count": null,
   "metadata": {
    "collapsed": false
   },
   "outputs": [],
   "source": [
    "ensemble = Sn1aOpticalEnsemble()\n",
    "gpar_hypers_rv = multivariate_normal(mean=ensemble.gauss_pars.loc['mu'], \n",
    "                                     cov=ensemble.gauss_cov)"
   ]
  },
  {
   "cell_type": "code",
   "execution_count": null,
   "metadata": {
    "collapsed": false
   },
   "outputs": [],
   "source": [
    "ensemble.gauss_pars"
   ]
  },
  {
   "cell_type": "code",
   "execution_count": null,
   "metadata": {
    "collapsed": false
   },
   "outputs": [],
   "source": [
    "true_gpars = pd.Series(ensemble.gauss_pars.T.mu)\n",
    "true_gpars[:]= gpar_hypers_rv.rvs()"
   ]
  },
  {
   "cell_type": "code",
   "execution_count": null,
   "metadata": {
    "collapsed": false
   },
   "outputs": [],
   "source": [
    "true_t0 = 5 #+np.random.random()*5\n",
    "true_pars = true_gpars.copy()\n",
    "true_pars['t0']=true_t0\n",
    "true_pars"
   ]
  },
  {
   "cell_type": "code",
   "execution_count": null,
   "metadata": {
    "collapsed": false
   },
   "outputs": [],
   "source": [
    "true_curve = ensemble.get_curve(**true_pars)"
   ]
  },
  {
   "cell_type": "code",
   "execution_count": null,
   "metadata": {
    "collapsed": false
   },
   "outputs": [],
   "source": [
    "tstep = 1.5\n",
    "sim_epochs = np.arange(start = -30., stop=50, step=tstep)\n",
    "sim_data = true_curve(sim_epochs)+norm(scale=obs_sigma).rvs(size=len(sim_epochs))\n",
    "\n",
    "sim_data = pd.Series(data=sim_data, index=sim_epochs)\n",
    "# sim_data"
   ]
  },
  {
   "cell_type": "code",
   "execution_count": null,
   "metadata": {
    "collapsed": false
   },
   "outputs": [],
   "source": [
    "threshold = obs_sigma*detection_thresh\n",
    "\n",
    "print \"Thresh:\", threshold\n",
    "detectable = sim_data[sim_data>obs_sigma*detection_thresh]\n",
    "monitorable = sim_data[sim_data>obs_sigma*analysis_thresh]\n",
    "first_detection_epoch = detectable.index[0]\n",
    "usable_data = monitorable[first_detection_epoch:]\n",
    "# usable_data"
   ]
  },
  {
   "cell_type": "code",
   "execution_count": null,
   "metadata": {
    "collapsed": false
   },
   "outputs": [],
   "source": [
    "#Detect:\n",
    "n_data_epochs = 3\n",
    "obs_data = usable_data.iloc[:n_data_epochs]\n",
    "# obs_data = usable_data.iloc[::2].iloc[:3]\n",
    "obs_data"
   ]
  },
  {
   "cell_type": "code",
   "execution_count": null,
   "metadata": {
    "collapsed": false
   },
   "outputs": [],
   "source": [
    "seaborn.set_style('darkgrid')\n",
    "seaborn.palplot(current_palette)"
   ]
  },
  {
   "cell_type": "code",
   "execution_count": null,
   "metadata": {
    "collapsed": false
   },
   "outputs": [],
   "source": [
    "tsteps= np.linspace(-30,50, 1000)\n",
    "plt.plot(tsteps, true_curve(tsteps),c='g', ls='--',label='True')\n",
    "\n",
    "plt.scatter(sim_data.index, sim_data,c=current_palette[2])\n",
    "\n",
    "plt.axhline(obs_sigma*detection_thresh, ls='--', label='Detection')\n",
    "plt.axhline(obs_sigma*analysis_thresh, ls='-.', label='Analysis')\n",
    "\n",
    "plt.scatter(usable_data.index, usable_data,color=current_palette[1],s=55)\n",
    "\n",
    "#Data we'll be using for fitting:\n",
    "plt.scatter(obs_data.index,obs_data,\n",
    "            color=current_palette[-1],s=160, lw=3, marker='x',\n",
    "           label='Fitted data')\n",
    "\n",
    "# plt.yscale('log')\n",
    "# plt.axhline(true_amp, ls=':')\n",
    "\n",
    "# plt.axvline(true_t0, ls='--')\n",
    "plt.ylim(-1.05*np.abs(np.min(usable_data)),1.05*np.max(usable_data))\n",
    "plt.legend(loc='best')\n",
    "plt.gcf().suptitle('Model, observables, detections')\n",
    "plt\n"
   ]
  },
  {
   "cell_type": "code",
   "execution_count": null,
   "metadata": {
    "collapsed": false
   },
   "outputs": [],
   "source": [
    "# detection_t0_offset = find_rise_t(zero_t0_curve, threshold=obs_data.iloc[0], \n",
    "#                                      t_min=-3*zero_t0_curve.rise_tau, t_max=1)\n",
    "# t0_guess = obs_data.index[0]-detection_t0_offset\n",
    "# print t0_guess, true_t0"
   ]
  },
  {
   "cell_type": "code",
   "execution_count": null,
   "metadata": {
    "collapsed": false
   },
   "outputs": [],
   "source": [
    "#Initialize a ML fit at the maximum Gaussian priors, and wildly guess at t0\n",
    "init_model_pars = pd.Series(ensemble.gauss_pars.T.mu, copy=True)\n",
    "init_model_pars.name=\"Initial\"\n",
    "init_model_pars['t0']=obs_data.index[0]\n",
    "init_model_pars"
   ]
  },
  {
   "cell_type": "code",
   "execution_count": null,
   "metadata": {
    "collapsed": false
   },
   "outputs": [],
   "source": [
    "neg_likelihood = lambda *args: -measures.gauss_lnlikelihood(*args)\n",
    "results = op.minimize(neg_likelihood, init_model_pars.copy(), args=(ensemble,obs_data, obs_sigma))\n",
    "max_likelihood_pars = pd.Series(init_model_pars, name='MaxLikelihood', copy=True)\n",
    "max_likelihood_pars[:]=results.x\n",
    "print max_likelihood_pars\n",
    "ml_curve=ensemble.get_curve(**max_likelihood_pars)"
   ]
  },
  {
   "cell_type": "code",
   "execution_count": null,
   "metadata": {
    "collapsed": false
   },
   "outputs": [],
   "source": [
    "obs_data_min = np.min(obs_data)\n",
    "obs_data_max = np.max(obs_data)\n",
    "\n",
    "max_timespan = max_likelihood_pars.decay_tau*10\n",
    "\n",
    "bounded_t0_lnprior = measures.get_uniform_lnprior(obs_data_min-max_timespan, obs_data_max+max_timespan)\n",
    "ensemble.t0_lnprior = bounded_t0_lnprior\n",
    "\n",
    "def lnprob(model_pars, model_ensemble, obs_data, obs_sigma):\n",
    "    lp = model_ensemble.lnprior(model_pars)\n",
    "    if not np.isfinite(lp):\n",
    "        prob = -np.inf\n",
    "    else:\n",
    "        prob = lp + measures.gauss_lnlikelihood(model_pars, model_ensemble,obs_data,obs_sigma)\n",
    "    return prob"
   ]
  },
  {
   "cell_type": "code",
   "execution_count": null,
   "metadata": {
    "collapsed": false
   },
   "outputs": [],
   "source": [
    "obs_data_min-max_timespan, obs_data_max+max_timespan"
   ]
  },
  {
   "cell_type": "code",
   "execution_count": null,
   "metadata": {
    "collapsed": false
   },
   "outputs": [],
   "source": [
    "neg_lnprob = lambda *args: -lnprob(*args)\n",
    "results = op.minimize(neg_lnprob, init_model_pars, args=(ensemble,obs_data, obs_sigma))\n",
    "# results.x\n",
    "map_pars = init_model_pars.copy()\n",
    "map_pars[:]=results.x\n",
    "map_curve = ensemble.get_curve(**map_pars)\n",
    "map_pars"
   ]
  },
  {
   "cell_type": "code",
   "execution_count": null,
   "metadata": {
    "collapsed": false
   },
   "outputs": [],
   "source": [
    "seaborn.set_style('dark')\n",
    "\n",
    "data_color = current_palette[1]\n",
    "stplot.curve.graded_errorbar(obs_data, obs_sigma, data_color, alpha=0.8)\n",
    "plt.plot(tsteps,ml_curve(tsteps), ls='-.',lw=5, label='ML',c=current_palette[0])\n",
    "plt.plot(tsteps,map_curve(tsteps), ls='-', label='MAP', c=current_palette[0], zorder=1)\n",
    "plt.plot(tsteps,true_curve(tsteps), ls='--', lw=5,label='true', c=current_palette[-2])\n",
    "\n",
    "# plt.errorbar(obs_data.index, obs_data, color=data_color)\n",
    "plt.ylim(0,max(obs_data)+3*obs_sigma)\n",
    "plt.legend()"
   ]
  },
  {
   "cell_type": "code",
   "execution_count": null,
   "metadata": {
    "collapsed": false
   },
   "outputs": [],
   "source": [
    "np.atleast_2d(data_color)"
   ]
  },
  {
   "cell_type": "code",
   "execution_count": null,
   "metadata": {
    "collapsed": false
   },
   "outputs": [],
   "source": [
    "map_pars"
   ]
  },
  {
   "cell_type": "code",
   "execution_count": null,
   "metadata": {
    "collapsed": false
   },
   "outputs": [],
   "source": [
    "ndim = len(map_pars)  # number of parameters in the model\n",
    "nwalkers = 50  # number of MCMC walkers\n",
    "nsteps = 100  # number of MCMC steps to take\n",
    "# nsteps = 2  # number of MCMC steps to take\n",
    "# nburn=1\n",
    "nthreads=4\n",
    "#for PT\n",
    "ntemps=10\n",
    "\n",
    "pool = pathos_mp.Pool(nthreads)\n",
    "\n",
    "theta_init = map_pars.values\n",
    "\n",
    "# pos = [starting_point+ 1e-4*np.random.randn(ndim) for i in range(nwalkers)]\n",
    "# pos = [starting_point+ 1e-4*np.random.randn(ndim) for i in range(nwalkers)]\n",
    "\n",
    "prop_scale=2\n",
    "en_nwalkers = nwalkers*2\n",
    "\n",
    "en_sampler, en_init_ball = hammer.prep_ensemble_sampler(\n",
    "    lnprob = lnprob,\n",
    "    init_params = map_pars.values,\n",
    "    args=(ensemble,obs_data, obs_sigma),\n",
    "    nwalkers=en_nwalkers,\n",
    "#     nthreads=nthreads,\n",
    "    pool=pool,\n",
    "    a=prop_scale,\n",
    "    ballsize=1e-3,\n",
    "    )\n",
    "\n",
    "\n",
    "pt_sampler,pt_init_ball = hammer.prep_pt_sampler(\n",
    "    lnprior = ensemble.lnprior, \n",
    "    init_params = map_pars.values,\n",
    "    lnlikelihood=measures.gauss_lnlikelihood,\n",
    "    lnlikeargs=(ensemble,obs_data, obs_sigma),\n",
    "    nwalkers=nwalkers,\n",
    "#     nthreads=nthreads,\n",
    "    pool=pool,\n",
    "    a=prop_scale,\n",
    "    ballsize=1e-3,\n",
    "    )"
   ]
  },
  {
   "cell_type": "code",
   "execution_count": null,
   "metadata": {
    "collapsed": false
   },
   "outputs": [],
   "source": [
    "%%capture ensemble_stdout\n",
    "en_sampler.reset()\n",
    "with np.errstate(all='ignore'):\n",
    "    _=en_sampler.run_mcmc(en_init_ball, nsteps)\n",
    "print \"Done\""
   ]
  },
  {
   "cell_type": "code",
   "execution_count": null,
   "metadata": {
    "collapsed": false
   },
   "outputs": [],
   "source": [
    "# %%capture pt_stdout\n",
    "# pt_sampler.reset()\n",
    "# # with np.errstate(over='ignore', under='ignore'):\n",
    "# with np.errstate(all='ignore'):\n",
    "#     _=pt_sampler.run_mcmc(pt_init_ball, nsteps)\n",
    "# print \"Done\""
   ]
  },
  {
   "cell_type": "code",
   "execution_count": null,
   "metadata": {
    "collapsed": false
   },
   "outputs": [],
   "source": [
    "use_pt = False\n",
    "\n",
    "if not use_pt:\n",
    "    sampler = en_sampler\n",
    "    rawchain = en_sampler.chain\n",
    "else:\n",
    "    sampler = pt_sampler    \n",
    "    rawchain = pt_sampler.chain[0]\n",
    "    \n",
    "cs, trimmed = hammer.trim_chain(sampler, pt=use_pt)\n",
    "print cs\n",
    "print trimmed.shape"
   ]
  },
  {
   "cell_type": "code",
   "execution_count": null,
   "metadata": {
    "collapsed": false
   },
   "outputs": [],
   "source": [
    "map_pars"
   ]
  },
  {
   "cell_type": "code",
   "execution_count": null,
   "metadata": {
    "collapsed": false
   },
   "outputs": [],
   "source": [
    "stplot.chain.all_walkers(rawchain, cs, map_pars.index)"
   ]
  },
  {
   "cell_type": "code",
   "execution_count": null,
   "metadata": {
    "collapsed": false
   },
   "outputs": [],
   "source": [
    "stplot.chain.all_hists(rawchain, cs, map_pars.index,nbins=15)\n"
   ]
  },
  {
   "cell_type": "code",
   "execution_count": null,
   "metadata": {
    "collapsed": false
   },
   "outputs": [],
   "source": [
    "figure = triangle.corner(trimmed, truths=true_pars.values, labels=true_pars.keys())"
   ]
  },
  {
   "cell_type": "code",
   "execution_count": null,
   "metadata": {
    "collapsed": false
   },
   "outputs": [],
   "source": [
    "#Forecast:\n",
    "t_forecast= 40"
   ]
  },
  {
   "cell_type": "code",
   "execution_count": null,
   "metadata": {
    "collapsed": false
   },
   "outputs": [],
   "source": [
    "from matplotlib import gridspec\n",
    "seaborn.set_style('darkgrid')\n",
    "# seaborn.set_style('white')\n",
    "\n",
    "stplot.curve.forecast_plot(ensemble, trimmed, tsteps, \n",
    "                           t_forecast, \n",
    "                           true_curve=true_curve,\n",
    "                          obs_data=obs_data,\n",
    "                          obs_sigma=obs_sigma,\n",
    "                          )\n"
   ]
  },
  {
   "cell_type": "code",
   "execution_count": null,
   "metadata": {
    "collapsed": true
   },
   "outputs": [],
   "source": []
  }
 ],
 "metadata": {
  "kernelspec": {
   "display_name": "Python 2",
   "language": "python",
   "name": "python2"
  },
  "language_info": {
   "codemirror_mode": {
    "name": "ipython",
    "version": 2
   },
   "file_extension": ".py",
   "mimetype": "text/x-python",
   "name": "python",
   "nbconvert_exporter": "python",
   "pygments_lexer": "ipython2",
   "version": "2.7.6"
  }
 },
 "nbformat": 4,
 "nbformat_minor": 0
}
