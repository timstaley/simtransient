{
 "metadata": {
  "name": "",
  "signature": "sha256:2336aee1003b73bfbeb0d24b8305a08e73839bbb5c8ae36d836f8f67f429e9f1"
 },
 "nbformat": 3,
 "nbformat_minor": 0,
 "worksheets": [
  {
   "cells": [
    {
     "cell_type": "code",
     "collapsed": false,
     "input": [
      "%matplotlib inline\n",
      "from IPython.html.widgets import interact\n",
      "import matplotlib.pyplot as plt\n",
      "import seaborn"
     ],
     "language": "python",
     "metadata": {},
     "outputs": []
    },
    {
     "cell_type": "code",
     "collapsed": false,
     "input": [
      "import numpy as np\n",
      "import emcee\n",
      "import scipy.stats as stats"
     ],
     "language": "python",
     "metadata": {},
     "outputs": []
    },
    {
     "cell_type": "markdown",
     "metadata": {},
     "source": [
      "Unknown $\\alpha$,\n",
      "detected with multiple noisy obs $\\{x_i\\}$;\n",
      "\n",
      "$$\n",
      "P(x_i~|~\\alpha,  \\sigma) = \\frac{1}{\\sqrt{2\\pi\\sigma^2}} \\exp\\left[\\frac{-[x_i-\\alpha]^2}{2\\sigma^2}\\right]\n",
      "$$\n",
      "\n",
      "\n",
      "Multiplying these for all $i$ gives the likelihood:\n",
      "$$\n",
      "P(\\{x_i\\}~|~\\alpha, \\sigma) = (2\\pi\\sigma^2)^{-N/2} \\exp\n",
      "    \\left[- \\frac{1}{2\\sigma^2} \\sum_{i-1}^N [x_i - \\alpha]^2\n",
      "    \\right]\n",
      "$$\n",
      "so the likelihood can be rearranged as:\n",
      "$$\n",
      "ln\\left[P(\\{x_i\\}~|~\\alpha, \\sigma)\\right] =   -0.5*N*ln[2\\pi\\sigma^2] + \\left[- 0.5 \\sum_{i=1}^N [x_i - \\alpha]^2 / \\sigma^2 \\right]\n",
      "$$\n",
      "or indeed \n",
      "$$\n",
      "\\qquad =  - 0.5 \\sum_{i=1}^N \\left[ ln[2\\pi\\sigma^2] + [x_i - \\alpha]^2 / \\sigma^2  \\right]\n",
      "$$"
     ]
    },
    {
     "cell_type": "code",
     "collapsed": false,
     "input": [
      "sigma = 0.2\n",
      "\n",
      "def log_likelihood(alpha, x):\n",
      "    return -0.5 * np.sum(np.log(2 * np.pi * sigma ** 2) + (x - alpha) ** 2 / sigma ** 2)"
     ],
     "language": "python",
     "metadata": {},
     "outputs": []
    },
    {
     "cell_type": "code",
     "collapsed": false,
     "input": [
      "alpha = np.random.random()\n",
      "alpha"
     ],
     "language": "python",
     "metadata": {},
     "outputs": []
    },
    {
     "cell_type": "code",
     "collapsed": false,
     "input": [
      "def log_prior(alpha):\n",
      "    if 0. <= alpha < 1.:\n",
      "        return 0.0\n",
      "    return -np.inf\n",
      "\n",
      "def log_prob(alpha, x):\n",
      "    lp = log_prior(alpha)\n",
      "    if not np.isfinite(lp):\n",
      "        prob = -np.inf\n",
      "    else:\n",
      "        prob = lp+log_likelihood(alpha,x)\n",
      "    return prob, alpha*2"
     ],
     "language": "python",
     "metadata": {},
     "outputs": []
    },
    {
     "cell_type": "code",
     "collapsed": false,
     "input": [
      "n_samples = 5\n",
      "data = stats.norm.rvs(loc=alpha, size=3)\n",
      "print data\n",
      "print data-alpha"
     ],
     "language": "python",
     "metadata": {},
     "outputs": []
    },
    {
     "cell_type": "code",
     "collapsed": false,
     "input": [
      "import scipy.optimize as op\n",
      "neg_likelihood = lambda *args: -log_likelihood(*args)\n",
      "alpha_guess=0.\n",
      "result = op.minimize(neg_likelihood, alpha_guess, args=(data,))\n",
      "result.x\n",
      "# result['x']"
     ],
     "language": "python",
     "metadata": {},
     "outputs": []
    },
    {
     "cell_type": "code",
     "collapsed": false,
     "input": [
      "plt.hist(data)\n",
      "plt.axvline(alpha, c='g', label='Truth')\n",
      "plt.axvline(result.x, ls='--', label='MAP')\n",
      "plt.legend()"
     ],
     "language": "python",
     "metadata": {},
     "outputs": []
    },
    {
     "cell_type": "code",
     "collapsed": false,
     "input": [
      "ndim = 1  # number of parameters in the model\n",
      "nwalkers = 10  # number of MCMC walkers\n",
      "nburn = 100  # \"burn-in\" period to let chains stabilize\n",
      "nsteps = 1000  # number of MCMC steps to take\n",
      "\n",
      "# pos = [result.x + 1e-4*np.random.randn(ndim) for i in range(nwalkers)]\n",
      "pos = [0.5 + 1e-4*np.random.randn(ndim) for i in range(nwalkers)]\n",
      "# set theta near the maximum likelihood, with \n",
      "sampler = emcee.EnsembleSampler(nwalkers, ndim, log_prob, args=(data,))"
     ],
     "language": "python",
     "metadata": {},
     "outputs": []
    },
    {
     "cell_type": "code",
     "collapsed": false,
     "input": [
      "_=sampler.run_mcmc(pos, 3000)"
     ],
     "language": "python",
     "metadata": {},
     "outputs": []
    },
    {
     "cell_type": "code",
     "collapsed": false,
     "input": [
      "sampler.chain.shape"
     ],
     "language": "python",
     "metadata": {},
     "outputs": []
    },
    {
     "cell_type": "code",
     "collapsed": false,
     "input": [
      "# samples = sampler.chain[:,:,:].reshape((-1,ndim))\n",
      "samples = sampler.chain[:,:,:]"
     ],
     "language": "python",
     "metadata": {},
     "outputs": []
    },
    {
     "cell_type": "code",
     "collapsed": false,
     "input": [],
     "language": "python",
     "metadata": {},
     "outputs": []
    },
    {
     "cell_type": "code",
     "collapsed": false,
     "input": [
      "samples.shape"
     ],
     "language": "python",
     "metadata": {},
     "outputs": []
    },
    {
     "cell_type": "code",
     "collapsed": false,
     "input": [
      "len(samples)"
     ],
     "language": "python",
     "metadata": {},
     "outputs": []
    },
    {
     "cell_type": "code",
     "collapsed": false,
     "input": [
      "for walker in samples:\n",
      "    plt.plot(walker)"
     ],
     "language": "python",
     "metadata": {},
     "outputs": []
    },
    {
     "cell_type": "code",
     "collapsed": false,
     "input": [
      "burned = len(sampler.chain[:,150:,:][0])\n",
      "acorr = np.ceil(sampler.get_autocorr_time())\n",
      "print burned, acorr, burned/np.ceil(acorr)"
     ],
     "language": "python",
     "metadata": {},
     "outputs": []
    },
    {
     "cell_type": "code",
     "collapsed": false,
     "input": [
      "thinned_samples = sampler.chain[:,150::np.ceil(sampler.get_autocorr_time()),:]\n",
      "for walker in thinned_samples:\n",
      "    plt.plot(walker)"
     ],
     "language": "python",
     "metadata": {},
     "outputs": []
    },
    {
     "cell_type": "code",
     "collapsed": false,
     "input": [
      "samples = sampler.chain[:,150::,:].ravel()\n",
      "samples = thinned_samples.ravel()\n",
      "# plt.scatter(data, 2*np.ones_like(data))\n",
      "plt.hist(samples, normed=True)\n",
      "plt.axvline(alpha, c='r', label='Truth')\n",
      "plt.axvline(result.x, ls='--', label='MAP')\n",
      "# plt.ylim(0,5)\n",
      "plt.axvline(np.mean(samples), c='y', label='MC mean')\n",
      "\n",
      "plt.plot(np.sort(samples), np.indices(samples.shape).ravel()/float(len(samples)), label='Cumulative Freq')\n",
      "# plt.plot(np.sort(samples), np.indices(samples.shape).ravel()/float(len(samples)))\n",
      "plt.axhline(0.5)\n",
      "plt.legend()"
     ],
     "language": "python",
     "metadata": {},
     "outputs": []
    },
    {
     "cell_type": "code",
     "collapsed": false,
     "input": [
      "samples"
     ],
     "language": "python",
     "metadata": {},
     "outputs": []
    },
    {
     "cell_type": "code",
     "collapsed": false,
     "input": [
      "blob = np.asarray(sampler.blobs)[150:,:].ravel()\n",
      "thin_blob = np.asarray(sampler.blobs)[150::np.ceil(sampler.get_autocorr_time()),:].ravel()"
     ],
     "language": "python",
     "metadata": {},
     "outputs": []
    },
    {
     "cell_type": "code",
     "collapsed": false,
     "input": [
      "blob, samples"
     ],
     "language": "python",
     "metadata": {},
     "outputs": []
    },
    {
     "cell_type": "code",
     "collapsed": false,
     "input": [
      "np.max(np.exp(blob)), np.min(np.exp(blob)),"
     ],
     "language": "python",
     "metadata": {},
     "outputs": []
    },
    {
     "cell_type": "code",
     "collapsed": false,
     "input": [
      "np.max(np.exp(thin_blob)), np.min(np.exp(thin_blob)),"
     ],
     "language": "python",
     "metadata": {},
     "outputs": []
    },
    {
     "cell_type": "code",
     "collapsed": false,
     "input": [
      "plt.hist(blob, normed=True, alpha=0.7)\n",
      "plt.hist(thin_blob, normed=True, alpha=0.4, color='y')"
     ],
     "language": "python",
     "metadata": {},
     "outputs": []
    },
    {
     "cell_type": "code",
     "collapsed": false,
     "input": [],
     "language": "python",
     "metadata": {},
     "outputs": []
    },
    {
     "cell_type": "code",
     "collapsed": false,
     "input": [],
     "language": "python",
     "metadata": {},
     "outputs": []
    }
   ],
   "metadata": {}
  }
 ]
}