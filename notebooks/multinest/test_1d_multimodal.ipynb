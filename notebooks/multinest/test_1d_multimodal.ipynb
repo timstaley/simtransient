{
 "cells": [
  {
   "cell_type": "code",
   "execution_count": null,
   "metadata": {
    "collapsed": true
   },
   "outputs": [],
   "source": [
    "%matplotlib inline\n",
    "from datetime import date, datetime, timedelta, time\n",
    "import pandas as pd\n",
    "import seaborn\n",
    "import matplotlib.pyplot as plt\n",
    "import matplotlib as mpl\n",
    "import numpy as np\n",
    "import scipy"
   ]
  },
  {
   "cell_type": "code",
   "execution_count": null,
   "metadata": {
    "collapsed": false
   },
   "outputs": [],
   "source": [
    "import json\n",
    "import numpy\n",
    "from numpy import log, exp, pi\n",
    "import scipy.stats, scipy\n",
    "import pymultinest\n",
    "import matplotlib.pyplot as plt\n",
    "\n",
    "# we define the problem: we need a prior function which maps from [0:1] to the parameter space\n",
    "\n",
    "# we only have one parameter, the position of the gaussian (ndim == 1)\n",
    "# map it from the unity interval 0:1 to our problem space 0:2 under a uniform prior\n",
    "def prior(cube, ndim, nparams):\n",
    "\tcube[0] = cube[0] * 2\n",
    "\n",
    "# our likelihood function consists of 6 gaussians modes (solutions) at the positions\n",
    "gauss_means = numpy.array([0.1, 0.2, 0.5, 0.55, 0.9, 1.1])\n",
    "\n",
    "width = 0.01\n",
    "\n",
    "def loglike(cube, ndim, nparams):\n",
    "\t# get the current parameter (is between 0:2 now)\n",
    "\tpos = cube[0]\n",
    "\tlikelihood = exp(-0.5 * ((pos - gauss_means ) / width)**2) / (2*pi*width**2)**0.5\n",
    "\treturn log(likelihood.mean())\n",
    "\n",
    "# number of dimensions our problem has\n",
    "parameters = [\"position\"]\n",
    "n_params = len(parameters)\n",
    "\n",
    "# run MultiNest\n",
    "pymultinest.run(loglike, prior, n_params, outputfiles_basename='out/test',\n",
    "                resume = False, verbose = True,\n",
    "               sampling_efficiency=0.3,\n",
    "               importance_nested_sampling = False,\n",
    "               mode_tolerance=-4\n",
    "               )\n",
    "json.dump(parameters, open('out/params.json', 'w')) # save parameter names\n",
    "\n",
    "# now run the script and analyse the output using multinest_marginals.py::\n",
    "# \n",
    "#    $ python 1_1d_multimodal.py &&  multinest_marginals.py 1_1d_multimodal_out\n",
    "#\n",
    "# then open the file 1_1d_multimodal_outmarg.pdf\n",
    "#\n",
    "# Btw, ln(ev) should be ln(1 / 2)"
   ]
  },
  {
   "cell_type": "code",
   "execution_count": null,
   "metadata": {
    "collapsed": false
   },
   "outputs": [],
   "source": [
    "ngrid = 5000\n",
    "x = np.linspace(-.5,2,ngrid)"
   ]
  },
  {
   "cell_type": "code",
   "execution_count": null,
   "metadata": {
    "collapsed": false
   },
   "outputs": [],
   "source": [
    "y = np.array([loglike([xpt,],1,1) for xpt in x])"
   ]
  },
  {
   "cell_type": "code",
   "execution_count": null,
   "metadata": {
    "collapsed": false
   },
   "outputs": [],
   "source": [
    "a = pymultinest.Analyzer(n_params=n_params, outputfiles_basename='out/test')"
   ]
  },
  {
   "cell_type": "code",
   "execution_count": null,
   "metadata": {
    "collapsed": false
   },
   "outputs": [],
   "source": [
    "a.get_data().shape"
   ]
  },
  {
   "cell_type": "code",
   "execution_count": null,
   "metadata": {
    "collapsed": false
   },
   "outputs": [],
   "source": [
    "a.data"
   ]
  },
  {
   "cell_type": "code",
   "execution_count": null,
   "metadata": {
    "collapsed": false
   },
   "outputs": [],
   "source": [
    "np.log(0.5)"
   ]
  },
  {
   "cell_type": "code",
   "execution_count": null,
   "metadata": {
    "collapsed": false
   },
   "outputs": [],
   "source": [
    "a.get_stats()"
   ]
  },
  {
   "cell_type": "code",
   "execution_count": null,
   "metadata": {
    "collapsed": false
   },
   "outputs": [],
   "source": [
    "a.get_best_fit()"
   ]
  },
  {
   "cell_type": "code",
   "execution_count": null,
   "metadata": {
    "collapsed": false
   },
   "outputs": [],
   "source": [
    "modes = a.get_mode_stats()['modes']\n",
    "len(modes)"
   ]
  },
  {
   "cell_type": "code",
   "execution_count": null,
   "metadata": {
    "collapsed": false
   },
   "outputs": [],
   "source": [
    "modes"
   ]
  },
  {
   "cell_type": "code",
   "execution_count": null,
   "metadata": {
    "collapsed": true
   },
   "outputs": [],
   "source": [
    "plotter = pymultinest.PlotMarginalModes(a)"
   ]
  },
  {
   "cell_type": "code",
   "execution_count": null,
   "metadata": {
    "collapsed": false
   },
   "outputs": [],
   "source": [
    "# plt.plot(x,y)\n",
    "plt.plot(x,np.exp(y))\n",
    "# plt.yscale('log')\n",
    "# xlim=plt.xlim(0.4,0.6)\n",
    "# plt.ylim(-100,0)"
   ]
  },
  {
   "cell_type": "code",
   "execution_count": null,
   "metadata": {
    "collapsed": false
   },
   "outputs": [],
   "source": [
    "plotter.plot_marginal(0, with_ellipses=True, with_points=True, grid_points=500)\n",
    "for m in sorted(modes, key=lambda m:m['mean']):\n",
    "    m_mean = m['mean']\n",
    "    plt.axvline(m_mean, ls=':')\n",
    "    print m_mean\n",
    "# plt.yscale('log')\n",
    "# plt.xlim(*xlim)"
   ]
  }
 ],
 "metadata": {
  "kernelspec": {
   "display_name": "Python 2",
   "language": "python",
   "name": "python2"
  },
  "language_info": {
   "codemirror_mode": {
    "name": "ipython",
    "version": 2
   },
   "file_extension": ".py",
   "mimetype": "text/x-python",
   "name": "python",
   "nbconvert_exporter": "python",
   "pygments_lexer": "ipython2",
   "version": "2.7.6"
  }
 },
 "nbformat": 4,
 "nbformat_minor": 0
}
