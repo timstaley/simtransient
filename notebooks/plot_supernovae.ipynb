{
 "metadata": {
  "name": "",
  "signature": "sha256:6bfbf506e75c3375be68849eb10683e130e15dad9f5c8f534fa877e055c69e11"
 },
 "nbformat": 3,
 "nbformat_minor": 0,
 "worksheets": [
  {
   "cells": [
    {
     "cell_type": "code",
     "collapsed": false,
     "input": [
      "%matplotlib inline\n",
      "from datetime import date, datetime, timedelta, time\n",
      "from simtransient.models import (SnType1a, SnType2)\n",
      "import pandas as pd\n",
      "import seaborn\n",
      "import matplotlib.pyplot as plt"
     ],
     "language": "python",
     "metadata": {},
     "outputs": []
    },
    {
     "cell_type": "code",
     "collapsed": false,
     "input": [
      "epoch0 = datetime.combine(date(2015,1,1),time())\n",
      "start = epoch0 - timedelta(days=35)\n",
      "epochs = pd.date_range(start, start+timedelta(days=500), freq='4h')"
     ],
     "language": "python",
     "metadata": {},
     "outputs": []
    },
    {
     "cell_type": "code",
     "collapsed": false,
     "input": [
      "epoch0"
     ],
     "language": "python",
     "metadata": {},
     "outputs": []
    },
    {
     "cell_type": "code",
     "collapsed": false,
     "input": [
      "sn1 = SnType1a(epoch0)\n",
      "sn2 = SnType2(epoch0)\n",
      "sn1.class_name()\n",
      "str(sn1)"
     ],
     "language": "python",
     "metadata": {},
     "outputs": []
    },
    {
     "cell_type": "code",
     "collapsed": false,
     "input": [
      "repr(sn1)"
     ],
     "language": "python",
     "metadata": {},
     "outputs": []
    },
    {
     "cell_type": "code",
     "collapsed": false,
     "input": [
      "sn1.flux_at(epochs).optical.plot(label='Type I')\n",
      "sn2.flux_at(epochs).optical.plot(label='Type II')\n",
      "plt.legend()\n",
      "plt.gcf().suptitle(\"Optical LC comparison\")"
     ],
     "language": "python",
     "metadata": {},
     "outputs": []
    },
    {
     "cell_type": "code",
     "collapsed": false,
     "input": [
      "sn2.lightcurves.optical.curve"
     ],
     "language": "python",
     "metadata": {},
     "outputs": []
    },
    {
     "cell_type": "code",
     "collapsed": false,
     "input": [
      "radio_thresh =0.1\n",
      "radio_detect = sn2.find_rise_time('radio', radio_thresh)\n",
      "\n",
      "sn2.flux_at(epochs).plot()\n",
      "plt.axvline(radio_detect, ls='--', color='g', label='First radio detection')\n",
      "plt.axhline(radio_thresh, ls=':', color='g', label='Radio threshold')\n",
      "plt.legend(loc='best')"
     ],
     "language": "python",
     "metadata": {},
     "outputs": []
    }
   ],
   "metadata": {}
  }
 ]
}