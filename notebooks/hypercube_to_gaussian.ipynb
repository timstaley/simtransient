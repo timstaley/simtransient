{
 "cells": [
  {
   "cell_type": "code",
   "execution_count": null,
   "metadata": {
    "collapsed": true
   },
   "outputs": [],
   "source": [
    "%matplotlib inline\n",
    "from datetime import date, datetime, timedelta, time\n",
    "import pandas as pd\n",
    "import seaborn\n",
    "import matplotlib.pyplot as plt\n",
    "import matplotlib as mpl\n",
    "import numpy as np\n",
    "import scipy"
   ]
  },
  {
   "cell_type": "code",
   "execution_count": null,
   "metadata": {
    "collapsed": true
   },
   "outputs": [],
   "source": [
    "from simlightcurve.curves import GaussExp as Gred\n",
    "from simlightcurve.solvers import find_rise_t, find_peak\n",
    "from simtransient.utils import mahalanobis_sq\n",
    "from scipy.stats import norm, multivariate_normal\n",
    "import scipy.optimize as op\n",
    "import emcee"
   ]
  },
  {
   "cell_type": "code",
   "execution_count": null,
   "metadata": {
    "collapsed": true
   },
   "outputs": [],
   "source": [
    "seaborn.set_context('poster')\n",
    "current_palette = seaborn.color_palette()"
   ]
  },
  {
   "cell_type": "code",
   "execution_count": null,
   "metadata": {
    "collapsed": false
   },
   "outputs": [],
   "source": [
    "## Generic multivariate gaussian\n",
    "ndim=2\n",
    "e1=1\n",
    "e2=1\n",
    "xcov=0.8\n",
    "cov = np.asarray([[e1,xcov],\n",
    "                  [xcov,e2]])\n",
    "print \"Det:\", e1*e2-xcov*xcov\n",
    "# true_mean = np.random.random(size=2)\n",
    "true_mean=np.array([0,\n",
    "                    0])\n",
    "print \"True Mean: \", true_mean\n",
    "rv = multivariate_normal(mean=true_mean, cov=cov)\n",
    "\n",
    "n_grid=200\n",
    "half_grid_size = 3*max(e1,e2)\n",
    "x = np.linspace(true_mean[0]-half_grid_size,true_mean[0]+half_grid_size,n_grid)\n",
    "y = np.linspace(true_mean[1]-half_grid_size,true_mean[1]+half_grid_size,n_grid)\n",
    "grid = np.dstack(np.meshgrid(x,y))\n",
    "# print x[0],x[1]\n",
    "# y = np.sqrt(x[0]**2+x[1]**2)\n",
    "\n",
    "seaborn.set_palette('husl')\n",
    "cmap = plt.cm.get_cmap('afmhot')\n",
    "plt.contourf(x,y,rv.pdf(grid),25,cmap=cmap)\n",
    "plt.ylabel('y')\n",
    "plt.xlabel('x')\n",
    "plt.axvline(true_mean[0], ls=':')\n",
    "plt.axhline(true_mean[1], ls=':')\n",
    "plt.colorbar()\n",
    "\n",
    "n_samples = 250\n",
    "data = np.atleast_2d(rv.rvs(n_samples))\n",
    "# print \"data:\", data\n",
    "print \"datashape\", data.shape\n",
    "plt.scatter(data[:,0],data[:,1])\n",
    "# plt.scatter(data[0,:],data[1,:])\n",
    "\n",
    "pltlims = plt.xlim(), plt.ylim()"
   ]
  },
  {
   "cell_type": "markdown",
   "metadata": {},
   "source": [
    "OK, now let's check we get something similar when we're transforming from a unit hypercube (or unit-square, in this case):"
   ]
  },
  {
   "cell_type": "code",
   "execution_count": null,
   "metadata": {
    "collapsed": false
   },
   "outputs": [],
   "source": [
    "ndim=2\n",
    "nsamples=1000\n",
    "hypercube_samples = scipy.stats.uniform.rvs(size=ndim*nsamples).reshape(ndim,-1)\n",
    "hypercube_samples.shape"
   ]
  },
  {
   "cell_type": "code",
   "execution_count": null,
   "metadata": {
    "collapsed": false
   },
   "outputs": [],
   "source": [
    "n_cube=1000+1\n",
    "cube_x = np.linspace(0,1,n_cube)\n",
    "cube_y = np.linspace(0,1,n_cube)\n",
    "cube = np.dstack(np.meshgrid(cube_x,cube_y))\n",
    "hypercube_samples = np.rollaxis(cube,2)\n",
    "hypercube_samples=hypercube_samples.reshape(2,-1)"
   ]
  },
  {
   "cell_type": "code",
   "execution_count": null,
   "metadata": {
    "collapsed": false
   },
   "outputs": [],
   "source": [
    "cov"
   ]
  },
  {
   "cell_type": "code",
   "execution_count": null,
   "metadata": {
    "collapsed": false
   },
   "outputs": [],
   "source": [
    "cholesky = scipy.linalg.cholesky(cov,lower=True)\n",
    "assert (np.dot(cholesky,cholesky.T)==cov).all()\n"
   ]
  },
  {
   "cell_type": "code",
   "execution_count": null,
   "metadata": {
    "collapsed": false
   },
   "outputs": [],
   "source": [
    "normal_samples = norm.ppf(hypercube_samples.ravel()).reshape(hypercube_samples.shape)\n",
    "# plt.hist(normal_samples.ravel())\n",
    "normal_samples[:,:3]"
   ]
  },
  {
   "cell_type": "code",
   "execution_count": null,
   "metadata": {
    "collapsed": false
   },
   "outputs": [],
   "source": [
    "# normal_samples=np.array([np.arange(-5,5),\n",
    "# #                          np.arange(-5,5)\n",
    "# #                          np.ones(10),\n",
    "#                          np.zeros(10),\n",
    "#                         ])\n",
    "# # normal_samples=np.array([[1],[1]])\n",
    "# normal_samples"
   ]
  },
  {
   "cell_type": "code",
   "execution_count": null,
   "metadata": {
    "collapsed": false
   },
   "outputs": [],
   "source": [
    "true_mean = true_mean.reshape(ndim,-1)\n",
    "true_mean"
   ]
  },
  {
   "cell_type": "code",
   "execution_count": null,
   "metadata": {
    "collapsed": false
   },
   "outputs": [],
   "source": [
    "hc_cho_data = cholesky.dot(normal_samples) + true_mean\n",
    "# hypercube_data"
   ]
  },
  {
   "cell_type": "code",
   "execution_count": null,
   "metadata": {
    "collapsed": false
   },
   "outputs": [],
   "source": [
    "cov"
   ]
  },
  {
   "cell_type": "code",
   "execution_count": null,
   "metadata": {
    "collapsed": false
   },
   "outputs": [],
   "source": [
    "eigvec, eigval = scipy.linalg.eig(cov)\n",
    "# a = rot.dot(np.diag(np.sqrt(eig)))\n",
    "# np.isclose(a.dot(a.T), cov).all()\n",
    "# a = eigvec.dot(np.diag(np.sqrt(eigval)))\n",
    "# eigval"
   ]
  },
  {
   "cell_type": "code",
   "execution_count": null,
   "metadata": {
    "collapsed": true
   },
   "outputs": [],
   "source": [
    "# hc_svd_data=a.dot(normal_samples) + true_mean"
   ]
  },
  {
   "cell_type": "code",
   "execution_count": null,
   "metadata": {
    "collapsed": false
   },
   "outputs": [],
   "source": [
    "\n",
    "seaborn.set_style('white')\n",
    "plt.ylabel('y')\n",
    "plt.xlabel('x')\n",
    "plt.axvline(true_mean[0], ls=':')\n",
    "# plt.axvline(true_mean[0]+1, ls=':')\n",
    "plt.axhline(true_mean[1], ls=':')\n",
    "# plt.axhline(0.86+true_mean[1], ls=':')\n",
    "# plt.colorbar()\n",
    "# plt.plot(x,x)\n",
    "# print \"data:\", data\n",
    "# plt.contourf(x,y,rv.pdf(grid),25,cmap=cmap)\n",
    "if True:\n",
    "# if False:\n",
    "    plt.scatter(hc_cho_data[0,:],hc_cho_data[1,:], \n",
    "                alpha=0.01,\n",
    "                c='k',\n",
    "                s=9,\n",
    "               edgecolor='')\n",
    "plt.xlim(*pltlims[0])\n",
    "plt.ylim(*pltlims[1])"
   ]
  },
  {
   "cell_type": "code",
   "execution_count": null,
   "metadata": {
    "collapsed": false
   },
   "outputs": [],
   "source": [
    "plt.hexbin(hc_cho_data[0,:],hc_cho_data[1,:])\n",
    "plt.xlim(*pltlims[0])\n",
    "plt.ylim(*pltlims[1])\n",
    "plt.colorbar()"
   ]
  },
  {
   "cell_type": "code",
   "execution_count": null,
   "metadata": {
    "collapsed": true
   },
   "outputs": [],
   "source": []
  }
 ],
 "metadata": {
  "kernelspec": {
   "display_name": "Python 2",
   "language": "python",
   "name": "python2"
  },
  "language_info": {
   "codemirror_mode": {
    "name": "ipython",
    "version": 2
   },
   "file_extension": ".py",
   "mimetype": "text/x-python",
   "name": "python",
   "nbconvert_exporter": "python",
   "pygments_lexer": "ipython2",
   "version": "2.7.6"
  }
 },
 "nbformat": 4,
 "nbformat_minor": 0
}
