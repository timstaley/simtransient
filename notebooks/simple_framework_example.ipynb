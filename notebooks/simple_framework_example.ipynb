{
 "metadata": {
  "name": "",
  "signature": "sha256:7e696659b390261b6777384735c48d822d98fe49715ec87ad6dc539b9d87ec26"
 },
 "nbformat": 3,
 "nbformat_minor": 0,
 "worksheets": [
  {
   "cells": [
    {
     "cell_type": "code",
     "collapsed": false,
     "input": [
      "%matplotlib inline\n",
      "from datetime import date, datetime, timedelta, time\n",
      "import pandas as pd\n",
      "import seaborn\n",
      "import matplotlib.pyplot as plt\n",
      "import numpy as np"
     ],
     "language": "python",
     "metadata": {},
     "outputs": []
    },
    {
     "cell_type": "code",
     "collapsed": false,
     "input": [
      "from simlightcurve.curves import GaussExp as Gred\n",
      "from scipy.stats import norm\n",
      "import scipy.optimize as op\n",
      "import emcee"
     ],
     "language": "python",
     "metadata": {},
     "outputs": []
    },
    {
     "cell_type": "code",
     "collapsed": false,
     "input": [
      "seaborn.set_context('talk')"
     ],
     "language": "python",
     "metadata": {},
     "outputs": []
    },
    {
     "cell_type": "code",
     "collapsed": false,
     "input": [
      "class1 = Gred(rise_tau=1,decay_tau=1, peak_flux=2.0)\n",
      "class2 = Gred(rise_tau=5,decay_tau=15, peak_flux=1.0)"
     ],
     "language": "python",
     "metadata": {},
     "outputs": []
    },
    {
     "cell_type": "code",
     "collapsed": false,
     "input": [
      "sigma=0.15\n",
      "detection_thresh = 3\n",
      "tsteps= np.linspace(-30,50, 1000)\n",
      "plt.plot(tsteps, class1.flux(tsteps),c='g')\n",
      "plt.plot(tsteps, class1.flux(tsteps)+sigma, ls=':',c='g')\n",
      "plt.plot(tsteps, class1.flux(tsteps)-sigma, ls=':',c='g')\n",
      "plt.plot(tsteps, class2.flux(tsteps),c='b')\n",
      "plt.plot(tsteps, class2.flux(tsteps)+sigma, ls=':',c='b')\n",
      "plt.plot(tsteps, class2.flux(tsteps)-sigma, ls=':',c='b')\n",
      "# plt.yscale('log')\n",
      "plt.axhline(sigma*detection_thresh, ls='--')"
     ],
     "language": "python",
     "metadata": {},
     "outputs": []
    },
    {
     "cell_type": "code",
     "collapsed": false,
     "input": [
      "def log_likelihood(t0, tf, model, sigma):\n",
      "    tsteps, noisy_fluxes = tf\n",
      "    intrinsic_fluxes = model.flux(tsteps-t0)\n",
      "    return -0.5 * np.sum(np.log(2 * np.pi * sigma ** 2) + (noisy_fluxes-intrinsic_fluxes) ** 2 / sigma ** 2)"
     ],
     "language": "python",
     "metadata": {},
     "outputs": []
    },
    {
     "cell_type": "code",
     "collapsed": false,
     "input": [
      "true_t0 = 5+np.random.random()*5\n",
      "print true_t0"
     ],
     "language": "python",
     "metadata": {},
     "outputs": []
    },
    {
     "cell_type": "code",
     "collapsed": false,
     "input": [
      "c1_detection_time = class1.find_rise_t_offset(threshold=sigma*detection_thresh)+true_t0\n",
      "c2_detection_time = class2.find_rise_t_offset(threshold=sigma*detection_thresh)+true_t0\n",
      "c2_detection_time"
     ],
     "language": "python",
     "metadata": {},
     "outputs": []
    },
    {
     "cell_type": "code",
     "collapsed": false,
     "input": [
      "t_data = np.asarray([c2_detection_time])\n",
      "true_flux = class2.flux(t_data-true_t0)\n",
      "noisy_flux = true_flux+norm.rvs(loc=0, scale=sigma, size=len(true_flux))\n",
      "print t_data\n",
      "print true_flux\n",
      "print noisy_flux"
     ],
     "language": "python",
     "metadata": {},
     "outputs": []
    },
    {
     "cell_type": "code",
     "collapsed": false,
     "input": [
      "c2_t0_guess = t_data[0]-class2.find_rise_t_offset(threshold = noisy_flux[0])\n",
      "c2_t0_guess"
     ],
     "language": "python",
     "metadata": {},
     "outputs": []
    },
    {
     "cell_type": "code",
     "collapsed": false,
     "input": [
      "neg_likelihood = lambda *args: -log_likelihood(*args)\n",
      "\n",
      "results = op.minimize(neg_likelihood, c2_t0_guess, args=((t_data,noisy_flux), class2, sigma))\n",
      "print true_t0, results.x\n",
      "print results.x - true_t0"
     ],
     "language": "python",
     "metadata": {},
     "outputs": []
    },
    {
     "cell_type": "code",
     "collapsed": false,
     "input": [
      "plt.plot(tsteps,class2.flux(tsteps-true_t0), ls='--', label='true')\n",
      "plt.plot(tsteps,class2.flux(tsteps-results.x), ls='--', label='guess')\n",
      "plt.scatter(t_data,noisy_flux)\n",
      "plt.errorbar(t_data,noisy_flux, yerr=sigma)\n",
      "plt.ylim(0,1)\n",
      "plt.legend()\n"
     ],
     "language": "python",
     "metadata": {},
     "outputs": []
    },
    {
     "cell_type": "code",
     "collapsed": false,
     "input": [
      "ndim = 1  # number of parameters in the model\n",
      "nwalkers = 10  # number of MCMC walkers\n",
      "nsteps = 1000  # number of MCMC steps to take\n",
      "\n",
      "pos = [c2_t0_guess+ 1e-4*np.random.randn(ndim) for i in range(nwalkers)]\n",
      "\n",
      "sampler = emcee.EnsembleSampler(nwalkers, ndim, log_likelihood, args=((t_data,noisy_flux),class2,sigma*1.5))"
     ],
     "language": "python",
     "metadata": {},
     "outputs": []
    },
    {
     "cell_type": "code",
     "collapsed": false,
     "input": [
      "_=sampler.run_mcmc(pos, 5000)\n",
      "for walker in sampler.chain[:,:,:]:\n",
      "    plt.plot(walker)"
     ],
     "language": "python",
     "metadata": {},
     "outputs": []
    },
    {
     "cell_type": "code",
     "collapsed": false,
     "input": [
      "acorrs = [emcee.autocorr.integrated_time(walker) for walker in sampler.chain[:,:,:]]\n",
      "np.mean(acorrs)"
     ],
     "language": "python",
     "metadata": {},
     "outputs": []
    },
    {
     "cell_type": "code",
     "collapsed": false,
     "input": [
      "plt.hist(sampler.chain[:,250::1,:].ravel(),normed=True,alpha=0.8)\n",
      "plt.hist(sampler.chain[:,250::40,:].ravel(),normed=True,alpha=0.6)"
     ],
     "language": "python",
     "metadata": {},
     "outputs": []
    },
    {
     "cell_type": "code",
     "collapsed": false,
     "input": [
      "samples = sampler.chain[:,250::1,:].ravel()\n",
      "plt.hist(samples)"
     ],
     "language": "python",
     "metadata": {},
     "outputs": []
    },
    {
     "cell_type": "code",
     "collapsed": false,
     "input": [
      "plt.plot(tsteps,class2.flux(tsteps-true_t0), ls='--', label='true')\n",
      "plt.plot(tsteps,class2.flux(tsteps-3.5), label='guess1')\n",
      "plt.plot(tsteps,class2.flux(tsteps-(-5)),  label='guess2')\n",
      "plt.scatter(t_data,noisy_flux)\n",
      "plt.errorbar(t_data,noisy_flux, yerr=sigma)\n",
      "plt.ylim(0,2)\n",
      "plt.legend()\n"
     ],
     "language": "python",
     "metadata": {},
     "outputs": []
    },
    {
     "cell_type": "code",
     "collapsed": false,
     "input": [
      "def log_prior(t0):\n",
      "    if t0 < -10.:\n",
      "        return -np.inf\n",
      "    if t0 > 25.:\n",
      "        return -np.inf\n",
      "    return 0.0\n",
      "#     return np.exp(-t0**2/100) -1 \n",
      "\n",
      "def log_prob(t0, tf, model,sigma):\n",
      "    return log_prior(t0) + log_likelihood(t0,tf,model,sigma)\n",
      "\n",
      "# prior_t = np.linspace(-10,10, 100)\n",
      "# plt.plot(prior_t, log_prior(prior_t))"
     ],
     "language": "python",
     "metadata": {},
     "outputs": []
    },
    {
     "cell_type": "code",
     "collapsed": false,
     "input": [
      "sampler = emcee.EnsembleSampler(nwalkers, ndim, log_prob, args=((t_data,noisy_flux),class2, sigma))\n",
      "_=sampler.run_mcmc(pos, 6000)\n",
      "for walker in sampler.chain[:,:,:]:\n",
      "    plt.plot(walker)"
     ],
     "language": "python",
     "metadata": {},
     "outputs": []
    },
    {
     "cell_type": "code",
     "collapsed": false,
     "input": [
      "sampler.chain.shape"
     ],
     "language": "python",
     "metadata": {},
     "outputs": []
    },
    {
     "cell_type": "code",
     "collapsed": false,
     "input": [
      "# sampler.chain[:,250:,0]\n",
      "good_walkers = sampler.chain[:,250:,0]\n",
      "good_walkers.shape"
     ],
     "language": "python",
     "metadata": {},
     "outputs": []
    },
    {
     "cell_type": "code",
     "collapsed": false,
     "input": [
      "acorrs = [emcee.autocorr.integrated_time(walker) for walker in good_walkers]\n",
      "\n",
      "np.mean(acorrs), np.max(acorrs), np.floor(np.max(acorrs))"
     ],
     "language": "python",
     "metadata": {},
     "outputs": []
    },
    {
     "cell_type": "code",
     "collapsed": false,
     "input": [
      "sampler.get_autocorr_time()\n"
     ],
     "language": "python",
     "metadata": {},
     "outputs": []
    },
    {
     "cell_type": "code",
     "collapsed": false,
     "input": [
      "samples = sampler.chain[:,250::np.floor(np.max(acorrs)),:].ravel()\n",
      "print samples.shape\n",
      "plt.hist(samples)"
     ],
     "language": "python",
     "metadata": {},
     "outputs": []
    },
    {
     "cell_type": "code",
     "collapsed": false,
     "input": [
      "plt.plot(tsteps,class2.flux(tsteps-true_t0), ls='--', label='true')\n",
      "plt.plot(tsteps,class2.flux(tsteps-results.x), label='MAP')\n",
      "plt.plot(tsteps,class2.flux(tsteps-np.mean(samples)), label='MCMC mean')\n",
      "plt.scatter(t_data,noisy_flux)\n",
      "plt.errorbar(t_data,noisy_flux, yerr=sigma)\n",
      "plt.xlim(-10,20)\n",
      "plt.ylim(0,1)\n",
      "plt.legend()\n"
     ],
     "language": "python",
     "metadata": {},
     "outputs": []
    },
    {
     "cell_type": "code",
     "collapsed": false,
     "input": [
      "subsamples_t0 = samples[np.random.randint(len(samples),size=100)]\n",
      "curves = [ class2.flux(tsteps - t0)  for t0 in subsamples_t0]\n",
      "np.asarray(curves).shape\n",
      "\n"
     ],
     "language": "python",
     "metadata": {},
     "outputs": []
    },
    {
     "cell_type": "code",
     "collapsed": false,
     "input": [
      "#Forecast:\n",
      "t_forecast= 15\n",
      "forecast_data=[class2.flux(t_forecast - t0) for t0 in samples]\n"
     ],
     "language": "python",
     "metadata": {},
     "outputs": []
    },
    {
     "cell_type": "code",
     "collapsed": false,
     "input": [
      "from matplotlib import gridspec\n",
      "\n",
      "fig = plt.figure() \n",
      "# fig, axes = plt.subplots(nrows=1, ncols=2,\n",
      "# #                          sharey=True, \n",
      "# #                          figsize=(18,6)\n",
      "#                          )\n",
      "\n",
      "seaborn.set_context('poster')\n",
      "gs = gridspec.GridSpec(1,2, width_ratios=[3,1])\n",
      "\n",
      "ts_axes = plt.subplot(gs[0])\n",
      "\n",
      "seaborn.tsplot( curves,  tsteps, err_style=\"unit_traces\", ax=ts_axes)\n",
      "seaborn.tsplot(curves,  tsteps, \n",
      "               err_style=\"ci_band\",\n",
      "               color='k', ax=ts_axes)\n",
      "ts_axes.plot(tsteps,class2.flux(tsteps-true_t0), ls='--', c='y',label='true', lw='5')\n",
      "\n",
      "ts_axes.scatter(t_data,noisy_flux, c='r', zorder=10)\n",
      "ts_axes.errorbar(t_data,noisy_flux, c='y',yerr=sigma,zorder=10)\n",
      "ts_axes.axvline(t_forecast, ls=':')\n",
      "ts_axes.axhline(np.mean(forecast_data), ls=':')\n",
      "\n",
      "hist_axes = plt.subplot(gs[1])\n",
      "hist_axes.hist(forecast_data, orientation='horizontal')\n",
      "_=hist_axes.set_ylim(ts_axes.get_ylim())"
     ],
     "language": "python",
     "metadata": {},
     "outputs": []
    },
    {
     "cell_type": "code",
     "collapsed": false,
     "input": [],
     "language": "python",
     "metadata": {},
     "outputs": []
    }
   ],
   "metadata": {}
  }
 ]
}