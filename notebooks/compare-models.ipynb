{
 "cells": [
  {
   "cell_type": "code",
   "execution_count": null,
   "metadata": {
    "collapsed": false
   },
   "outputs": [],
   "source": [
    "%matplotlib inline\n",
    "%load_ext autoreload\n",
    "%autoreload 2\n",
    "from datetime import date, datetime, timedelta, time\n",
    "import pandas as pd\n",
    "import seaborn\n",
    "import matplotlib.pyplot as plt\n",
    "import matplotlib as mpl\n",
    "import numpy as np\n",
    "import IPython.html.widgets as widgets"
   ]
  },
  {
   "cell_type": "code",
   "execution_count": null,
   "metadata": {
    "collapsed": true
   },
   "outputs": [],
   "source": [
    "import scipy\n",
    "from scipy.stats import norm\n",
    "import scipy.optimize as op\n",
    "import emcee\n",
    "import triangle"
   ]
  },
  {
   "cell_type": "code",
   "execution_count": null,
   "metadata": {
    "collapsed": true
   },
   "outputs": [],
   "source": [
    "seaborn.set_context('talk')"
   ]
  },
  {
   "cell_type": "code",
   "execution_count": null,
   "metadata": {
    "collapsed": false
   },
   "outputs": [],
   "source": [
    "import simtransient as st\n",
    "import simtransient.utils as stutils\n",
    "from simtransient import hammer\n",
    "from simtransient.models.supernova import Sn1aOpticalEnsemble, Sn2OpticalEnsemble\n",
    "from simtransient.modelrun import ModelRun"
   ]
  },
  {
   "cell_type": "code",
   "execution_count": null,
   "metadata": {
    "collapsed": false
   },
   "outputs": [],
   "source": [
    "mr1 = ModelRun(ensemble=Sn1aOpticalEnsemble(),\n",
    "              emcee_kwargs=dict(threads=4))\n",
    "mr2 = ModelRun(ensemble=Sn2OpticalEnsemble(),\n",
    "              emcee_kwargs=dict(threads=4))"
   ]
  },
  {
   "cell_type": "code",
   "execution_count": null,
   "metadata": {
    "collapsed": true
   },
   "outputs": [],
   "source": [
    "mr1.sample(300)"
   ]
  },
  {
   "cell_type": "code",
   "execution_count": null,
   "metadata": {
    "collapsed": true
   },
   "outputs": [],
   "source": [
    "mr2.sample(300)"
   ]
  },
  {
   "cell_type": "code",
   "execution_count": null,
   "metadata": {
    "collapsed": true
   },
   "outputs": [],
   "source": [
    "mr=mr2"
   ]
  },
  {
   "cell_type": "code",
   "execution_count": null,
   "metadata": {
    "collapsed": false
   },
   "outputs": [],
   "source": [
    "mr.plot_walkers()"
   ]
  },
  {
   "cell_type": "code",
   "execution_count": null,
   "metadata": {
    "collapsed": false
   },
   "outputs": [],
   "source": [
    "mr.plot_hists()"
   ]
  },
  {
   "cell_type": "code",
   "execution_count": null,
   "metadata": {
    "collapsed": false
   },
   "outputs": [],
   "source": [
    "mr.plot_triangle()"
   ]
  },
  {
   "cell_type": "code",
   "execution_count": null,
   "metadata": {
    "collapsed": false
   },
   "outputs": [],
   "source": [
    "seaborn.palplot(seaborn.color_palette('Paired'))"
   ]
  },
  {
   "cell_type": "code",
   "execution_count": null,
   "metadata": {
    "collapsed": true
   },
   "outputs": [],
   "source": [
    "palette = seaborn.color_palette('Paired')\n",
    "pal1 = dict(trace=palette[0], fo"
   ]
  },
  {
   "cell_type": "code",
   "execution_count": null,
   "metadata": {
    "collapsed": false
   },
   "outputs": [],
   "source": [
    "tsteps=np.linspace(-30,80,500)\n",
    "maxprior_pars = mr.ensemble.gauss_pars.T.mu.copy()\n",
    "maxprior_pars['t0']=0\n",
    "maxprior = mr.ensemble.get_curve(**maxprior_pars)\n",
    "mr2.plot_forecast(tsteps, \n",
    "                  t_forecast=20,\n",
    "#                  true_curve = maxprior\n",
    "                 )"
   ]
  },
  {
   "cell_type": "code",
   "execution_count": null,
   "metadata": {
    "collapsed": false
   },
   "outputs": [],
   "source": [
    "def plt_traces(ntrace):\n",
    "#     ntrace=int(ntrace)\n",
    "    for modelname, model in models.iteritems():\n",
    "        if model.plotthis:\n",
    "            choice_idx=np.random.choice(len(model.trimmed), size=ntrace, replace=False)\n",
    "            subsamples = model.trimmed[choice_idx]\n",
    "\n",
    "            t=np.linspace(-30, 80,1000)\n",
    "            lcs=[]\n",
    "            for pltpars in subsamples:\n",
    "                lcs.append(model.ensemble.evaluate(t,*pltpars,t0=0))\n",
    "            lcs=np.array(lcs)\n",
    "        #     seaborn.tsplot( lcs,  t, err_style=\"unit_traces\", ls='', color='y')\n",
    "            seaborn.tsplot( lcs,  t, err_style=\"unit_traces\", ls='', \n",
    "                           value='flux',\n",
    "                           color=model.color,\n",
    "                           )"
   ]
  },
  {
   "cell_type": "code",
   "execution_count": null,
   "metadata": {
    "collapsed": false
   },
   "outputs": [],
   "source": [
    "models.loc['plotthis']=True\n",
    "# models.sn1.plotthis=False\n",
    "# models.sn2.plotthis=False\n",
    "\n",
    "# widgets.interact(\n",
    "widgets.interact_manual(\n",
    "    plt_traces, ntrace=(0,150),\n",
    "        )"
   ]
  },
  {
   "cell_type": "code",
   "execution_count": null,
   "metadata": {
    "collapsed": true
   },
   "outputs": [],
   "source": []
  }
 ],
 "metadata": {
  "kernelspec": {
   "display_name": "Python 2",
   "language": "python",
   "name": "python2"
  },
  "language_info": {
   "codemirror_mode": {
    "name": "ipython",
    "version": 2
   },
   "file_extension": ".py",
   "mimetype": "text/x-python",
   "name": "python",
   "nbconvert_exporter": "python",
   "pygments_lexer": "ipython2",
   "version": "2.7.6"
  }
 },
 "nbformat": 4,
 "nbformat_minor": 0
}
