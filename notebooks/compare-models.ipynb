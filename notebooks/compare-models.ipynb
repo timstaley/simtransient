{
 "cells": [
  {
   "cell_type": "code",
   "execution_count": null,
   "metadata": {
    "collapsed": false
   },
   "outputs": [],
   "source": [
    "%matplotlib inline\n",
    "%load_ext autoreload\n",
    "%autoreload 2\n",
    "from datetime import date, datetime, timedelta, time\n",
    "import pandas as pd\n",
    "import seaborn\n",
    "import matplotlib.pyplot as plt\n",
    "import matplotlib as mpl\n",
    "import numpy as np\n",
    "import IPython.html.widgets as widgets"
   ]
  },
  {
   "cell_type": "code",
   "execution_count": null,
   "metadata": {
    "collapsed": true
   },
   "outputs": [],
   "source": [
    "import scipy\n",
    "from scipy.stats import norm\n",
    "import scipy.optimize as op\n",
    "import emcee\n",
    "import triangle"
   ]
  },
  {
   "cell_type": "code",
   "execution_count": null,
   "metadata": {
    "collapsed": true
   },
   "outputs": [],
   "source": [
    "seaborn.set_context('talk')"
   ]
  },
  {
   "cell_type": "code",
   "execution_count": null,
   "metadata": {
    "collapsed": false
   },
   "outputs": [],
   "source": [
    "import simtransient as st\n",
    "import simtransient.utils as stutils\n",
    "from simtransient import hammer\n",
    "from simtransient.models.supernova import Sn1aOpticalEnsemble, Sn2OpticalEnsemble\n",
    "from simtransient.modelrun import ModelRun"
   ]
  },
  {
   "cell_type": "code",
   "execution_count": null,
   "metadata": {
    "collapsed": false
   },
   "outputs": [],
   "source": [
    "mr1 = ModelRun(ensemble=Sn1aOpticalEnsemble(),\n",
    "              emcee_kwargs=dict(threads=4))\n",
    "mr2 = ModelRun(ensemble=Sn2OpticalEnsemble(),\n",
    "              emcee_kwargs=dict(threads=4))"
   ]
  },
  {
   "cell_type": "code",
   "execution_count": null,
   "metadata": {
    "collapsed": true
   },
   "outputs": [],
   "source": [
    "mr1.sample(300)"
   ]
  },
  {
   "cell_type": "code",
   "execution_count": null,
   "metadata": {
    "collapsed": true
   },
   "outputs": [],
   "source": [
    "mr2.sample(300)"
   ]
  },
  {
   "cell_type": "code",
   "execution_count": null,
   "metadata": {
    "collapsed": true
   },
   "outputs": [],
   "source": [
    "mr=mr2"
   ]
  },
  {
   "cell_type": "code",
   "execution_count": null,
   "metadata": {
    "collapsed": false
   },
   "outputs": [],
   "source": [
    "mr1.plot_walkers()"
   ]
  },
  {
   "cell_type": "code",
   "execution_count": null,
   "metadata": {
    "collapsed": false
   },
   "outputs": [],
   "source": [
    "mr.plot_hists()"
   ]
  },
  {
   "cell_type": "code",
   "execution_count": null,
   "metadata": {
    "collapsed": false
   },
   "outputs": [],
   "source": [
    "mr.plot_triangle()"
   ]
  },
  {
   "cell_type": "code",
   "execution_count": null,
   "metadata": {
    "collapsed": false
   },
   "outputs": [],
   "source": [
    "seaborn.palplot(seaborn.color_palette('bright'))"
   ]
  },
  {
   "cell_type": "code",
   "execution_count": null,
   "metadata": {
    "collapsed": false
   },
   "outputs": [],
   "source": [
    "seaborn.palplot(seaborn.color_palette('deep'))"
   ]
  },
  {
   "cell_type": "code",
   "execution_count": null,
   "metadata": {
    "collapsed": false
   },
   "outputs": [],
   "source": [
    "seaborn.palplot(seaborn.color_palette('Paired'))"
   ]
  },
  {
   "cell_type": "code",
   "execution_count": null,
   "metadata": {
    "collapsed": false
   },
   "outputs": [],
   "source": [
    "\n",
    "seaborn.palplot(seaborn.color_palette(\"husl\", 8))"
   ]
  },
  {
   "cell_type": "code",
   "execution_count": null,
   "metadata": {
    "collapsed": false
   },
   "outputs": [],
   "source": [
    "import itertools\n",
    "chls=seaborn.color_palette(\"husl\", 6)\n",
    "chls_cycle = itertools.cycle(chls)"
   ]
  },
  {
   "cell_type": "code",
   "execution_count": null,
   "metadata": {
    "collapsed": false
   },
   "outputs": [],
   "source": [
    "cpaired = seaborn.color_palette('Paired')\n",
    "cbright=seaborn.color_palette('bright')\n",
    "cmuted=seaborn.color_palette('muted')\n",
    "\n",
    "pal2 = dict(trace=chls_cycle.next(), forecast=chls_cycle.next())\n",
    "pal1 = dict(trace=chls_cycle.next(), forecast=chls_cycle.next())"
   ]
  },
  {
   "cell_type": "code",
   "execution_count": null,
   "metadata": {
    "collapsed": true
   },
   "outputs": [],
   "source": [
    "seaborn.set_context('poster')"
   ]
  },
  {
   "cell_type": "code",
   "execution_count": null,
   "metadata": {
    "collapsed": false
   },
   "outputs": [],
   "source": [
    "tsteps=np.linspace(-30,80,500)\n",
    "t_forecast=50\n",
    "\n",
    "maxprior_pars = mr.ensemble.gauss_pars.T.mu.copy()\n",
    "maxprior_pars['t0']=0\n",
    "maxprior = mr.ensemble.get_curve(**maxprior_pars)\n",
    "\n",
    "axes=None\n",
    "\n",
    "\n",
    "\n",
    "axes=mr1.plot_forecast(tsteps,t_forecast=t_forecast, \n",
    "            axes=axes, palette=pal1\n",
    "                 )\n",
    "\n",
    "axes=mr2.plot_forecast(tsteps, \n",
    "                  t_forecast=t_forecast,\n",
    "                  palette=pal2,\n",
    "                  axes=axes\n",
    "                 )\n",
    "\n",
    "# for ax in axes:\n",
    "#     ax.set_ylim(0,15)"
   ]
  },
  {
   "cell_type": "code",
   "execution_count": null,
   "metadata": {
    "collapsed": true
   },
   "outputs": [],
   "source": []
  }
 ],
 "metadata": {
  "kernelspec": {
   "display_name": "Python 2",
   "language": "python",
   "name": "python2"
  },
  "language_info": {
   "codemirror_mode": {
    "name": "ipython",
    "version": 2
   },
   "file_extension": ".py",
   "mimetype": "text/x-python",
   "name": "python",
   "nbconvert_exporter": "python",
   "pygments_lexer": "ipython2",
   "version": "2.7.6"
  }
 },
 "nbformat": 4,
 "nbformat_minor": 0
}
