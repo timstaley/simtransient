{
 "cells": [
  {
   "cell_type": "code",
   "execution_count": null,
   "metadata": {
    "collapsed": false
   },
   "outputs": [],
   "source": [
    "%matplotlib inline\n",
    "%load_ext autoreload\n",
    "%autoreload 2\n",
    "from datetime import date, datetime, timedelta, time\n",
    "import pandas as pd\n",
    "import seaborn\n",
    "import matplotlib.pyplot as plt\n",
    "import matplotlib as mpl\n",
    "import numpy as np\n",
    "import IPython.html.widgets as widgets"
   ]
  },
  {
   "cell_type": "code",
   "execution_count": null,
   "metadata": {
    "collapsed": true
   },
   "outputs": [],
   "source": [
    "import scipy\n",
    "from scipy.stats import norm\n",
    "import scipy.optimize as op\n",
    "import emcee\n",
    "import triangle"
   ]
  },
  {
   "cell_type": "code",
   "execution_count": null,
   "metadata": {
    "collapsed": true
   },
   "outputs": [],
   "source": [
    "seaborn.set_context('talk')"
   ]
  },
  {
   "cell_type": "code",
   "execution_count": null,
   "metadata": {
    "collapsed": false
   },
   "outputs": [],
   "source": [
    "import simtransient as st\n",
    "import simtransient.utils as stutils\n",
    "from simtransient import hammer\n",
    "from simtransient.models.supernova import Sn1aOpticalEnsemble, Sn2OpticalEnsemble"
   ]
  },
  {
   "cell_type": "code",
   "execution_count": null,
   "metadata": {
    "collapsed": false
   },
   "outputs": [],
   "source": [
    "models = pd.DataFrame(index=('ensemble','sampler','chainstats','trimmed'),\n",
    "                      columns=('sn1','sn2'),\n",
    "                        dtype=np.object\n",
    "                       )\n",
    "\n",
    "models.sn1.ensemble= Sn1aOpticalEnsemble()\n",
    "models.sn2.ensemble= Sn2OpticalEnsemble()"
   ]
  },
  {
   "cell_type": "code",
   "execution_count": null,
   "metadata": {
    "collapsed": false
   },
   "outputs": [],
   "source": [
    "models.sn1.ensemble.gauss_pars"
   ]
  },
  {
   "cell_type": "code",
   "execution_count": null,
   "metadata": {
    "collapsed": true
   },
   "outputs": [],
   "source": [
    "def sample_gaussian_prior(ensemble, nwalkers, nsteps, nthreads):\n",
    "    sampler, init_ball = hammer.prep_ensemble_sampler(ensemble.gauss_pars.T.mu.values, \n",
    "                                       ensemble.gauss_lnprior, \n",
    "                                       args=[],\n",
    "                                       nwalkers=100,\n",
    "                                       ballsize=1e-3,\n",
    "                                       threads=4)\n",
    "    _ = sampler.run_mcmc(init_ball, N=300)\n",
    "    cs, trimmed = st.hammer.trim_chain(sampler, pt=False)\n",
    "    return dict(sampler=sampler, \n",
    "                trimmed=trimmed, \n",
    "                chainstats=cs)"
   ]
  },
  {
   "cell_type": "code",
   "execution_count": null,
   "metadata": {
    "collapsed": false
   },
   "outputs": [],
   "source": [
    "mc_runs = []\n",
    "nwalkers = 100\n",
    "nsteps=300\n",
    "nthreads=4\n",
    "\n",
    "for modelname in models.keys():\n",
    "    model = models[modelname]\n",
    "    results = sample_gaussian_prior(model.ensemble, \n",
    "                              nwalkers,nsteps,nthreads\n",
    "                              )\n",
    "    \n",
    "    model.sampler = results['sampler']\n",
    "    model.trimmed = results['trimmed']\n",
    "    model.chainstats = results['chainstats']"
   ]
  },
  {
   "cell_type": "code",
   "execution_count": null,
   "metadata": {
    "collapsed": false
   },
   "outputs": [],
   "source": [
    "model = models.sn2\n",
    "st.plot.chain.all_walkers(model.sampler.chain, model.chainstats, model.ensemble.gauss_pars.keys())"
   ]
  },
  {
   "cell_type": "code",
   "execution_count": null,
   "metadata": {
    "collapsed": false
   },
   "outputs": [],
   "source": [
    "# _=triangle.corner(models.sn2.trimmed,\n",
    "#                  labels=models.sn2.ensemble.gauss_pars.keys(),\n",
    "#                  quantiles=[0.05, 0.5, 0.95],\n",
    "#                  truths=models.sn2.ensemble.gauss_pars.T.mu)"
   ]
  },
  {
   "cell_type": "code",
   "execution_count": null,
   "metadata": {
    "collapsed": false
   },
   "outputs": [],
   "source": [
    "# seaborn.palplot(seaborn.color_palette('colorblind'))"
   ]
  },
  {
   "cell_type": "code",
   "execution_count": null,
   "metadata": {
    "collapsed": false
   },
   "outputs": [],
   "source": [
    "palette = seaborn.color_palette('Paired')\n",
    "models.loc['color']=palette[1],palette[-1]\n",
    "models.loc['plotthis']=True\n",
    "# seaborn.palplot(models.T.color)\n",
    "# models"
   ]
  },
  {
   "cell_type": "code",
   "execution_count": null,
   "metadata": {
    "collapsed": false
   },
   "outputs": [],
   "source": [
    "def plt_traces(ntrace):\n",
    "#     ntrace=int(ntrace)\n",
    "    for modelname, model in models.iteritems():\n",
    "        if model.plotthis:\n",
    "            choice_idx=np.random.choice(len(model.trimmed), size=ntrace, replace=False)\n",
    "            subsamples = model.trimmed[choice_idx]\n",
    "\n",
    "            t=np.linspace(-30, 80,1000)\n",
    "            lcs=[]\n",
    "            for pltpars in subsamples:\n",
    "                lcs.append(model.ensemble.evaluate(t,*pltpars,t0=0))\n",
    "            lcs=np.array(lcs)\n",
    "        #     seaborn.tsplot( lcs,  t, err_style=\"unit_traces\", ls='', color='y')\n",
    "            seaborn.tsplot( lcs,  t, err_style=\"unit_traces\", ls='', \n",
    "                           value='flux',\n",
    "                           color=model.color,\n",
    "                           )"
   ]
  },
  {
   "cell_type": "code",
   "execution_count": null,
   "metadata": {
    "collapsed": false
   },
   "outputs": [],
   "source": [
    "models.loc['plotthis']=True\n",
    "# models.sn1.plotthis=False\n",
    "# models.sn2.plotthis=False\n",
    "\n",
    "# widgets.interact(\n",
    "widgets.interact_manual(\n",
    "    plt_traces, ntrace=(0,150),\n",
    "        )"
   ]
  },
  {
   "cell_type": "code",
   "execution_count": null,
   "metadata": {
    "collapsed": true
   },
   "outputs": [],
   "source": []
  }
 ],
 "metadata": {
  "kernelspec": {
   "display_name": "Python 2",
   "language": "python",
   "name": "python2"
  },
  "language_info": {
   "codemirror_mode": {
    "name": "ipython",
    "version": 2
   },
   "file_extension": ".py",
   "mimetype": "text/x-python",
   "name": "python",
   "nbconvert_exporter": "python",
   "pygments_lexer": "ipython2",
   "version": "2.7.6"
  }
 },
 "nbformat": 4,
 "nbformat_minor": 0
}
