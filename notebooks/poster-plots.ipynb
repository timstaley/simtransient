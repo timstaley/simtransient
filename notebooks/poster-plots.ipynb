{
 "cells": [
  {
   "cell_type": "code",
   "execution_count": null,
   "metadata": {
    "collapsed": false
   },
   "outputs": [],
   "source": [
    "%matplotlib inline\n",
    "%load_ext autoreload\n",
    "%autoreload 2\n",
    "from datetime import date, datetime, timedelta, time\n",
    "import pandas as pd\n",
    "import seaborn\n",
    "import matplotlib.pyplot as plt\n",
    "import matplotlib as mpl\n",
    "from matplotlib import gridspec\n",
    "import numpy as np"
   ]
  },
  {
   "cell_type": "code",
   "execution_count": null,
   "metadata": {
    "collapsed": true
   },
   "outputs": [],
   "source": [
    "import scipy\n",
    "from scipy.stats import norm\n",
    "import scipy.optimize as op\n",
    "import emcee\n",
    "import triangle"
   ]
  },
  {
   "cell_type": "code",
   "execution_count": null,
   "metadata": {
    "collapsed": false
   },
   "outputs": [],
   "source": [
    "import simtransient as st\n",
    "import simtransient.utils as stutils\n",
    "from simtransient import hammer\n",
    "from simtransient.models.supernova import Sn1aOpticalEnsemble, Sn2OpticalEnsemble\n",
    "from simtransient.modelrun import ModelRun"
   ]
  },
  {
   "cell_type": "code",
   "execution_count": null,
   "metadata": {
    "collapsed": false
   },
   "outputs": [],
   "source": [
    "# Commence plot tweaking!\n",
    "\n",
    "rpal = seaborn.color_palette('Reds',7)\n",
    "bpal = seaborn.color_palette('Blues',7)\n",
    "gpal = seaborn.color_palette('Greens',5)\n",
    "orpal = seaborn.color_palette('YlOrBr',7)\n",
    "kpal = seaborn.color_palette('Greys',6)\n",
    "for pal in (rpal, bpal, gpal, orpal, kpal):\n",
    "    seaborn.palplot(pal)"
   ]
  },
  {
   "cell_type": "code",
   "execution_count": null,
   "metadata": {
    "collapsed": false
   },
   "outputs": [],
   "source": [
    "pal1 = {}\n",
    "pal1['trace'] = bpal[3]\n",
    "pal1['data']= gpal[-1]\n",
    "pal1['true']=kpal[-2]\n",
    "pal1['forecast']='k'\n",
    "pal2 = pal1.copy()\n",
    "pal2['trace']=rpal[3]"
   ]
  },
  {
   "cell_type": "code",
   "execution_count": null,
   "metadata": {
    "collapsed": true
   },
   "outputs": [],
   "source": [
    "nthreads=4"
   ]
  },
  {
   "cell_type": "code",
   "execution_count": null,
   "metadata": {
    "collapsed": true
   },
   "outputs": [],
   "source": [
    "emcee_kwargs=dict(threads=nthreads)\n",
    "mr1 = ModelRun(ensemble=Sn1aOpticalEnsemble())\n",
    "sampler1 = mr1.get_sampler(threads=nthreads)\n",
    "mr2 = ModelRun(ensemble=Sn2OpticalEnsemble())\n",
    "sampler2 = mr2.get_sampler(threads=nthreads)"
   ]
  },
  {
   "cell_type": "code",
   "execution_count": null,
   "metadata": {
    "collapsed": true
   },
   "outputs": [],
   "source": [
    "%%capture\n",
    "mr1.run(sampler1,300)\n",
    "mr2.run(sampler2,300)\n",
    "print"
   ]
  },
  {
   "cell_type": "code",
   "execution_count": null,
   "metadata": {
    "collapsed": false
   },
   "outputs": [],
   "source": [
    "seaborn.set_context('poster')\n",
    "tsteps=np.linspace(-30,80,500)\n",
    "t_forecast=50\n",
    "mr=mr1\n",
    "maxprior_pars = mr.ensemble.gauss_pars.T.mu.copy()\n",
    "maxprior_pars['t0']=0\n",
    "maxprior = mr.ensemble.get_curve(**maxprior_pars)\n",
    "\n",
    "\n",
    "gs = gridspec.GridSpec(3, 8)# width_ratios=[1, 1])\n",
    "axes = plt.subplot(gs[:,:4]),plt.subplot(gs[:,4:])\n",
    "\n",
    "mr1.plot_forecast(tsteps,\n",
    "#                        t_forecast=t_forecast, \n",
    "                axes=(axes[0],None), \n",
    "                       palette=pal1\n",
    "                 )\n",
    "\n",
    "mr2.plot_forecast(tsteps, \n",
    "#                   t_forecast=t_forecast,\n",
    "                  palette=pal2,\n",
    "                  axes=(axes[1],None), \n",
    "                 )\n",
    "\n",
    "axes[0].set_ylabel('Flux')\n",
    "axes[1].set_yticklabels([])\n",
    "axes[0].set_ylim(axes[1].get_ylim())\n",
    "for ax in axes:\n",
    "    ax.set_xlabel('Time')\n",
    "    ax.set_ylim(0,27)\n",
    "plt.gcf().tight_layout()\n",
    "plt.savefig('prior_models.pdf')\n"
   ]
  },
  {
   "cell_type": "code",
   "execution_count": null,
   "metadata": {
    "collapsed": true
   },
   "outputs": [],
   "source": []
  },
  {
   "cell_type": "code",
   "execution_count": null,
   "metadata": {
    "collapsed": true
   },
   "outputs": [],
   "source": []
  },
  {
   "cell_type": "code",
   "execution_count": null,
   "metadata": {
    "collapsed": true
   },
   "outputs": [],
   "source": []
  }
 ],
 "metadata": {
  "kernelspec": {
   "display_name": "Python 2",
   "language": "python",
   "name": "python2"
  },
  "language_info": {
   "codemirror_mode": {
    "name": "ipython",
    "version": 2
   },
   "file_extension": ".py",
   "mimetype": "text/x-python",
   "name": "python",
   "nbconvert_exporter": "python",
   "pygments_lexer": "ipython2",
   "version": "2.7.6"
  }
 },
 "nbformat": 4,
 "nbformat_minor": 0
}
