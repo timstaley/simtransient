{
 "cells": [
  {
   "cell_type": "code",
   "execution_count": null,
   "metadata": {
    "collapsed": false
   },
   "outputs": [],
   "source": [
    "%matplotlib inline\n",
    "%load_ext autoreload\n",
    "%autoreload 2\n",
    "from __future__ import print_function\n",
    "from datetime import date, datetime, timedelta, time\n",
    "import pandas as pd\n",
    "import seaborn\n",
    "import matplotlib.pyplot as plt\n",
    "import matplotlib as mpl\n",
    "from matplotlib import gridspec\n",
    "import numpy as np"
   ]
  },
  {
   "cell_type": "code",
   "execution_count": null,
   "metadata": {
    "collapsed": true
   },
   "outputs": [],
   "source": [
    "import scipy\n",
    "from scipy.stats import multivariate_normal, norm\n",
    "import scipy.optimize as op\n",
    "import emcee\n",
    "import triangle"
   ]
  },
  {
   "cell_type": "code",
   "execution_count": null,
   "metadata": {
    "collapsed": false
   },
   "outputs": [],
   "source": [
    "import simtransient as st\n",
    "import simtransient.utils as stutils\n",
    "from simtransient import hammer\n",
    "from simtransient.models.supernova import Sn1aOpticalEnsemble, Sn2OpticalEnsemble\n",
    "from simtransient.modelrun import ModelRun"
   ]
  },
  {
   "cell_type": "code",
   "execution_count": null,
   "metadata": {
    "collapsed": true
   },
   "outputs": [],
   "source": [
    "import math"
   ]
  },
  {
   "cell_type": "code",
   "execution_count": null,
   "metadata": {
    "collapsed": false
   },
   "outputs": [],
   "source": [
    "# Commence plot tweaking!\n",
    "bigfontsize=40\n",
    "labelfontsize=35\n",
    "tickfontsize=30\n",
    "linewidth=9\n",
    "#Paper\n",
    "# bigfontsize=20\n",
    "# labelfontsize=18\n",
    "# tickfontsize=18\n",
    "plt.rcParams.update({'font.size': bigfontsize,\n",
    "                     'axes.labelsize':labelfontsize,\n",
    "                     'xtick.labelsize':tickfontsize,\n",
    "                     'ytick.labelsize':tickfontsize,\n",
    "                     'legend.fontsize':tickfontsize,\n",
    "                     })"
   ]
  },
  {
   "cell_type": "code",
   "execution_count": null,
   "metadata": {
    "collapsed": false
   },
   "outputs": [],
   "source": [
    "\n",
    "\n",
    "rpal = seaborn.color_palette('Reds',7)\n",
    "bpal = seaborn.color_palette('Blues',7)\n",
    "gpal = seaborn.color_palette('Greens',7)\n",
    "orpal = seaborn.color_palette('YlOrBr',7)\n",
    "kpal = seaborn.color_palette('Greys',6)\n",
    "\n",
    "darkpal = seaborn.color_palette('dark')\n",
    "mutepal = seaborn.color_palette('muted')\n",
    "deeppal = seaborn.color_palette('deep')\n",
    "\n",
    "for pal in (rpal, bpal, gpal, orpal, kpal, darkpal, mutepal, deeppal):\n",
    "    seaborn.palplot(pal)"
   ]
  },
  {
   "cell_type": "code",
   "execution_count": null,
   "metadata": {
    "collapsed": false
   },
   "outputs": [],
   "source": [
    "pal1 = {}\n",
    "pal1['trace'] = bpal[3]\n",
    "pal1['data']= gpal[-1]\n",
    "pal1['true']=kpal[-2]\n",
    "pal1['forecast']='k'\n",
    "pal2 = pal1.copy()\n",
    "pal2['trace']=rpal[3]"
   ]
  },
  {
   "cell_type": "code",
   "execution_count": null,
   "metadata": {
    "collapsed": true
   },
   "outputs": [],
   "source": [
    "nthreads=4"
   ]
  },
  {
   "cell_type": "markdown",
   "metadata": {},
   "source": [
    "First: Display the model classes we'll be using:"
   ]
  },
  {
   "cell_type": "code",
   "execution_count": null,
   "metadata": {
    "collapsed": true
   },
   "outputs": [],
   "source": [
    "emcee_kwargs=dict(threads=nthreads)\n",
    "priorrun1 = ModelRun(ensemble=Sn1aOpticalEnsemble())\n",
    "sampler1 = priorrun1.get_sampler(threads=nthreads)\n",
    "priorrun2 = ModelRun(ensemble=Sn2OpticalEnsemble())\n",
    "sampler2 = priorrun2.get_sampler(threads=nthreads)"
   ]
  },
  {
   "cell_type": "code",
   "execution_count": null,
   "metadata": {
    "collapsed": false
   },
   "outputs": [],
   "source": [
    "%%capture\n",
    "priorrun1.run(sampler1,300)\n",
    "priorrun2.run(sampler2,300)\n",
    "print()"
   ]
  },
  {
   "cell_type": "code",
   "execution_count": null,
   "metadata": {
    "collapsed": false
   },
   "outputs": [],
   "source": [
    "seaborn.set_context('poster')\n",
    "tsteps=np.linspace(-30,80,500)\n",
    "t_forecast=50\n",
    "mr=priorrun1\n",
    "maxprior_pars = mr.ensemble.gauss_pars.T.mu.copy()\n",
    "maxprior_pars['t0']=0\n",
    "maxprior = mr.ensemble.get_curve(**maxprior_pars)\n",
    "\n",
    "\n",
    "gs = gridspec.GridSpec(2, 8)# width_ratios=[1, 1])\n",
    "axes = plt.subplot(gs[:,:4]),plt.subplot(gs[:,4:])\n",
    "\n",
    "priorrun1.plot_forecast(tsteps,\n",
    "#                        t_forecast=t_forecast, \n",
    "                axes=(axes[0],None), \n",
    "                       palette=pal1\n",
    "                 )\n",
    "\n",
    "priorrun2.plot_forecast(tsteps, \n",
    "#                   t_forecast=t_forecast,\n",
    "                  palette=pal2,\n",
    "                  axes=(axes[1],None), \n",
    "                 )\n",
    "\n",
    "axes[0].set_ylabel('Flux')\n",
    "axes[1].set_yticklabels([])\n",
    "axes[0].set_ylim(axes[1].get_ylim())\n",
    "for ax in axes:\n",
    "    ax.set_xlabel('Time')\n",
    "    ax.set_ylim(0,27)\n",
    "plt.tight_layout(pad=3)\n",
    "axes[0].set_title('Type 1')\n",
    "axes[1].set_title('Type 2')\n",
    "plt.tight_layout()\n",
    "fig = plt.gcf()\n",
    "fig.set_size_inches(12, 5)\n",
    "plt.savefig('prior_models.pdf')\n"
   ]
  },
  {
   "cell_type": "markdown",
   "metadata": {},
   "source": [
    "Simulate some datapoints:"
   ]
  },
  {
   "cell_type": "code",
   "execution_count": null,
   "metadata": {
    "collapsed": true
   },
   "outputs": [],
   "source": [
    "obs_sigma=1\n",
    "detection_thresh = 4.\n",
    "analysis_thresh = 2.5\n",
    "\n"
   ]
  },
  {
   "cell_type": "code",
   "execution_count": null,
   "metadata": {
    "collapsed": false
   },
   "outputs": [],
   "source": [
    "true_ensemble = Sn1aOpticalEnsemble()\n",
    "true_ensemble.gauss_pars"
   ]
  },
  {
   "cell_type": "code",
   "execution_count": null,
   "metadata": {
    "collapsed": false
   },
   "outputs": [],
   "source": [
    "gpar_hypers_rv = multivariate_normal(mean=true_ensemble.gauss_pars.loc['mu'], \n",
    "                                     cov=true_ensemble.gauss_cov)"
   ]
  },
  {
   "cell_type": "code",
   "execution_count": null,
   "metadata": {
    "collapsed": false
   },
   "outputs": [],
   "source": [
    "#Randomly generate some plausible parameters for the intrinsic lightcurve function\n",
    "true_gpars = pd.Series(index=true_ensemble.gauss_pars.keys())\n",
    "true_gpars[:]= gpar_hypers_rv.rvs()\n",
    "true_t0 = 5 #+np.random.random()*5\n",
    "true_pars = true_gpars.copy()\n",
    "true_pars['t0']=true_t0\n",
    "\n",
    "#Then ditch them and use some we made earlier that happen to produce pretty results!\n",
    "true_pars.a=15.053480\n",
    "true_pars.rise_tau  =   2.803343\n",
    "true_pars.decay_tau =    12.711032\n",
    "true_pars"
   ]
  },
  {
   "cell_type": "code",
   "execution_count": null,
   "metadata": {
    "collapsed": true
   },
   "outputs": [],
   "source": [
    "#Intrinsic lightcurve of our transient:\n",
    "true_curve = true_ensemble.get_curve(**true_pars)"
   ]
  },
  {
   "cell_type": "code",
   "execution_count": null,
   "metadata": {
    "collapsed": false
   },
   "outputs": [],
   "source": [
    "#OK, now generate some data:\n",
    "tstep = 3.5 # Represents the cadence of our transient survey\n",
    "sim_epochs = np.arange(start = -30., stop=50, step=tstep)\n",
    "rstate = np.random.RandomState(1)\n",
    "noise_offsets = rstate.normal(scale=obs_sigma,size=len(sim_epochs))\n",
    "sim_data = true_curve(sim_epochs)+noise_offsets\n",
    "sim_data = pd.Series(data=sim_data, index=sim_epochs)\n",
    "# sim_data"
   ]
  },
  {
   "cell_type": "code",
   "execution_count": null,
   "metadata": {
    "collapsed": false
   },
   "outputs": [],
   "source": [
    "threshold = obs_sigma*detection_thresh\n",
    "\n",
    "print(\"Thresh:\", threshold)\n",
    "detectable = sim_data[sim_data>obs_sigma*detection_thresh]\n",
    "monitorable = sim_data[sim_data>obs_sigma*analysis_thresh]\n",
    "first_detection_epoch = detectable.index[0]\n",
    "usable_data = monitorable[first_detection_epoch:]"
   ]
  },
  {
   "cell_type": "code",
   "execution_count": null,
   "metadata": {
    "collapsed": false
   },
   "outputs": [],
   "source": [
    "#Determine early detections:\n",
    "n_data_epochs = 2\n",
    "obs_data = usable_data.iloc[:n_data_epochs]\n",
    "# obs_data = usable_data.iloc[::2].iloc[:3]\n",
    "obs_data"
   ]
  },
  {
   "cell_type": "markdown",
   "metadata": {},
   "source": [
    "OK! Plot the initial datapoints:"
   ]
  },
  {
   "cell_type": "code",
   "execution_count": null,
   "metadata": {
    "collapsed": false
   },
   "outputs": [],
   "source": [
    "%%capture \n",
    "#Don't actually use this plot in-poster - skip to fitted datapoints\n",
    "currentpal = deeppal\n",
    "\n",
    "tsteps= np.linspace(-30,50, 1000)\n",
    "plt.plot(tsteps, true_curve(tsteps),c='y', ls='--',label='True')\n",
    "\n",
    "plt.scatter(sim_data.index, sim_data,c=currentpal[2])\n",
    "\n",
    "plt.axhline(obs_sigma*detection_thresh, ls='--', label='Detection')\n",
    "plt.axhline(obs_sigma*analysis_thresh, ls='-.', label='Analysis')\n",
    "\n",
    "# plt.scatter(usable_data.index, usable_data,color=current_palette[1],s=55)\n",
    "st.plot.curve.graded_errorbar(usable_data,obs_sigma,alpha=0.5)\n",
    "\n",
    "#Data we'll be using for fitting:\n",
    "plt.scatter(obs_data.index,obs_data,\n",
    "            color=currentpal[-1],s=160, lw=3, marker='x',\n",
    "           label='Fitted data')\n",
    "\n",
    "# plt.yscale('log')\n",
    "# plt.axhline(true_amp, ls=':')\n",
    "\n",
    "# plt.axvline(true_t0, ls='--')\n",
    "plt.ylim(-1.05*np.abs(np.min(usable_data)),1.1*np.max(usable_data+2*obs_sigma))\n",
    "plt.legend(loc='best')\n",
    "plt.gcf().suptitle('Model, observables, detections')\n",
    "#plt.savefig('data.png')"
   ]
  },
  {
   "cell_type": "markdown",
   "metadata": {},
   "source": [
    "Try fitting the first two datapoints with model Type 2:"
   ]
  },
  {
   "cell_type": "code",
   "execution_count": null,
   "metadata": {
    "collapsed": false
   },
   "outputs": [],
   "source": [
    "n_data_epochs = 2\n",
    "obs_data = usable_data.iloc[:n_data_epochs]\n",
    "\n",
    "model_set = {'type1':Sn1aOpticalEnsemble, 'type2':Sn2OpticalEnsemble}\n",
    "model_runs={}\n",
    "\n",
    "\n",
    "for model_name, model_ensemble in model_set.items():\n",
    "    print(\"Running MCMC for \", model_name)\n",
    "    mr= ModelRun(ensemble=model_ensemble(), \n",
    "          obs_data=obs_data, \n",
    "          obs_sigma=obs_sigma,\n",
    "          use_pt=False,\n",
    "         )\n",
    "    if obs_data is not None:\n",
    "        mr.fit_data()\n",
    "    sampler = mr.get_sampler(threads=nthreads)\n",
    "    mr.run(sampler,500)\n",
    "    model_runs[model_name]=(mr)"
   ]
  },
  {
   "cell_type": "code",
   "execution_count": null,
   "metadata": {
    "collapsed": true
   },
   "outputs": [],
   "source": [
    "mr1 = model_runs['type1']\n",
    "mr2 = model_runs['type2']"
   ]
  },
  {
   "cell_type": "code",
   "execution_count": null,
   "metadata": {
    "collapsed": false
   },
   "outputs": [],
   "source": [
    "currentpal = deeppal\n",
    "#Plot the best-fit results\n",
    "data_color = currentpal[1]\n",
    "#Observed:\n",
    "st.plot.curve.graded_errorbar(obs_data, obs_sigma, color=gpal[6], alpha=0.8, label='Observed', zorder=10,ms=25)\n",
    "\n",
    "plt.plot(tsteps,mr1.ml_curve(tsteps), ls='-.',lw=linewidth, label='T1 ML fit',color=bpal[4])\n",
    "plt.plot(tsteps,mr1.map_curve(tsteps), ls='-', lw=linewidth, label='T1 MAP fit', color=bpal[3])\n",
    "# plt.plot(tsteps,mr2.ml_curve(tsteps), ls='-.',lw=5, label='T2 ML fit',c=rpal[3])\n",
    "# plt.plot(tsteps,mr2.map_curve(tsteps), ls='-', label='T2 MAP fit', c=rpal[3], zorder=1)\n",
    "# plt.plot(tsteps,true_curve(tsteps), ls='--', lw=linewidth, label='True', c=kpal[-2])\n",
    "\n",
    "\n",
    "# # plt.errorbar(obs_data.index, obs_data, color=data_color)\n",
    "plt.xlim(-10,30)\n",
    "plt.ylim(0,max(obs_data)+3*obs_sigma)\n",
    "# plt.axhline(obs_sigma*detection_thresh, ls='--', label='Detection threshold', c=current_palette[-1])\n",
    "plt.legend()\n",
    "# # plt.gcf().suptitle('Best fits, 2 datapoints',size=25)\n",
    "\n",
    "plt.xlabel('Time')\n",
    "plt.ylabel('Flux')\n",
    "plt.tight_layout()\n",
    "plt.gcf().set_size_inches(7, 7)\n",
    "plt.savefig('2dpt_t1_bestfits.pdf')"
   ]
  },
  {
   "cell_type": "code",
   "execution_count": null,
   "metadata": {
    "collapsed": false
   },
   "outputs": [],
   "source": [
    "rcparam_temp = plt.rcParams\n",
    "scaling=0.75\n",
    "plt.rcParams.update({'font.size': math.floor(bigfontsize*scaling),\n",
    "                     'axes.labelsize':math.floor(labelfontsize*scaling),\n",
    "                     'xtick.labelsize':math.floor(tickfontsize*scaling),\n",
    "                     'ytick.labelsize':math.floor(tickfontsize*scaling),\n",
    "                     'legend.fontsize':math.floor(tickfontsize*scaling),\n",
    "                     })\n",
    "mr1.plot_triangle(max_n_ticks=2)\n",
    "plt.savefig('2dpts_t1_triangle.pdf')\n",
    "plt.rcParams=rcparam_temp"
   ]
  },
  {
   "cell_type": "code",
   "execution_count": null,
   "metadata": {
    "collapsed": false
   },
   "outputs": [],
   "source": [
    "def overplot_ensemble_forecasts(modelruns,t_forecast,n_subsamples, axes=None):\n",
    "    mr1 = modelruns['type1']\n",
    "    mr2 = model_runs['type2']\n",
    "\n",
    "    \n",
    "#     width_ratios = [6]\n",
    "#     width_ratios.extend([1]*len(t_forecast))\n",
    "#     print(\"Widths\",width_ratios)\n",
    "#     gs = gridspec.GridSpec(1, 1+len(t_forecast),width_ratios=width_ratios)\n",
    "#     ts_ax = plt.subplot(gs[0])\n",
    "#     hist_axes = [ plt.subplot(gs[1+idx]) for idx in range(len(t_forecast))]\n",
    "#     axes = ts_ax, hist_axes\n",
    "    axes=None\n",
    "    \n",
    "    axes=mr2.plot_forecast(tsteps, \n",
    "                  t_forecast=t_forecast,\n",
    "                  forecast_marker=False,\n",
    "                  kde_noise_sigma=obs_sigma,\n",
    "                  axes=axes,\n",
    "                  palette=pal2,\n",
    "                  plot_data=False,\n",
    "                  subsample_size=n_subsamples\n",
    "                 )\n",
    "    axes=mr1.plot_forecast(tsteps,\n",
    "                       t_forecast=t_forecast, \n",
    "                       kde_noise_sigma=obs_sigma,\n",
    "                       axes=axes,\n",
    "                       plot_data=True,\n",
    "                       palette=pal1,\n",
    "                       subsample_size=n_subsamples,\n",
    "                    true_curve=true_curve\n",
    "                 )\n",
    "    ts_ax, hist_axes = axes\n",
    "    ts_ax.set_xlabel('Time')\n",
    "    ts_ax.set_ylabel('Flux')\n",
    "    ts_ax.set_title('Overview')\n",
    "    \n",
    "    if hist_axes:\n",
    "        for idx, ax in enumerate(hist_axes):\n",
    "            ax.set_xlabel('Prob.')\n",
    "            if idx != (len(hist_axes)-1):\n",
    "                ax.set_yticklabels([])\n",
    "            else:\n",
    "                ax.yaxis.tick_right()\n",
    "                ax.yaxis.set_label_position(\"right\")\n",
    "            ax.set_title('$t={}$'.format(t_forecast[idx]))\n",
    "            ax.set_xticklabels([])\n",
    "#         max_hist_xticks = 2\n",
    "#         kde_xloc = plt.MaxNLocator(max_hist_xticks)\n",
    "#         ax.xaxis.set_major_locator(kde_xloc)\n",
    "#     plt.gcf().suptitle('Comparison, {} datapoints'.format(ndata), size=25)\n",
    "#     plt.savefig('single_model_{}_dpts_nonoise.pdf'.format(ndata))\n",
    "#     plt.savefig('two_models_{}_dpts.pdf'.format(ndata))m"
   ]
  },
  {
   "cell_type": "code",
   "execution_count": null,
   "metadata": {
    "collapsed": false
   },
   "outputs": [],
   "source": [
    "# ??plt.tight_layout"
   ]
  },
  {
   "cell_type": "code",
   "execution_count": null,
   "metadata": {
    "collapsed": true
   },
   "outputs": [],
   "source": [
    "n_subsamples = 150\n",
    "t_forecast=[18,47]\n",
    "# t_forecast=[18]"
   ]
  },
  {
   "cell_type": "code",
   "execution_count": null,
   "metadata": {
    "collapsed": false
   },
   "outputs": [],
   "source": [
    "overplot_ensemble_forecasts(model_runs, t_forecast=t_forecast,n_subsamples=n_subsamples)\n",
    "fig = plt.gcf()\n",
    "fig.set_size_inches(12, 7)\n",
    "plt.tight_layout(w_pad=0.05)\n",
    "plt.savefig('2dpt_ensemble_w_forecasts.pdf')"
   ]
  },
  {
   "cell_type": "code",
   "execution_count": null,
   "metadata": {
    "collapsed": false
   },
   "outputs": [],
   "source": [
    "new_t=9\n",
    "newdata =  true_curve(new_t)+rstate.normal(scale=obs_sigma)\n",
    "obs_data.loc[new_t]=newdata\n",
    "obs_data"
   ]
  },
  {
   "cell_type": "code",
   "execution_count": null,
   "metadata": {
    "collapsed": false
   },
   "outputs": [],
   "source": [
    "n_data_epochs = 3\n",
    "obs_data = usable_data.iloc[:n_data_epochs]\n",
    "\n",
    "model_set = {'type1':Sn1aOpticalEnsemble, 'type2':Sn2OpticalEnsemble}\n",
    "model_runs={}\n",
    "\n",
    "\n",
    "for model_name, model_ensemble in model_set.items():\n",
    "    print(\"Running MCMC for \", model_name)\n",
    "    mr= ModelRun(ensemble=model_ensemble(), \n",
    "          obs_data=obs_data, \n",
    "          obs_sigma=obs_sigma,\n",
    "          use_pt=False,\n",
    "         )\n",
    "    if obs_data is not None:\n",
    "        mr.fit_data()\n",
    "    sampler = mr.get_sampler(threads=nthreads)\n",
    "    mr.run(sampler,500)\n",
    "    model_runs[model_name]=(mr)\n",
    "    \n",
    "mr1 = model_runs['type1']\n",
    "mr2 = model_runs['type2']"
   ]
  },
  {
   "cell_type": "code",
   "execution_count": null,
   "metadata": {
    "collapsed": false
   },
   "outputs": [],
   "source": [
    "overplot_ensemble_forecasts(model_runs, t_forecast=None,n_subsamples=n_subsamples)\n",
    "fig = plt.gcf()\n",
    "fig.set_size_inches(10, 7)\n",
    "plt.ylim(0,15)\n",
    "plt.tight_layout()\n",
    "plt.savefig('3dpt_ensemble.pdf')"
   ]
  },
  {
   "cell_type": "code",
   "execution_count": null,
   "metadata": {
    "collapsed": true
   },
   "outputs": [],
   "source": []
  }
 ],
 "metadata": {
  "kernelspec": {
   "display_name": "Python 2",
   "language": "python",
   "name": "python2"
  },
  "language_info": {
   "codemirror_mode": {
    "name": "ipython",
    "version": 2
   },
   "file_extension": ".py",
   "mimetype": "text/x-python",
   "name": "python",
   "nbconvert_exporter": "python",
   "pygments_lexer": "ipython2",
   "version": "2.7.6"
  }
 },
 "nbformat": 4,
 "nbformat_minor": 0
}
