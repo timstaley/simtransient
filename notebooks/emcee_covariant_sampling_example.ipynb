{
 "metadata": {
  "name": "",
  "signature": "sha256:fd89d20ebd02849ca4a4b59fbc093ac1cd56a23f0ac39d046714b7bb088726d8"
 },
 "nbformat": 3,
 "nbformat_minor": 0,
 "worksheets": [
  {
   "cells": [
    {
     "cell_type": "code",
     "collapsed": false,
     "input": [
      "%matplotlib inline\n",
      "from datetime import date, datetime, timedelta, time\n",
      "import pandas as pd\n",
      "import seaborn\n",
      "import matplotlib.pyplot as plt\n",
      "import matplotlib as mpl\n",
      "import numpy as np"
     ],
     "language": "python",
     "metadata": {},
     "outputs": []
    },
    {
     "cell_type": "code",
     "collapsed": false,
     "input": [
      "from simlightcurve.curves import GaussExp as Gred\n",
      "from simlightcurve.solvers import find_rise_t, find_peak\n",
      "from scipy.stats import norm, multivariate_normal\n",
      "import scipy.optimize as op\n",
      "import emcee"
     ],
     "language": "python",
     "metadata": {},
     "outputs": []
    },
    {
     "cell_type": "code",
     "collapsed": false,
     "input": [
      "seaborn.set_context('talk')\n",
      "current_palette = seaborn.color_palette()"
     ],
     "language": "python",
     "metadata": {},
     "outputs": []
    },
    {
     "cell_type": "code",
     "collapsed": false,
     "input": [
      "e1=1\n",
      "e2=3\n",
      "xcov=1\n",
      "cov = [[e1,xcov],\n",
      "       [xcov,e2]]\n",
      "print \"Det:\", e1*e2-xcov*xcov\n",
      "rv = multivariate_normal(mean=[0,0], cov=cov)\n",
      "x = np.linspace(-3,3,100)\n",
      "y = np.linspace(-4,4,100)\n",
      "grid = np.dstack(np.meshgrid(x,y))\n",
      "# print x[0],x[1]\n",
      "# y = np.sqrt(x[0]**2+x[1]**2)\n",
      "\n",
      "seaborn.set_palette('husl')\n",
      "cmap = plt.cm.get_cmap('afmhot')\n",
      "plt.contourf(x,y,rv.pdf(grid),25,cmap=cmap)\n",
      "plt.ylabel('i')\n",
      "plt.xlabel('j')\n",
      "plt.colorbar()\n"
     ],
     "language": "python",
     "metadata": {},
     "outputs": []
    },
    {
     "cell_type": "code",
     "collapsed": false,
     "input": [
      "np.linalg.inv(cov)"
     ],
     "language": "python",
     "metadata": {},
     "outputs": []
    },
    {
     "cell_type": "code",
     "collapsed": false,
     "input": [],
     "language": "python",
     "metadata": {},
     "outputs": []
    }
   ],
   "metadata": {}
  }
 ]
}