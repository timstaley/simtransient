{
 "cells": [
  {
   "cell_type": "code",
   "execution_count": null,
   "metadata": {
    "collapsed": false
   },
   "outputs": [],
   "source": [
    "%matplotlib inline\n",
    "from datetime import date, datetime, timedelta, time\n",
    "import pandas as pd\n",
    "import seaborn\n",
    "import matplotlib.pyplot as plt\n",
    "import matplotlib as mpl\n",
    "import numpy as np\n",
    "import scipy"
   ]
  },
  {
   "cell_type": "code",
   "execution_count": null,
   "metadata": {
    "collapsed": false
   },
   "outputs": [],
   "source": [
    "from simlightcurve.curves import GaussExp as Gred\n",
    "from simlightcurve.solvers import find_rise_t, find_peak\n",
    "from simtransient.utils import mahalanobis_sq, build_covariance_matrix\n",
    "from scipy.stats import norm, multivariate_normal\n",
    "import scipy.optimize as op\n",
    "import emcee\n",
    "from collections import OrderedDict"
   ]
  },
  {
   "cell_type": "code",
   "execution_count": null,
   "metadata": {
    "collapsed": false
   },
   "outputs": [],
   "source": [
    "seaborn.set_context('poster')\n",
    "current_palette = seaborn.color_palette()"
   ]
  },
  {
   "cell_type": "code",
   "execution_count": null,
   "metadata": {
    "collapsed": false
   },
   "outputs": [],
   "source": [
    "ndim=2\n",
    "\n",
    "param_variances = OrderedDict()\n",
    "param_variances['x']=3\n",
    "param_variances['y']=0.5\n",
    "print \"Variances:\", param_variances\n",
    "param_correlations = {('x','y'):-0.9}\n",
    "\n",
    "cov = build_covariance_matrix(param_variances, param_correlations)\n",
    "print \"Det:\", np.linalg.det(cov)\n",
    "print \"S:\", np.linalg.svd(cov)[1]\n",
    "cov"
   ]
  },
  {
   "cell_type": "code",
   "execution_count": null,
   "metadata": {
    "collapsed": false
   },
   "outputs": [],
   "source": [
    "param_variances.values()[0]"
   ]
  },
  {
   "cell_type": "code",
   "execution_count": null,
   "metadata": {
    "collapsed": false
   },
   "outputs": [],
   "source": [
    "\n",
    "true_mean = np.random.random(size=2)\n",
    "print \"True Mean: \", true_mean\n",
    "rv = multivariate_normal(mean=true_mean, cov=cov)\n",
    "plotwidth=2\n",
    "scale = plotwidth*param_variances['x']\n",
    "x = np.linspace(true_mean[0]-scale,\n",
    "                true_mean[0]+scale,\n",
    "                100)\n",
    "y = np.linspace(true_mean[1]-scale,\n",
    "                true_mean[1]+scale,\n",
    "                100)\n",
    "\n",
    "grid = np.dstack(np.meshgrid(x,y))\n",
    "# print x[0],x[1]\n",
    "# y = np.sqrt(x[0]**2+x[1]**2)\n",
    "\n",
    "seaborn.set_palette('husl')\n",
    "cmap = plt.cm.get_cmap('afmhot')\n",
    "plt.contourf(x,y,rv.pdf(grid),50,cmap=cmap)\n",
    "plt.ylabel('i')\n",
    "plt.xlabel('j')\n",
    "plt.axvline(true_mean[0], ls=':')\n",
    "plt.axhline(true_mean[1], ls=':')\n",
    "plt.colorbar()\n",
    "\n",
    "n_samples = 5\n",
    "data = np.atleast_2d(rv.rvs(n_samples))\n",
    "# print \"data:\", data\n",
    "print \"datashape\", data.shape\n",
    "plt.scatter(data[:,0],data[:,1])\n",
    "# plt.scatter(data[0,:],data[1,:])"
   ]
  },
  {
   "cell_type": "code",
   "execution_count": null,
   "metadata": {
    "collapsed": false
   },
   "outputs": [],
   "source": [
    "def lnprob(mu,x,icov):\n",
    "    diff = x-mu\n",
    "    return -0.5*(np.sum(mahalanobis_sq(icov,diff)))"
   ]
  },
  {
   "cell_type": "code",
   "execution_count": null,
   "metadata": {
    "collapsed": false
   },
   "outputs": [],
   "source": [
    "icov = np.linalg.inv(cov)\n",
    "c = np.sqrt(((2*np.pi)**ndim)*np.linalg.det(cov))"
   ]
  },
  {
   "cell_type": "code",
   "execution_count": null,
   "metadata": {
    "collapsed": false
   },
   "outputs": [],
   "source": [
    "test_position = true_mean+np.asarray((1.1,1.1))\n",
    "prob = (1./c)*np.exp(lnprob(true_mean, test_position, icov))"
   ]
  },
  {
   "cell_type": "code",
   "execution_count": null,
   "metadata": {
    "collapsed": false
   },
   "outputs": [],
   "source": [
    "scipy_prob = rv.pdf(test_position)\n",
    "print prob, scipy_prob\n",
    "print scipy_prob - prob"
   ]
  },
  {
   "cell_type": "code",
   "execution_count": null,
   "metadata": {
    "collapsed": false
   },
   "outputs": [],
   "source": [
    "neg_likelihood = lambda *args: -lnprob(*args)\n",
    "mean_guess=np.asarray((0,0))\n",
    "result = op.minimize(neg_likelihood, mean_guess, args=(data,icov))\n",
    "print true_mean\n",
    "print result.x"
   ]
  },
  {
   "cell_type": "code",
   "execution_count": null,
   "metadata": {
    "collapsed": false
   },
   "outputs": [],
   "source": [
    "cmap = plt.cm.get_cmap('afmhot')\n",
    "plt.contourf(x,y,rv.pdf(grid),25,cmap=cmap)\n",
    "plt.ylabel('i')\n",
    "plt.xlabel('j')\n",
    "plt.axvline(true_mean[0], ls=':')\n",
    "plt.axhline(true_mean[1], ls=':')\n",
    "plt.colorbar()\n",
    "\n",
    "plt.scatter(data[:,0],data[:,1])\n",
    "plt.scatter(*result.x, marker='x', s=100, c='red', linewidths=3)"
   ]
  },
  {
   "cell_type": "code",
   "execution_count": null,
   "metadata": {
    "collapsed": false
   },
   "outputs": [],
   "source": [
    "ndim = 2  # number of parameters in the model\n",
    "nwalkers = 100  # number of MCMC walkers\n",
    "nsteps = 1500  # number of MCMC steps to take\n",
    "\n",
    "mean_init = [data[0] + 1e-5*np.random.randn(ndim) for i in range(nwalkers)]\n",
    "# pos = [0.5 + 1e-4*np.random.randn(ndim) for i in range(nwalkers)]\n",
    "# set theta near the maximum likelihood, with \n",
    "# sampler.reset()\n",
    "# sampler = emcee.EnsembleSampler(nwalkers, ndim, log_likelihood, args=(data,))\n",
    "sampler = emcee.EnsembleSampler(nwalkers, ndim, lnprob, args=(data,icov),a=4,threads=4)\n",
    "sampler.reset()\n",
    "_=sampler.run_mcmc(mean_init, nsteps)\n",
    "seaborn.set_palette('deep')\n",
    "seaborn.set_style('darkgrid')\n",
    "for walker in sampler.chain:\n",
    "    plt.plot(walker)"
   ]
  },
  {
   "cell_type": "code",
   "execution_count": null,
   "metadata": {
    "collapsed": false
   },
   "outputs": [],
   "source": [
    "acorr = np.ceil(np.max(sampler.get_autocorr_time()))\n",
    "nburn = np.ceil(acorr*2.5)\n",
    "print acorr, nburn"
   ]
  },
  {
   "cell_type": "code",
   "execution_count": null,
   "metadata": {
    "collapsed": false
   },
   "outputs": [],
   "source": [
    "acceptance = np.median(sampler.acceptance_fraction)\n",
    "print acceptance\n",
    "sampler.chain.shape"
   ]
  },
  {
   "cell_type": "code",
   "execution_count": null,
   "metadata": {
    "collapsed": false
   },
   "outputs": [],
   "source": [
    "thinned = sampler.chain[:,::acorr,:]\n",
    "thinned = thinned.ravel().reshape(-1,ndim)"
   ]
  },
  {
   "cell_type": "code",
   "execution_count": null,
   "metadata": {
    "collapsed": false
   },
   "outputs": [],
   "source": [
    "plotchain=sampler.chain\n",
    "varindex = 1\n",
    "plt.subplot(2,1,1)\n",
    "for walker in plotchain[:,:,varindex]:\n",
    "    plt.plot(walker)\n",
    "plt.axvline(nburn, ls=':', color='k')\n",
    "print \"Acorr\",sampler.get_autocorr_time()\n",
    "print \"Acceptance\",acceptance\n",
    "plt.subplot(2,1,2)\n",
    "for walker in plotchain[:,::acorr,varindex]:\n",
    "    plt.plot(walker)\n",
    "plt.axvline(nburn/acorr, ls=':', color='k')"
   ]
  },
  {
   "cell_type": "code",
   "execution_count": null,
   "metadata": {
    "collapsed": false,
    "scrolled": true
   },
   "outputs": [],
   "source": [
    "seaborn.set_style('dark')\n",
    "import triangle\n",
    "_=triangle.corner(thinned,\n",
    "                  truths=true_mean,\n",
    "                  plot_contours=False,\n",
    "                 quantiles=[0.16, 0.5, 0.84],\n",
    "                 )"
   ]
  },
  {
   "cell_type": "code",
   "execution_count": null,
   "metadata": {
    "collapsed": true
   },
   "outputs": [],
   "source": []
  }
 ],
 "metadata": {
  "kernelspec": {
   "display_name": "Python 2",
   "language": "python",
   "name": "python2"
  },
  "language_info": {
   "codemirror_mode": {
    "name": "ipython",
    "version": 2
   },
   "file_extension": ".py",
   "mimetype": "text/x-python",
   "name": "python",
   "nbconvert_exporter": "python",
   "pygments_lexer": "ipython2",
   "version": "2.7.6"
  }
 },
 "nbformat": 4,
 "nbformat_minor": 0
}
