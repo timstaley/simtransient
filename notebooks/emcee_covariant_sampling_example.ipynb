{
 "cells": [
  {
   "cell_type": "code",
   "execution_count": null,
   "metadata": {
    "collapsed": false
   },
   "outputs": [],
   "source": [
    "%matplotlib inline\n",
    "from datetime import date, datetime, timedelta, time\n",
    "import pandas as pd\n",
    "import seaborn\n",
    "import matplotlib.pyplot as plt\n",
    "import matplotlib as mpl\n",
    "import numpy as np\n",
    "import scipy"
   ]
  },
  {
   "cell_type": "code",
   "execution_count": null,
   "metadata": {
    "collapsed": false
   },
   "outputs": [],
   "source": [
    "from simlightcurve.curves import GaussExp as Gred\n",
    "from simlightcurve.solvers import find_rise_t, find_peak\n",
    "from scipy.stats import norm, multivariate_normal\n",
    "import scipy.optimize as op\n",
    "import emcee"
   ]
  },
  {
   "cell_type": "code",
   "execution_count": null,
   "metadata": {
    "collapsed": false
   },
   "outputs": [],
   "source": [
    "seaborn.set_context('talk')\n",
    "current_palette = seaborn.color_palette()"
   ]
  },
  {
   "cell_type": "code",
   "execution_count": null,
   "metadata": {
    "collapsed": false
   },
   "outputs": [],
   "source": [
    "e1=1\n",
    "e2=1\n",
    "xcov=0.5\n",
    "cov = np.asarray([[e1,xcov],\n",
    "                  [xcov,e2]])\n",
    "print \"Det:\", e1*e2-xcov*xcov\n",
    "true_mean = np.random.random(size=2)\n",
    "print \"True Mean: \", true_mean\n",
    "rv = multivariate_normal(mean=true_mean, cov=cov)\n",
    "x = np.linspace(-3,3,100)\n",
    "y = np.linspace(-4,4,100)\n",
    "grid = np.dstack(np.meshgrid(x,y))\n",
    "# print x[0],x[1]\n",
    "# y = np.sqrt(x[0]**2+x[1]**2)\n",
    "\n",
    "seaborn.set_palette('husl')\n",
    "cmap = plt.cm.get_cmap('afmhot')\n",
    "plt.contourf(x,y,rv.pdf(grid),25,cmap=cmap)\n",
    "plt.ylabel('i')\n",
    "plt.xlabel('j')\n",
    "plt.axvline(mean[0], ls='--')\n",
    "plt.axhline(mean[1], ls='--')\n",
    "plt.colorbar()\n",
    "\n",
    "n_samples = 1\n",
    "data = np.atleast_2d(rv.rvs(n_samples))\n",
    "# print \"data:\", data\n",
    "print \"datashape\", data.shape\n",
    "plt.scatter(data[:,0],data[:,0])\n",
    "# plt.scatter(data[0,:],data[1,:])\n",
    "\n"
   ]
  },
  {
   "cell_type": "code",
   "execution_count": null,
   "metadata": {
    "collapsed": false
   },
   "outputs": [],
   "source": [
    "icov = np.linalg.inv(cov)\n",
    "icov"
   ]
  },
  {
   "cell_type": "code",
   "execution_count": null,
   "metadata": {
    "collapsed": false
   },
   "outputs": [],
   "source": [
    "u,s,v = np.linalg.svd(cov)\n",
    "print u\n",
    "print s\n",
    "print v"
   ]
  },
  {
   "cell_type": "code",
   "execution_count": null,
   "metadata": {
    "collapsed": false
   },
   "outputs": [],
   "source": [
    "u-v"
   ]
  },
  {
   "cell_type": "code",
   "execution_count": null,
   "metadata": {
    "collapsed": false
   },
   "outputs": [],
   "source": [
    "np.dot(cov,icov)"
   ]
  },
  {
   "cell_type": "code",
   "execution_count": null,
   "metadata": {
    "collapsed": false
   },
   "outputs": [],
   "source": [
    "np.linalg.det(cov)"
   ]
  },
  {
   "cell_type": "code",
   "execution_count": null,
   "metadata": {
    "collapsed": false
   },
   "outputs": [],
   "source": [
    "# np.linalg.svd(cov)"
   ]
  },
  {
   "cell_type": "code",
   "execution_count": null,
   "metadata": {
    "collapsed": false
   },
   "outputs": [],
   "source": [
    "def lnprob(mu,x,icov):\n",
    "    diff = x-mu\n",
    "    return -np.dot(diff,np.dot(icov,diff))/2.0\n",
    "    "
   ]
  },
  {
   "cell_type": "code",
   "execution_count": null,
   "metadata": {
    "collapsed": false
   },
   "outputs": [],
   "source": [
    "icov"
   ]
  },
  {
   "cell_type": "code",
   "execution_count": null,
   "metadata": {
    "collapsed": false
   },
   "outputs": [],
   "source": [
    "# data = np.array([ 0.80008131,  0.942178  ])\n",
    "diff = data - true_mean\n",
    "\n",
    "test = np.asarray(\n",
    "    [\n",
    "                    [1,.1],\n",
    "                    [0.2,2],\n",
    "#                     [1,1],\n",
    "                   ]\n",
    "                  )\n",
    "test = np.atleast_2d(test).reshape(2,-1)\n",
    "print \"Testshape\", test.shape\n",
    "print \"Test:\", test\n",
    "\n",
    "np.dot(icov,test)\n",
    "# np.(data - true_mean)"
   ]
  },
  {
   "cell_type": "code",
   "execution_count": null,
   "metadata": {
    "collapsed": false
   },
   "outputs": [],
   "source": [
    "np.dot(test.T,np.dot(icov,test))"
   ]
  },
  {
   "cell_type": "code",
   "execution_count": null,
   "metadata": {
    "collapsed": false
   },
   "outputs": [],
   "source": [
    "test*np.dot(icov,test)"
   ]
  },
  {
   "cell_type": "code",
   "execution_count": null,
   "metadata": {
    "collapsed": false
   },
   "outputs": [],
   "source": [
    "print data.shape"
   ]
  },
  {
   "cell_type": "code",
   "execution_count": null,
   "metadata": {
    "collapsed": false
   },
   "outputs": [],
   "source": [
    "lnprob(true_mean,data,icov)"
   ]
  },
  {
   "cell_type": "code",
   "execution_count": null,
   "metadata": {
    "collapsed": false
   },
   "outputs": [],
   "source": [
    "ndim = 2  # number of parameters in the model\n",
    "nwalkers = 50  # number of MCMC walkers\n",
    "nburn = 100  # \"burn-in\" period to let chains stabilize\n",
    "nsteps = 500  # number of MCMC steps to take\n",
    "\n",
    "mean_init = [data[0] + 1e-5*np.random.randn(ndim) for i in range(nwalkers)]\n",
    "# pos = [0.5 + 1e-4*np.random.randn(ndim) for i in range(nwalkers)]\n",
    "# set theta near the maximum likelihood, with \n",
    "# sampler.reset()\n",
    "# sampler = emcee.EnsembleSampler(nwalkers, ndim, log_likelihood, args=(data,))\n",
    "sampler = emcee.EnsembleSampler(nwalkers, ndim, lnprob, args=(data,icov))\n",
    "sampler.reset()\n",
    "_=sampler.run_mcmc(mean_init, nsteps)\n",
    "for walker in sampler.chain:\n",
    "    plt.plot(walker)"
   ]
  },
  {
   "cell_type": "code",
   "execution_count": null,
   "metadata": {
    "collapsed": true
   },
   "outputs": [],
   "source": []
  }
 ],
 "metadata": {
  "kernelspec": {
   "display_name": "Python 2",
   "language": "python",
   "name": "python2"
  },
  "language_info": {
   "codemirror_mode": {
    "name": "ipython",
    "version": 2
   },
   "file_extension": ".py",
   "mimetype": "text/x-python",
   "name": "python",
   "nbconvert_exporter": "python",
   "pygments_lexer": "ipython2",
   "version": "2.7.6"
  }
 },
 "nbformat": 4,
 "nbformat_minor": 0
}
