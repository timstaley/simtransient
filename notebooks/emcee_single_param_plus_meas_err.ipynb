{
 "metadata": {
  "name": "",
  "signature": "sha256:3db23c06de3c2883ea016706e03b7381c8e3409866a24f4b8940975a1cabc579"
 },
 "nbformat": 3,
 "nbformat_minor": 0,
 "worksheets": [
  {
   "cells": [
    {
     "cell_type": "code",
     "collapsed": false,
     "input": [
      "%matplotlib inline\n",
      "from datetime import date, datetime, timedelta, time\n",
      "import pandas as pd\n",
      "import seaborn\n",
      "import matplotlib.pyplot as plt\n",
      "import matplotlib as mpl\n",
      "import numpy as np"
     ],
     "language": "python",
     "metadata": {},
     "outputs": []
    },
    {
     "cell_type": "code",
     "collapsed": false,
     "input": [
      "from simlightcurve.curves import GaussExp as Gred\n",
      "from scipy.stats import norm\n",
      "import scipy.optimize as op\n",
      "import emcee"
     ],
     "language": "python",
     "metadata": {},
     "outputs": []
    },
    {
     "cell_type": "code",
     "collapsed": false,
     "input": [
      "seaborn.set_context('talk')"
     ],
     "language": "python",
     "metadata": {},
     "outputs": []
    },
    {
     "cell_type": "code",
     "collapsed": false,
     "input": [
      "true_t0 = 5+np.random.random()*5\n",
      "print true_t0"
     ],
     "language": "python",
     "metadata": {},
     "outputs": []
    },
    {
     "cell_type": "code",
     "collapsed": false,
     "input": [
      "true_class1 = Gred(amplitude=2.0, rise_tau=1,decay_tau=1, t0=true_t0)\n",
      "true_class2 = Gred(amplitude=1.0, rise_tau=5,decay_tau=15, t0=true_t0)"
     ],
     "language": "python",
     "metadata": {},
     "outputs": []
    },
    {
     "cell_type": "code",
     "collapsed": false,
     "input": [
      "sigma=0.1\n",
      "detection_thresh = 3."
     ],
     "language": "python",
     "metadata": {},
     "outputs": []
    },
    {
     "cell_type": "code",
     "collapsed": false,
     "input": [
      "tsteps= np.linspace(-30,50, 1000)\n",
      "plt.plot(tsteps, true_class1(tsteps),c='g', label='Class1')\n",
      "plt.plot(tsteps, true_class1(tsteps)+sigma, ls=':',c='g')\n",
      "plt.plot(tsteps, true_class1(tsteps)-sigma, ls=':',c='g')\n",
      "plt.plot(tsteps, true_class2(tsteps),c='b', label='Class2')\n",
      "plt.plot(tsteps, true_class2(tsteps)+sigma, ls=':',c='b')\n",
      "plt.plot(tsteps, true_class2(tsteps)-sigma, ls=':',c='b')\n",
      "# plt.yscale('log')\n",
      "plt.axhline(sigma*detection_thresh, ls='--')\n",
      "plt.axvline(true_t0, ls='--')\n",
      "plt.legend()"
     ],
     "language": "python",
     "metadata": {},
     "outputs": []
    },
    {
     "cell_type": "code",
     "collapsed": false,
     "input": [
      "from simlightcurve.solvers import find_rise_t, find_peak\n",
      "threshold = sigma*detection_thresh\n",
      "\n",
      "c1_detection_time = find_rise_t(true_class1, threshold=threshold, \n",
      "                                t_min=-2*true_class1.rise_tau, t_max=find_peak(true_class1,true_class1.t0)[0]) \n",
      "c2_detection_time = find_rise_t(true_class2, threshold=threshold, \n",
      "                                t_min=true_class2.t0-2*true_class2.rise_tau, t_max=find_peak(true_class2,true_class2.t0)[0]) \n",
      "\n",
      "c1_detection_time, c2_detection_time"
     ],
     "language": "python",
     "metadata": {},
     "outputs": []
    },
    {
     "cell_type": "code",
     "collapsed": false,
     "input": [
      "#Detect, class2:\n",
      "true_flux = true_class2(c2_detection_time)\n",
      "noisy_flux = true_flux+norm.rvs(loc=0, scale=sigma, size=1)\n",
      "print c2_detection_time, true_flux, noisy_flux\n"
     ],
     "language": "python",
     "metadata": {},
     "outputs": []
    },
    {
     "cell_type": "code",
     "collapsed": false,
     "input": [
      "c2_pars=dict(zip(true_class2.param_names,true_class2.parameters))\n",
      "c2_pars['t0']=0.0\n",
      "# c2_pars['t']=0.0\n",
      "# class2.eval(**c2_pars)\n",
      "zero_t0_class2 = true_class2.__class__(**c2_pars)"
     ],
     "language": "python",
     "metadata": {},
     "outputs": []
    },
    {
     "cell_type": "code",
     "collapsed": false,
     "input": [
      "c2_detection_t0_offset = find_rise_t(zero_t0_class2, threshold=noisy_flux[0], \n",
      "                                     t_min=-2*true_class2.rise_tau, t_max=0)\n",
      "c2_t0_guess = c2_detection_time-c2_detection_t0_offset\n",
      "c2_t0_guess"
     ],
     "language": "python",
     "metadata": {},
     "outputs": []
    },
    {
     "cell_type": "code",
     "collapsed": false,
     "input": [
      "t_data = np.asarray([c2_detection_time])\n",
      "noisy_flux[0]-4*sigma"
     ],
     "language": "python",
     "metadata": {},
     "outputs": []
    },
    {
     "cell_type": "code",
     "collapsed": false,
     "input": [
      "c2_detection_t0_offset_extreme = find_rise_t(zero_t0_class2, threshold=max(noisy_flux[0]-detection_thresh*sigma, 0.01), \n",
      "                                     t_min=-10*true_class2.rise_tau, t_max=0)\n",
      "c2_t0_extreme_guess = c2_detection_time-c2_detection_t0_offset_extreme\n",
      "c2_t0_extreme_guess"
     ],
     "language": "python",
     "metadata": {},
     "outputs": []
    },
    {
     "cell_type": "code",
     "collapsed": false,
     "input": [
      "def log_likelihood(t0, tf, model, sigma):\n",
      "    tsteps, noisy_fluxes = tf\n",
      "    model_pars = dict(zip(model.param_names,model.parameters))\n",
      "    model_pars['t0']=t0\n",
      "    intrinsic_fluxes = model.evaluate(tsteps, **model_pars)\n",
      "#     return -0.5 * np.sum(np.log(2 * np.pi * sigma ** 2) + ((noisy_fluxes-intrinsic_fluxes) /sigma) ** 2)\n",
      "    return -0.5 * np.sum( ((noisy_fluxes-intrinsic_fluxes) /sigma) ** 2)"
     ],
     "language": "python",
     "metadata": {},
     "outputs": []
    },
    {
     "cell_type": "code",
     "collapsed": false,
     "input": [
      "neg_likelihood = lambda *args: -log_likelihood(*args)\n",
      "\n",
      "results = op.minimize(neg_likelihood, -5, args=((c2_detection_time,noisy_flux), true_class2, sigma))\n",
      "print true_t0, results.x\n",
      "print results.x - true_t0"
     ],
     "language": "python",
     "metadata": {},
     "outputs": []
    },
    {
     "cell_type": "code",
     "collapsed": false,
     "input": [
      "current_palette = seaborn.color_palette()\n",
      "seaborn.palplot(current_palette)"
     ],
     "language": "python",
     "metadata": {},
     "outputs": []
    },
    {
     "cell_type": "code",
     "collapsed": false,
     "input": [
      "plt.plot(tsteps,true_class2(tsteps), ls='--', label='true')\n",
      "\n",
      "c2_pars=dict(zip(true_class2.param_names,true_class2.parameters))\n",
      "c2_pars['t0']=c2_t0_guess\n",
      "plt.plot(tsteps,true_class2.__class__(**c2_pars)(tsteps), ls='--', label='class2_model_fit')\n",
      "c2_pars['t0']=results.x\n",
      "plt.plot(tsteps,true_class2.__class__(**c2_pars)(tsteps), ls='--', label='class2_model_fit_decline')\n",
      "plt.scatter(c2_detection_time,noisy_flux)\n",
      "plt.errorbar(c2_detection_time,noisy_flux, yerr=1*sigma, c=current_palette[2], elinewidth=4, ms=16, marker='.')\n",
      "plt.errorbar(c2_detection_time,noisy_flux, yerr=2*sigma, c=current_palette[2], elinewidth=2)\n",
      "plt.ylim(0,1)\n",
      "plt.legend()"
     ],
     "language": "python",
     "metadata": {},
     "outputs": []
    },
    {
     "cell_type": "code",
     "collapsed": false,
     "input": [
      "def log_prior(t0):\n",
      "    if -60<= t0 < 40.:\n",
      "        return 0.0\n",
      "    return -np.inf\n",
      "\n",
      "def log_prob(t0, tf, model, sigma):\n",
      "    lp = log_prior(t0)\n",
      "    if not np.isfinite(lp):\n",
      "        prob = -np.inf\n",
      "    else:\n",
      "        prob = log_likelihood(t0, tf, model, sigma)\n",
      "#     if prob < 1e-1:\n",
      "#         return -np.inf\n",
      "    return prob"
     ],
     "language": "python",
     "metadata": {},
     "outputs": []
    },
    {
     "cell_type": "code",
     "collapsed": false,
     "input": [
      "ndim = 1  # number of parameters in the model\n",
      "nwalkers = 50  # number of MCMC walkers\n",
      "nsteps = 1000  # number of MCMC steps to take\n",
      "nburn=100\n",
      "\n",
      "#for PT\n",
      "ntemps=20\n",
      "\n",
      "starting_point = c2_t0_guess\n",
      "# starting_point = results.x\n",
      "\n",
      "pos = [starting_point+ 1e-4*np.random.randn(ndim) for i in range(nwalkers)]\n",
      "\n",
      "prop_scale=2\n",
      "\n",
      "nwalkers= nwalkers*ntemps\n",
      "sampler = emcee.EnsembleSampler(nwalkers, ndim, log_prob, \n",
      "                                a=prop_scale, \n",
      "                                args=((t_data,noisy_flux),true_class2,sigma),\n",
      "                                threads=4)\n",
      "\n",
      "# pos0 = [starting_point+ 1e-4*np.random.randn(ndim) for i in range(nwalkers)]\n",
      "pos0 = np.random.uniform(low=-1.0, high=1.0, size=(nwalkers, ndim))\n",
      "\n",
      "#PT needs extra Ntemps dimension:\n",
      "\n",
      "# pos0 = np.random.uniform(low=-1.0, high=1.0, size=(ntemps, nwalkers, ndim))\n",
      "# sampler = emcee.PTSampler(ntemps,\n",
      "#                           nwalkers, ndim, \n",
      "#                           logl=log_likelihood,\n",
      "#                           logp=log_prior, \n",
      "# #                           a=prop_scale, \n",
      "#                           loglargs=[(t_data,noisy_flux),true_class2,sigma],\n",
      "#                           logpargs=[],\n",
      "#                           threads=4\n",
      "#                           )\n",
      "sampler.reset()\n",
      "_=sampler.run_mcmc(pos0, nsteps)\n",
      "print \"Done\""
     ],
     "language": "python",
     "metadata": {},
     "outputs": []
    },
    {
     "cell_type": "code",
     "collapsed": false,
     "input": [
      "sampler.chain.shape"
     ],
     "language": "python",
     "metadata": {},
     "outputs": []
    },
    {
     "cell_type": "code",
     "collapsed": false,
     "input": [
      "plotchain=sampler.chain\n",
      "# plotchain=sampler.chain[0]\n",
      "\n",
      "plt.subplot(2,1,1)\n",
      "for walker in plotchain[:,:,:]:\n",
      "    plt.plot(walker)\n",
      "plt.axvline(nburn, ls=':', color='k')\n",
      "acorr = np.ceil(np.max(sampler.get_autocorr_time()))\n",
      "print \"Acorr\",sampler.get_autocorr_time()\n",
      "print \"Acceptance\",sampler.acceptance_fraction[0]\n",
      "plt.subplot(2,1,2)\n",
      "for walker in plotchain[:,::acorr,:]:\n",
      "    plt.plot(walker)"
     ],
     "language": "python",
     "metadata": {},
     "outputs": []
    },
    {
     "cell_type": "code",
     "collapsed": false,
     "input": [
      "sampler.acor"
     ],
     "language": "python",
     "metadata": {},
     "outputs": []
    },
    {
     "cell_type": "code",
     "collapsed": false,
     "input": [
      "plt.hist(plotchain[:,nburn::1,:].ravel(),normed=True,alpha=0.8)\n",
      "plt.hist(plotchain[:,nburn::acorr,:].ravel(),normed=True,alpha=0.5)"
     ],
     "language": "python",
     "metadata": {},
     "outputs": []
    },
    {
     "cell_type": "code",
     "collapsed": false,
     "input": [
      "samples=sampler.chain[:,nburn::acorr,:].ravel()\n",
      "# samples=sampler.chain[0][:,nburn::acorr,:].ravel()"
     ],
     "language": "python",
     "metadata": {},
     "outputs": []
    },
    {
     "cell_type": "code",
     "collapsed": false,
     "input": [
      "plt.plot(tsteps,true_class2(tsteps-true_t0), ls='--', label='true')\n",
      "plt.plot(tsteps,zero_t0_class2(tsteps-11), label='guess1')\n",
      "plt.plot(tsteps,zero_t0_class2(tsteps-(-20)),  label='guess2')\n",
      "plt.scatter(c2_detection_time,noisy_flux)\n",
      "plt.errorbar(c2_detection_time,noisy_flux, yerr=sigma)\n",
      "plt.ylim(0,2)\n",
      "plt.legend()"
     ],
     "language": "python",
     "metadata": {},
     "outputs": []
    },
    {
     "cell_type": "code",
     "collapsed": false,
     "input": [
      "plt.plot(tsteps,true_class2(tsteps), ls='--', label='true')\n",
      "plt.plot(tsteps,zero_t0_class2(tsteps-c2_t0_guess), label='MAP')\n",
      "plt.plot(tsteps,zero_t0_class2(tsteps-np.mean(samples)), label='MCMC mean')\n",
      "plt.scatter(c2_detection_time,noisy_flux)\n",
      "plt.errorbar(c2_detection_time,noisy_flux, yerr=sigma)\n",
      "plt.xlim(-10,20)\n",
      "plt.ylim(0,1)\n",
      "plt.legend()"
     ],
     "language": "python",
     "metadata": {},
     "outputs": []
    },
    {
     "cell_type": "code",
     "collapsed": false,
     "input": [
      "print len(samples)\n",
      "subsamples_t0 = samples[np.random.randint(len(samples),size=1000)]\n",
      "curves = [ zero_t0_class2(tsteps - t0)  for t0 in subsamples_t0]\n",
      "np.asarray(curves).shape"
     ],
     "language": "python",
     "metadata": {},
     "outputs": []
    },
    {
     "cell_type": "code",
     "collapsed": false,
     "input": [
      "subsamples_t0"
     ],
     "language": "python",
     "metadata": {},
     "outputs": []
    },
    {
     "cell_type": "code",
     "collapsed": false,
     "input": [
      "#Forecast:\n",
      "t_forecast= 15\n",
      "forecast_data=[zero_t0_class2(t_forecast - t0) for t0 in samples]"
     ],
     "language": "python",
     "metadata": {},
     "outputs": []
    },
    {
     "cell_type": "code",
     "collapsed": false,
     "input": [
      "from matplotlib import gridspec\n",
      "\n",
      "fig = plt.figure() \n",
      "# fig, axes = plt.subplots(nrows=1, ncols=2,\n",
      "# #                          sharey=True, \n",
      "# #                          figsize=(18,6)\n",
      "#                          )\n",
      "\n",
      "seaborn.set_context('poster')\n",
      "gs = gridspec.GridSpec(1,2, width_ratios=[3,1])\n",
      "\n",
      "ts_axes = plt.subplot(gs[0])\n",
      "\n",
      "seaborn.tsplot( curves,  tsteps, err_style=\"unit_traces\", ax=ts_axes)\n",
      "# seaborn.tsplot(curves,  tsteps, \n",
      "#                err_style=\"ci_band\",\n",
      "#                color='k', ax=ts_axes)\n",
      "ts_axes.plot(tsteps,true_class2(tsteps), ls='--', c='y',label='true', lw='5')\n",
      "\n",
      "ts_axes.scatter(t_data,noisy_flux, c='r', zorder=10)\n",
      "ts_axes.errorbar(t_data,noisy_flux, c='y',yerr=sigma,zorder=10)\n",
      "ts_axes.axvline(t_forecast, ls=':')\n",
      "ts_axes.axhline(np.mean(forecast_data), ls=':')\n",
      "\n",
      "hist_axes = plt.subplot(gs[1])\n",
      "hist_axes.hist(forecast_data, orientation='horizontal')\n",
      "_=hist_axes.set_ylim(ts_axes.get_ylim())"
     ],
     "language": "python",
     "metadata": {},
     "outputs": []
    },
    {
     "cell_type": "code",
     "collapsed": false,
     "input": [],
     "language": "python",
     "metadata": {},
     "outputs": []
    }
   ],
   "metadata": {}
  }
 ]
}