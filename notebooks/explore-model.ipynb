{
 "cells": [
  {
   "cell_type": "code",
   "execution_count": null,
   "metadata": {
    "collapsed": false
   },
   "outputs": [],
   "source": [
    "%matplotlib inline\n",
    "%load_ext autoreload\n",
    "%autoreload 2\n",
    "from datetime import date, datetime, timedelta, time\n",
    "import pandas as pd\n",
    "import seaborn\n",
    "import matplotlib.pyplot as plt\n",
    "import matplotlib as mpl\n",
    "import numpy as np\n",
    "import IPython.html.widgets as widgets"
   ]
  },
  {
   "cell_type": "code",
   "execution_count": null,
   "metadata": {
    "collapsed": true
   },
   "outputs": [],
   "source": [
    "import scipy\n",
    "from scipy.stats import norm\n",
    "import scipy.optimize as op\n",
    "import emcee\n",
    "import triangle"
   ]
  },
  {
   "cell_type": "code",
   "execution_count": null,
   "metadata": {
    "collapsed": true
   },
   "outputs": [],
   "source": [
    "seaborn.set_context('talk')"
   ]
  },
  {
   "cell_type": "code",
   "execution_count": null,
   "metadata": {
    "collapsed": true
   },
   "outputs": [],
   "source": [
    "seaborn.set_context('poster')\n",
    "bigfontsize=40\n",
    "labelfontsize=35\n",
    "tickfontsize=25\n",
    "# seaborn.set_context('talk')\n",
    "# bigfontsize=30\n",
    "# labelfontsize=25\n",
    "# tickfontsize=20\n",
    "\n",
    "plt.rcParams.update({'font.size': bigfontsize})"
   ]
  },
  {
   "cell_type": "code",
   "execution_count": null,
   "metadata": {
    "collapsed": false
   },
   "outputs": [],
   "source": [
    "import simtransient as st\n",
    "import simtransient.utils as stutils\n",
    "from simtransient import hammer\n",
    "from simtransient.models.supernova import Sn1aOpticalEnsemble, Sn2OpticalEnsemble"
   ]
  },
  {
   "cell_type": "code",
   "execution_count": null,
   "metadata": {
    "collapsed": false
   },
   "outputs": [],
   "source": [
    "Sn2OpticalEnsemble"
   ]
  },
  {
   "cell_type": "code",
   "execution_count": null,
   "metadata": {
    "collapsed": false
   },
   "outputs": [],
   "source": [
    "ens = Sn1aOpticalEnsemble()\n",
    "# ens = Sn2OpticalEnsemble()"
   ]
  },
  {
   "cell_type": "code",
   "execution_count": null,
   "metadata": {
    "collapsed": false
   },
   "outputs": [],
   "source": [
    "np.linalg.det(ens.gauss_cov)"
   ]
  },
  {
   "cell_type": "code",
   "execution_count": null,
   "metadata": {
    "collapsed": false
   },
   "outputs": [],
   "source": [
    "ens.gauss_pars"
   ]
  },
  {
   "cell_type": "code",
   "execution_count": null,
   "metadata": {
    "collapsed": false
   },
   "outputs": [],
   "source": [
    "print np.linalg.det(ens.gauss_cov), np.prod(ens.gauss_pars.T.mu)\n",
    "print np.linalg.det(ens.gauss_cov)/np.prod(ens.gauss_pars.T.mu),"
   ]
  },
  {
   "cell_type": "code",
   "execution_count": null,
   "metadata": {
    "collapsed": false
   },
   "outputs": [],
   "source": [
    "ens.gauss_correlations"
   ]
  },
  {
   "cell_type": "code",
   "execution_count": null,
   "metadata": {
    "collapsed": false
   },
   "outputs": [],
   "source": [
    "# from scipy.stats import multivariate_normal\n",
    "# gauss_hypers_rv = multivariate_normal(mean=ens.gauss_pars.loc['mu'], cov=ens.gauss_cov)"
   ]
  },
  {
   "cell_type": "code",
   "execution_count": null,
   "metadata": {
    "collapsed": false
   },
   "outputs": [],
   "source": [
    "sampler, init_ball = hammer.prep_ensemble_sampler(ens.gauss_pars.T.mu.values, \n",
    "                                       ens.gauss_lnprior, \n",
    "                                       args=[],\n",
    "                                       nwalkers=100,\n",
    "                                       ballsize=1e-4,\n",
    "                                       threads=4)\n",
    "_ = sampler.run_mcmc(init_ball, N=800)"
   ]
  },
  {
   "cell_type": "code",
   "execution_count": null,
   "metadata": {
    "collapsed": false
   },
   "outputs": [],
   "source": [
    "cs, sample = st.hammer.trim_chain(sampler, pt=False)"
   ]
  },
  {
   "cell_type": "code",
   "execution_count": null,
   "metadata": {
    "collapsed": false
   },
   "outputs": [],
   "source": [
    "st.plot.chain.all_walkers(sampler.chain, cs, ens.gauss_pars.keys())"
   ]
  },
  {
   "cell_type": "code",
   "execution_count": null,
   "metadata": {
    "collapsed": false
   },
   "outputs": [],
   "source": [
    "# true_params = pd.Series(index=ens.gauss_pars.keys(), \n",
    "#                         data=gauss_hypers_rv.rvs(), \n",
    "#                         name=\"true_params\")\n",
    "true_params = pd.Series(index=ens.gauss_pars.keys(), \n",
    "                data=sample[np.random.choice(len(sample))],\n",
    "                         name=\"true_params\")\n",
    "true_params['t0']=0\n",
    "true_params"
   ]
  },
  {
   "cell_type": "code",
   "execution_count": null,
   "metadata": {
    "collapsed": false
   },
   "outputs": [],
   "source": [
    "true_curve = ens.get_curve(**true_params)\n",
    "# true_curve"
   ]
  },
  {
   "cell_type": "code",
   "execution_count": null,
   "metadata": {
    "collapsed": false
   },
   "outputs": [],
   "source": [
    "# n_samples=5000\n",
    "# sample = gauss_hypers_rv.rvs(n_samples)\n",
    "\n",
    "\n",
    "seaborn.set_context('poster')\n",
    "seaborn.set_style('dark')\n",
    "_=triangle.corner(sample,\n",
    "                 labels=ens.gauss_pars.keys(),\n",
    "#                  quantiles=[0.05, 0.5, 0.95],\n",
    "#                  truths=true_params\n",
    "                 )\n",
    "plt.savefig('multivar.pdf')"
   ]
  },
  {
   "cell_type": "code",
   "execution_count": null,
   "metadata": {
    "collapsed": false
   },
   "outputs": [],
   "source": [
    "true_params"
   ]
  },
  {
   "cell_type": "code",
   "execution_count": null,
   "metadata": {
    "collapsed": false
   },
   "outputs": [],
   "source": [
    "sample[0]"
   ]
  },
  {
   "cell_type": "code",
   "execution_count": null,
   "metadata": {
    "collapsed": false
   },
   "outputs": [],
   "source": [
    "\n",
    "def plt_traces(ntrace):\n",
    "#     ntrace=int(ntrace)\n",
    "    \n",
    "    subsamples = sample[np.random.choice(len(sample), size=ntrace, replace=False)]\n",
    "\n",
    "    t=np.linspace(-20, 80,1000)\n",
    "    lcs=[]\n",
    "    for pltpars in subsamples:\n",
    "#         print \"PLTPLARS:\", pltpars\n",
    "        lcs.append(ens.evaluate(t,*pltpars,t0=10))\n",
    "    lcs=np.array(lcs)\n",
    "    seaborn.tsplot( lcs,  t, err_style=\"unit_traces\", ls='')\n",
    "    plt.xlabel('Time')\n",
    "    plt.ylabel('Flux')\n",
    "\n",
    "# widgets.interact_manual(plt_traces, \n",
    "#          ntrace=(0,150),\n",
    "#         )\n",
    "plt_traces(50)\n",
    "plt.ylim(0,18)\n",
    "# plt.savefig('lc_family.pdf')"
   ]
  },
  {
   "cell_type": "code",
   "execution_count": null,
   "metadata": {
    "collapsed": true
   },
   "outputs": [],
   "source": [
    "# ens = Sn1aOpticalEnsemble()\n",
    "# ens = Sn2OpticalEnsemble()"
   ]
  },
  {
   "cell_type": "code",
   "execution_count": null,
   "metadata": {
    "collapsed": false
   },
   "outputs": [],
   "source": [
    "param_ranges = pd.DataFrame(columns = ens.gauss_pars.keys())\n",
    "n_sigma = 2\n",
    "param_ranges.loc['min'] = ens.gauss_pars.T.mu - n_sigma*ens.gauss_pars.T.sigma\n",
    "param_ranges.loc['max'] = ens.gauss_pars.T.mu + n_sigma*ens.gauss_pars.T.sigma\n",
    "param_ranges.loc['step'] = ens.gauss_pars.T.sigma\n",
    "\n",
    "# param_ranges.b['max']=10e-3\n",
    "param_ranges"
   ]
  },
  {
   "cell_type": "code",
   "execution_count": null,
   "metadata": {
    "collapsed": false
   },
   "outputs": [],
   "source": [
    "interact_ranges = dict(zip(param_ranges.keys(), param_ranges.values.T))\n",
    "interact_ranges = {k:tuple(v) for k,v in interact_ranges.items()}\n",
    "interact_ranges"
   ]
  },
  {
   "cell_type": "code",
   "execution_count": null,
   "metadata": {
    "collapsed": false
   },
   "outputs": [],
   "source": [
    "print ens.curve_class.__doc__"
   ]
  },
  {
   "cell_type": "code",
   "execution_count": null,
   "metadata": {
    "collapsed": false
   },
   "outputs": [],
   "source": [
    "seaborn.set_style('darkgrid')\n",
    "tsteps=np.linspace(-100, 100,1000)\n",
    "\n",
    "def curveplot(**kwargs):\n",
    "    curve = ens.get_curve(**kwargs)\n",
    "#     print curve\n",
    "    flux = curve(tsteps)\n",
    "    plt.plot(tsteps,flux)\n",
    "    plt.ylim(0,10)\n",
    "    plt.xlim(-40,100)\n",
    "    plt.xlabel('Time')\n",
    "    plt.ylabel('Flux')\n",
    "#     plt.suptitle('A parametric model')\n",
    "\n",
    "widgets.interact(curveplot, t0=widgets.fixed(0), **interact_ranges)\n",
    "#plt.savefig('parametric.pdf')"
   ]
  },
  {
   "cell_type": "code",
   "execution_count": null,
   "metadata": {
    "collapsed": true
   },
   "outputs": [],
   "source": []
  }
 ],
 "metadata": {
  "kernelspec": {
   "display_name": "Python 2",
   "language": "python",
   "name": "python2"
  },
  "language_info": {
   "codemirror_mode": {
    "name": "ipython",
    "version": 2
   },
   "file_extension": ".py",
   "mimetype": "text/x-python",
   "name": "python",
   "nbconvert_exporter": "python",
   "pygments_lexer": "ipython2",
   "version": "2.7.6"
  }
 },
 "nbformat": 4,
 "nbformat_minor": 0
}
