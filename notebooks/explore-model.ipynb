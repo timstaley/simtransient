{
 "cells": [
  {
   "cell_type": "code",
   "execution_count": null,
   "metadata": {
    "collapsed": false
   },
   "outputs": [],
   "source": [
    "%matplotlib inline\n",
    "%load_ext autoreload\n",
    "%autoreload 2\n",
    "from datetime import date, datetime, timedelta, time\n",
    "import pandas as pd\n",
    "import seaborn\n",
    "import matplotlib.pyplot as plt\n",
    "import matplotlib as mpl\n",
    "import numpy as np\n",
    "from IPython.html.widgets import interact, fixed"
   ]
  },
  {
   "cell_type": "code",
   "execution_count": null,
   "metadata": {
    "collapsed": true
   },
   "outputs": [],
   "source": [
    "import scipy\n",
    "from scipy.stats import norm\n",
    "import scipy.optimize as op\n",
    "import emcee"
   ]
  },
  {
   "cell_type": "code",
   "execution_count": null,
   "metadata": {
    "collapsed": true
   },
   "outputs": [],
   "source": [
    "seaborn.set_context('poster')"
   ]
  },
  {
   "cell_type": "code",
   "execution_count": null,
   "metadata": {
    "collapsed": false
   },
   "outputs": [],
   "source": [
    "from simtransient.models.supernova import Sn1aOpticalEnsemble"
   ]
  },
  {
   "cell_type": "code",
   "execution_count": null,
   "metadata": {
    "collapsed": false
   },
   "outputs": [],
   "source": [
    "Sn1aOpticalEnsemble.free_pars"
   ]
  },
  {
   "cell_type": "code",
   "execution_count": null,
   "metadata": {
    "collapsed": false
   },
   "outputs": [],
   "source": [
    "Sn1aOpticalEnsemble.gauss_pars"
   ]
  },
  {
   "cell_type": "code",
   "execution_count": null,
   "metadata": {
    "collapsed": false
   },
   "outputs": [],
   "source": [
    "Sn1aOpticalEnsemble.gauss_correlations"
   ]
  },
  {
   "cell_type": "code",
   "execution_count": null,
   "metadata": {
    "collapsed": false
   },
   "outputs": [],
   "source": [
    "ens = Sn1aOpticalEnsemble()"
   ]
  },
  {
   "cell_type": "code",
   "execution_count": null,
   "metadata": {
    "collapsed": false
   },
   "outputs": [],
   "source": [
    "print \"det:\", np.linalg.det(ens.gauss_cov)\n",
    "ens.gauss_cov"
   ]
  },
  {
   "cell_type": "code",
   "execution_count": null,
   "metadata": {
    "collapsed": false
   },
   "outputs": [],
   "source": [
    "from scipy.stats import multivariate_normal\n",
    "rv = multivariate_normal(mean=ens.gauss_pars.loc['mu'], cov=ens.gauss_cov)"
   ]
  },
  {
   "cell_type": "code",
   "execution_count": null,
   "metadata": {
    "collapsed": false
   },
   "outputs": [],
   "source": [
    "n_samples=5000\n",
    "sample = rv.rvs(n_samples)\n",
    "import triangle\n",
    "true_params = rv.rvs()\n",
    "_=triangle.corner(sample,\n",
    "                 labels=ens.gauss_pars.keys(),\n",
    "                 quantiles=[0.05, 0.5, 0.95],\n",
    "                 truths=true_params)"
   ]
  },
  {
   "cell_type": "code",
   "execution_count": null,
   "metadata": {
    "collapsed": false
   },
   "outputs": [],
   "source": [
    "list(true_params)"
   ]
  },
  {
   "cell_type": "code",
   "execution_count": null,
   "metadata": {
    "collapsed": false
   },
   "outputs": [],
   "source": [
    "@interact(start=(0,n_samples-1,1),ntrace=(1,150,1))\n",
    "def plt_traces(start=0,ntrace=50):\n",
    "    stop = min(start+ntrace, n_samples)\n",
    "    plt_samples = sample[start:stop]\n",
    "    lcs = []\n",
    "    t=np.linspace(-20, 80,1000)\n",
    "    for pltpars in plt_samples:\n",
    "        lcs.append(ens.evaluate(t,*pltpars,t0=0))\n",
    "    seaborn.tsplot( lcs,  t, err_style=\"unit_traces\", ls='')\n"
   ]
  },
  {
   "cell_type": "code",
   "execution_count": null,
   "metadata": {
    "collapsed": false
   },
   "outputs": [],
   "source": [
    "@interact(a=(0.9,1.4,0.1), rise_tau=(2.5,3.5,0.1), decay_tau=(12,20,0.1), t0=fixed(0))\n",
    "def plot_sne(a,rise_tau,decay_tau):\n",
    "    sn_instance = ens.get_curve(a,rise_tau,decay_tau)\n",
    "    t=np.linspace(-rise_tau*5, decay_tau*5,1000)\n",
    "#     flux = sn_instance(t)\n",
    "    flux = ens.evaluate(t,a,rise_tau,decay_tau,t0=0)\n",
    "    plt.plot(t,flux)\n",
    "    plt.ylim(0,2)\n",
    "    plt.xlim(-15,80)\n",
    "    if False:\n",
    "        triangle.corner(sample,\n",
    "                     labels=ens.gpars.keys(),\n",
    "                     truths=(a,rise_tau,decay_tau)\n",
    "                       )"
   ]
  },
  {
   "cell_type": "code",
   "execution_count": null,
   "metadata": {
    "collapsed": true
   },
   "outputs": [],
   "source": []
  }
 ],
 "metadata": {
  "kernelspec": {
   "display_name": "Python 2",
   "language": "python",
   "name": "python2"
  },
  "language_info": {
   "codemirror_mode": {
    "name": "ipython",
    "version": 2
   },
   "file_extension": ".py",
   "mimetype": "text/x-python",
   "name": "python",
   "nbconvert_exporter": "python",
   "pygments_lexer": "ipython2",
   "version": "2.7.6"
  }
 },
 "nbformat": 4,
 "nbformat_minor": 0
}
