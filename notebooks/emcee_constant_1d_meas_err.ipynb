{
 "metadata": {
  "name": "",
  "signature": "sha256:55c598c466f943d53239e485f8c5d6317a71851df8a2196fd9c7238ebe63d55c"
 },
 "nbformat": 3,
 "nbformat_minor": 0,
 "worksheets": [
  {
   "cells": [
    {
     "cell_type": "code",
     "collapsed": false,
     "input": [
      "%matplotlib inline\n",
      "from IPython.html.widgets import interact\n",
      "import matplotlib.pyplot as plt\n",
      "import seaborn"
     ],
     "language": "python",
     "metadata": {},
     "outputs": []
    },
    {
     "cell_type": "code",
     "collapsed": false,
     "input": [
      "import numpy as np\n",
      "import emcee\n",
      "import scipy.stats as stats"
     ],
     "language": "python",
     "metadata": {},
     "outputs": []
    },
    {
     "cell_type": "markdown",
     "metadata": {},
     "source": [
      "Unknown constant intrinsic quantity $\\alpha$,\n",
      "measured via multiple noisy observations $\\{x_i\\}$;\n",
      "\n",
      "$$\n",
      "P(x_i~|~\\alpha,  \\sigma) = \\frac{1}{\\sqrt{2\\pi\\sigma^2}} \\exp\\left[\\frac{-[x_i-\\alpha]^2}{2\\sigma^2}\\right]\n",
      "$$\n",
      "\n",
      "\n",
      "Multiplying these for all $i$ gives the likelihood:\n",
      "$$\n",
      "P(\\{x_i\\}~|~\\alpha, \\sigma) = (2\\pi\\sigma^2)^{-N/2} \\exp\n",
      "    \\left[- \\frac{1}{2\\sigma^2} \\sum_{i-1}^N [x_i - \\alpha]^2\n",
      "    \\right]\n",
      "$$\n",
      "so the likelihood can be rearranged as:\n",
      "$$\n",
      "ln\\left[P(\\{x_i\\}~|~\\alpha, \\sigma)\\right] =   -0.5*N*ln[2\\pi\\sigma^2] + \\left[- 0.5 \\sum_{i=1}^N [x_i - \\alpha]^2 / \\sigma^2 \\right]\n",
      "$$\n",
      "or indeed \n",
      "$$\n",
      "\\qquad =  - 0.5 \\sum_{i=1}^N \\left[ ln[2\\pi\\sigma^2] + [x_i - \\alpha]^2 / \\sigma^2  \\right]\n",
      "$$"
     ]
    },
    {
     "cell_type": "code",
     "collapsed": false,
     "input": [
      "alpha = np.random.random()\n",
      "# alpha=0.95\n",
      "alpha"
     ],
     "language": "python",
     "metadata": {},
     "outputs": []
    },
    {
     "cell_type": "code",
     "collapsed": false,
     "input": [
      "sigma = 0.2\n",
      "\n",
      "def log_likelihood(alpha, x):\n",
      "    return -0.5 * np.sum(np.log(2 * np.pi * sigma ** 2) + (x - alpha) ** 2 / sigma ** 2)\n",
      "#     return -0.5 * np.sum( ((x - alpha)/sigma)**2 )"
     ],
     "language": "python",
     "metadata": {},
     "outputs": []
    },
    {
     "cell_type": "code",
     "collapsed": false,
     "input": [
      "def log_prior(alpha):\n",
      "    if 0. <= alpha < 1.:\n",
      "        return 0.0\n",
      "    return -np.inf\n",
      "\n",
      "def log_prob(alpha, x):\n",
      "    lp = log_prior(alpha)\n",
      "    if not np.isfinite(lp):\n",
      "        prob = -np.inf\n",
      "    else:\n",
      "        prob = lp+log_likelihood(alpha,x)\n",
      "    return prob#, alpha*2"
     ],
     "language": "python",
     "metadata": {},
     "outputs": []
    },
    {
     "cell_type": "code",
     "collapsed": false,
     "input": [
      "n_samples = 2\n",
      "data = stats.norm.rvs(loc=alpha, scale=sigma, size=n_samples)\n",
      "# data = np.array([ 0.80008131,  0.942178  ])\n",
      "data"
     ],
     "language": "python",
     "metadata": {},
     "outputs": []
    },
    {
     "cell_type": "code",
     "collapsed": false,
     "input": [
      "import scipy.optimize as op\n",
      "neg_likelihood = lambda *args: -log_likelihood(*args)\n",
      "alpha_guess=0.\n",
      "result = op.minimize(neg_likelihood, alpha_guess, args=(data,))\n",
      "result.x\n",
      "# result['x']"
     ],
     "language": "python",
     "metadata": {},
     "outputs": []
    },
    {
     "cell_type": "code",
     "collapsed": false,
     "input": [
      "from statsmodels.nonparametric.kde import KDEUnivariate\n",
      "dens = KDEUnivariate(data)\n",
      "dens.fit()\n",
      "plt.plot(dens.support,dens.density)\n",
      "plt.plot(dens.support,dens.cdf)\n",
      "# plt.plot(data,np.full_like(data, 0.1),'|', color='k', mew=2)\n",
      "seaborn.rugplot(data, \n",
      "                color='k'\n",
      "                )\n",
      "plt.axvline(alpha, c='r', label='Truth')"
     ],
     "language": "python",
     "metadata": {},
     "outputs": []
    },
    {
     "cell_type": "code",
     "collapsed": false,
     "input": [
      "plt.hist(data, normed=True)\n",
      "plt.axvline(alpha, c='r', label='Truth')\n",
      "plt.axvline(result.x, ls='--', label='MAP', c='y')\n",
      "pdf_support = np.linspace(alpha-3*sigma,alpha+3*sigma,100)\n",
      "plt.plot(pdf_support,stats.norm(loc=alpha,scale=sigma).pdf(pdf_support))\n",
      "plt.plot(dens.support,dens.density)\n",
      "plt.legend()"
     ],
     "language": "python",
     "metadata": {},
     "outputs": []
    },
    {
     "cell_type": "code",
     "collapsed": false,
     "input": [
      "ndim = 1  # number of parameters in the model\n",
      "nwalkers = 10  # number of MCMC walkers\n",
      "nburn = 100  # \"burn-in\" period to let chains stabilize\n",
      "nsteps = 5000  # number of MCMC steps to take\n",
      "\n",
      "pos = [result.x + 1e-5*np.random.randn(ndim) for i in range(nwalkers)]\n",
      "# pos = [0.5 + 1e-4*np.random.randn(ndim) for i in range(nwalkers)]\n",
      "# set theta near the maximum likelihood, with \n",
      "# sampler.reset()\n",
      "# sampler = emcee.EnsembleSampler(nwalkers, ndim, log_likelihood, args=(data,))\n",
      "sampler = emcee.EnsembleSampler(nwalkers, ndim, log_prob, args=(data,))\n",
      "sampler.reset()\n",
      "_=sampler.run_mcmc(pos, nsteps)\n",
      "for walker in sampler.chain:\n",
      "    plt.plot(walker)"
     ],
     "language": "python",
     "metadata": {},
     "outputs": []
    },
    {
     "cell_type": "code",
     "collapsed": false,
     "input": [
      "acorr = np.ceil(sampler.get_autocorr_time())\n",
      "acorr"
     ],
     "language": "python",
     "metadata": {},
     "outputs": []
    },
    {
     "cell_type": "code",
     "collapsed": false,
     "input": [
      "thinned_samples = sampler.chain[:,200::acorr,:]\n",
      "for walker in thinned_samples:\n",
      "    plt.plot(walker)\n",
      "print len(thinned_samples[0])"
     ],
     "language": "python",
     "metadata": {},
     "outputs": []
    },
    {
     "cell_type": "code",
     "collapsed": false,
     "input": [
      "# samples = sampler.chain[:,150::,:].ravel()\n",
      "samples = thinned_samples.ravel()\n",
      "# plt.scatter(data, 2*np.ones_like(data))\n",
      "plt.hist(samples, normed=True, alpha=0.5)\n",
      "plt.axvline(alpha, c='r', label='Truth')\n",
      "plt.axvline(result.x, ls='--', label='MAP')\n",
      "# plt.ylim(0,5)\n",
      "plt.axvline(np.mean(samples), c='k', label='MC mean', ls='--')\n",
      "\n",
      "plt.plot(np.sort(samples), np.indices(samples.shape).ravel()/float(len(samples)), label='Cumulative Freq')\n",
      "# plt.plot(np.sort(samples), np.indices(samples.shape).ravel()/float(len(samples)))\n",
      "plt.axhline(0.16, ls=':')\n",
      "plt.axhline(0.5, ls=':')\n",
      "plt.axhline(0.84, ls=':')\n",
      "pdf_support = np.linspace(alpha-3,alpha+3,100)\n",
      "plt.plot(pdf_support,stats.norm(loc=alpha, scale=sigma).pdf(pdf_support), label=\"True dist\", ls='-.')\n",
      "plt.legend()\n",
      "\n",
      "\n",
      "# plt.ylim(0,1)\n",
      "plt.xlim(alpha-2*sigma,alpha+sigma)\n",
      "print alpha, np.mean(samples), result.x\n",
      "print (alpha - np.mean(samples))/sigma"
     ],
     "language": "python",
     "metadata": {},
     "outputs": []
    },
    {
     "cell_type": "code",
     "collapsed": false,
     "input": [],
     "language": "python",
     "metadata": {},
     "outputs": []
    },
    {
     "cell_type": "code",
     "collapsed": false,
     "input": [],
     "language": "python",
     "metadata": {},
     "outputs": []
    },
    {
     "cell_type": "code",
     "collapsed": false,
     "input": [],
     "language": "python",
     "metadata": {},
     "outputs": []
    }
   ],
   "metadata": {}
  }
 ]
}